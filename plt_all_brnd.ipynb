{
 "cells": [
  {
   "cell_type": "code",
   "execution_count": 24,
   "metadata": {
    "collapsed": true
   },
   "outputs": [],
   "source": [
    "import pandas as pd"
   ]
  },
  {
   "cell_type": "code",
   "execution_count": 25,
   "metadata": {
    "collapsed": true
   },
   "outputs": [],
   "source": [
    "%matplotlib inline "
   ]
  },
  {
   "cell_type": "code",
   "execution_count": 34,
   "metadata": {
    "collapsed": false
   },
   "outputs": [],
   "source": [
    "df_ovr = pd.read_csv(\"df_datt.csv\")"
   ]
  },
  {
   "cell_type": "code",
   "execution_count": 35,
   "metadata": {
    "collapsed": false
   },
   "outputs": [
    {
     "data": {
      "text/html": [
       "<div>\n",
       "<table border=\"1\" class=\"dataframe\">\n",
       "  <thead>\n",
       "    <tr style=\"text-align: right;\">\n",
       "      <th></th>\n",
       "      <th>Profile_Feature</th>\n",
       "      <th>Conditional_probability_of_conversion_given_profile_feature_exists</th>\n",
       "    </tr>\n",
       "  </thead>\n",
       "  <tbody>\n",
       "    <tr>\n",
       "      <th>0</th>\n",
       "      <td>FirstName_exist</td>\n",
       "      <td>0.718883</td>\n",
       "    </tr>\n",
       "    <tr>\n",
       "      <th>1</th>\n",
       "      <td>LastName_exist</td>\n",
       "      <td>0.718968</td>\n",
       "    </tr>\n",
       "    <tr>\n",
       "      <th>2</th>\n",
       "      <td>profileUUID_exist</td>\n",
       "      <td>0.747233</td>\n",
       "    </tr>\n",
       "    <tr>\n",
       "      <th>3</th>\n",
       "      <td>SourceFacebookUserId_exist</td>\n",
       "      <td>0.744075</td>\n",
       "    </tr>\n",
       "    <tr>\n",
       "      <th>4</th>\n",
       "      <td>PublicProfileCompleteFlag_exist</td>\n",
       "      <td>0.762626</td>\n",
       "    </tr>\n",
       "    <tr>\n",
       "      <th>5</th>\n",
       "      <td>CurrentPublicProfilePictureId_exist</td>\n",
       "      <td>0.754613</td>\n",
       "    </tr>\n",
       "    <tr>\n",
       "      <th>6</th>\n",
       "      <td>ProfilePictureSource_exist</td>\n",
       "      <td>0.754613</td>\n",
       "    </tr>\n",
       "    <tr>\n",
       "      <th>7</th>\n",
       "      <td>DefaultProfilePictureFlag_exist</td>\n",
       "      <td>0.754613</td>\n",
       "    </tr>\n",
       "    <tr>\n",
       "      <th>8</th>\n",
       "      <td>About_exist</td>\n",
       "      <td>0.772333</td>\n",
       "    </tr>\n",
       "    <tr>\n",
       "      <th>9</th>\n",
       "      <td>Employer_exist</td>\n",
       "      <td>0.769104</td>\n",
       "    </tr>\n",
       "    <tr>\n",
       "      <th>10</th>\n",
       "      <td>Languages_exist</td>\n",
       "      <td>0.761070</td>\n",
       "    </tr>\n",
       "    <tr>\n",
       "      <th>11</th>\n",
       "      <td>School_exist</td>\n",
       "      <td>0.785528</td>\n",
       "    </tr>\n",
       "    <tr>\n",
       "      <th>12</th>\n",
       "      <td>Gender_exist</td>\n",
       "      <td>0.769169</td>\n",
       "    </tr>\n",
       "    <tr>\n",
       "      <th>13</th>\n",
       "      <td>HomeTown_exist</td>\n",
       "      <td>0.782988</td>\n",
       "    </tr>\n",
       "    <tr>\n",
       "      <th>14</th>\n",
       "      <td>M_Gender_cat</td>\n",
       "      <td>0.785815</td>\n",
       "    </tr>\n",
       "    <tr>\n",
       "      <th>15</th>\n",
       "      <td>F_Gender_cat</td>\n",
       "      <td>0.757552</td>\n",
       "    </tr>\n",
       "    <tr>\n",
       "      <th>16</th>\n",
       "      <td>SupplierType__FRBO</td>\n",
       "      <td>0.674433</td>\n",
       "    </tr>\n",
       "    <tr>\n",
       "      <th>17</th>\n",
       "      <td>SupplierType__IPM</td>\n",
       "      <td>0.933396</td>\n",
       "    </tr>\n",
       "    <tr>\n",
       "      <th>18</th>\n",
       "      <td>SupplierType__PM</td>\n",
       "      <td>0.626966</td>\n",
       "    </tr>\n",
       "  </tbody>\n",
       "</table>\n",
       "</div>"
      ],
      "text/plain": [
       "                        Profile_Feature  \\\n",
       "0                       FirstName_exist   \n",
       "1                        LastName_exist   \n",
       "2                     profileUUID_exist   \n",
       "3            SourceFacebookUserId_exist   \n",
       "4       PublicProfileCompleteFlag_exist   \n",
       "5   CurrentPublicProfilePictureId_exist   \n",
       "6            ProfilePictureSource_exist   \n",
       "7       DefaultProfilePictureFlag_exist   \n",
       "8                           About_exist   \n",
       "9                        Employer_exist   \n",
       "10                      Languages_exist   \n",
       "11                         School_exist   \n",
       "12                         Gender_exist   \n",
       "13                       HomeTown_exist   \n",
       "14                         M_Gender_cat   \n",
       "15                         F_Gender_cat   \n",
       "16                   SupplierType__FRBO   \n",
       "17                    SupplierType__IPM   \n",
       "18                     SupplierType__PM   \n",
       "\n",
       "    Conditional_probability_of_conversion_given_profile_feature_exists  \n",
       "0                                            0.718883                   \n",
       "1                                            0.718968                   \n",
       "2                                            0.747233                   \n",
       "3                                            0.744075                   \n",
       "4                                            0.762626                   \n",
       "5                                            0.754613                   \n",
       "6                                            0.754613                   \n",
       "7                                            0.754613                   \n",
       "8                                            0.772333                   \n",
       "9                                            0.769104                   \n",
       "10                                           0.761070                   \n",
       "11                                           0.785528                   \n",
       "12                                           0.769169                   \n",
       "13                                           0.782988                   \n",
       "14                                           0.785815                   \n",
       "15                                           0.757552                   \n",
       "16                                           0.674433                   \n",
       "17                                           0.933396                   \n",
       "18                                           0.626966                   "
      ]
     },
     "execution_count": 35,
     "metadata": {},
     "output_type": "execute_result"
    }
   ],
   "source": [
    "df_ovr"
   ]
  },
  {
   "cell_type": "code",
   "execution_count": 36,
   "metadata": {
    "collapsed": false
   },
   "outputs": [],
   "source": [
    "df_ovr = df_ovr.sort_values(by='Conditional_probability_of_conversion_given_profile_feature_exists')"
   ]
  },
  {
   "cell_type": "code",
   "execution_count": 37,
   "metadata": {
    "collapsed": false
   },
   "outputs": [
    {
     "data": {
      "text/plain": [
       "[<matplotlib.text.Text at 0x119d740d0>,\n",
       " <matplotlib.text.Text at 0x119d59950>,\n",
       " <matplotlib.text.Text at 0x119e37250>,\n",
       " <matplotlib.text.Text at 0x119e37990>,\n",
       " <matplotlib.text.Text at 0x119e40110>,\n",
       " <matplotlib.text.Text at 0x119e40850>,\n",
       " <matplotlib.text.Text at 0x119e49a50>,\n",
       " <matplotlib.text.Text at 0x119e40510>,\n",
       " <matplotlib.text.Text at 0x119e53b10>,\n",
       " <matplotlib.text.Text at 0x119e53f50>,\n",
       " <matplotlib.text.Text at 0x119e5c6d0>,\n",
       " <matplotlib.text.Text at 0x119e5ce10>,\n",
       " <matplotlib.text.Text at 0x119e64590>,\n",
       " <matplotlib.text.Text at 0x119e64cd0>,\n",
       " <matplotlib.text.Text at 0x119d74c10>,\n",
       " <matplotlib.text.Text at 0x119d6bc90>,\n",
       " <matplotlib.text.Text at 0x119d604d0>,\n",
       " <matplotlib.text.Text at 0x119d59450>,\n",
       " <matplotlib.text.Text at 0x119d4ef90>]"
      ]
     },
     "execution_count": 37,
     "metadata": {},
     "output_type": "execute_result"
    },
    {
     "data": {
      "image/png": "[encoded data removed]",
      "text/plain": [
       "<matplotlib.figure.Figure at 0x117647b90>"
      ]
     },
     "metadata": {},
     "output_type": "display_data"
    }
   ],
   "source": [
    "ax = df_ovr.plot(figsize=(20,10), kind='bar')\n",
    "ax.set_xticklabels(df_ovr.Profile_Feature.tolist())"
   ]
  },
  {
   "cell_type": "code",
   "execution_count": 38,
   "metadata": {
    "collapsed": true
   },
   "outputs": [],
   "source": [
    "fig = ax.get_figure()\n",
    "fig.subplots_adjust(bottom=0.3)\n",
    "fig.savefig('Downloads/CP_of_feature.pdf')"
   ]
  },
  {
   "cell_type": "code",
   "execution_count": null,
   "metadata": {
    "collapsed": true
   },
   "outputs": [],
   "source": []
  }
 ],
 "metadata": {
  "anaconda-cloud": {},
  "kernelspec": {
   "display_name": "Python [Root]",
   "language": "python",
   "name": "Python [Root]"
  },
  "language_info": {
   "codemirror_mode": {
    "name": "ipython",
    "version": 2
   },
   "file_extension": ".py",
   "mimetype": "text/x-python",
   "name": "python",
   "nbconvert_exporter": "python",
   "pygments_lexer": "ipython2",
   "version": "2.7.12"
  }
 },
 "nbformat": 4,
 "nbformat_minor": 0
}
