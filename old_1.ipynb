{
 "cells": [
  {
   "cell_type": "code",
   "execution_count": 1,
   "metadata": {
    "collapsed": true
   },
   "outputs": [],
   "source": [
    "import pandas as pd\n",
    "from sklearn.ensemble import (RandomForestClassifier,GradientBoostingClassifier,ExtraTreesClassifier)\n",
    "from scipy.stats import randint as sp_randint\n",
    "from sklearn.grid_search import RandomizedSearchCV\n",
    "from sqlalchemy import create_engine\n",
    "from xgboost.sklearn import XGBClassifier\n",
    "import numpy as np\n",
    "from matplotlib import pyplot as plt\n",
    "from sklearn import cross_validation"
   ]
  },
  {
   "cell_type": "code",
   "execution_count": 2,
   "metadata": {
    "collapsed": false
   },
   "outputs": [],
   "source": [
    "pd.set_option('max_columns',400)"
   ]
  },
  {
   "cell_type": "code",
   "execution_count": 3,
   "metadata": {
    "collapsed": true
   },
   "outputs": [],
   "source": [
    "f = open('DW_CREDS.csv', 'r')"
   ]
  },
  {
   "cell_type": "code",
   "execution_count": 4,
   "metadata": {
    "collapsed": true
   },
   "outputs": [],
   "source": [
    "all_creds = f.readlines()"
   ]
  },
  {
   "cell_type": "code",
   "execution_count": 5,
   "metadata": {
    "collapsed": false
   },
   "outputs": [],
   "source": [
    "username = all_creds[1].split(',')[0].strip()\n",
    "password = all_creds[1].split(',')[1].strip()\n",
    "f.close()"
   ]
  },
  {
   "cell_type": "code",
   "execution_count": 8,
   "metadata": {
    "collapsed": false
   },
   "outputs": [],
   "source": [
    "db02 = create_engine('mssql+pyodbc://wvrgroup\\\\'+ username +':'+ password +'@dw02')"
   ]
  },
  {
   "cell_type": "code",
   "execution_count": 9,
   "metadata": {
    "collapsed": false
   },
   "outputs": [],
   "source": [
    "db02_cnxn = db02.connect()"
   ]
  },
  {
   "cell_type": "code",
   "execution_count": 8,
   "metadata": {
    "collapsed": true
   },
   "outputs": [],
   "source": [
    "%matplotlib inline "
   ]
  },
  {
   "cell_type": "code",
   "execution_count": 10,
   "metadata": {
    "collapsed": true
   },
   "outputs": [],
   "source": [
    "# for i in list(df_Users.columns):\n",
    "#     try:\n",
    "#         print i\n",
    "#         fd = open('stats_users.csv','a')\n",
    "#         fd.write(i+'\\n')\n",
    "#         fd.close()\n",
    "#         df_trial_queries = pd.read_sql_query(\"SELECT {} FROM HA_User.dbo.Users\".format(i), db02_cnxn)\n",
    "#         df_value_cnt = pd.value_counts(df_trial_queries[i], dropna=False)[1:40]\n",
    "#         df_value_cnt.to_csv('stats_users.csv',encoding='utf-8' ,mode='a')\n",
    "#     except:\n",
    "#         pass"
   ]
  },
  {
   "cell_type": "code",
   "execution_count": 11,
   "metadata": {
    "collapsed": false
   },
   "outputs": [],
   "source": [
    "# df_UserPublicProfile = pd.read_sql_query(\"SELECT top(5) * FROM HA_User.dbo.UserPublicProfile;\",db02_cnxn)"
   ]
  },
  {
   "cell_type": "code",
   "execution_count": 12,
   "metadata": {
    "collapsed": false
   },
   "outputs": [],
   "source": [
    "# df_UserPublicProfile.head()"
   ]
  },
  {
   "cell_type": "code",
   "execution_count": 13,
   "metadata": {
    "collapsed": false
   },
   "outputs": [],
   "source": [
    "# query = db02_cnxn.execute(\"SELECT top(5) * FROM HA_User.dbo.Users;\")\n",
    "# query.first()"
   ]
  },
  {
   "cell_type": "code",
   "execution_count": 9,
   "metadata": {
    "collapsed": false
   },
   "outputs": [],
   "source": [
    "df_Users = pd.read_sql_query('''SELECT * FROM DW.dbo.Users u\n",
    "INNER JOIN DW.dbo.Email e ON e.EmailId = u.EmailId \n",
    "LEFT OUTER JOIN HA_User.dbo.UserPublicProfile upp  ON  upp.UserId = u.UserId \n",
    "LEFT OUTER JOIN HA_User.dbo.PublicProfilePicture ppp ON upp.CurrentPublicProfilePictureId = ppp.PublicProfilePictureId where u.FirstName like '%deepsagar%';''',db02_cnxn)"
   ]
  },
  {
   "cell_type": "code",
   "execution_count": 55,
   "metadata": {
    "collapsed": false
   },
   "outputs": [],
   "source": [
    "df_Users1 = pd.read_sql_query('''SELECT * FROM DW.dbo.QuoteFact qf \n",
    "JOIN DW.dbo.Quote q  ON q.QuoteId = qf.QuoteId\n",
    "JOIN DW.dbo.Customer c ON qf.CustomerId = c.CustomerId\n",
    "JOIN DW.dbo.Vw_Email e ON qf.TravelerId = e.EmailId\n",
    "JOIN DW.dbo.Brand b ON q.BrandId = b.BrandId\n",
    "JOIN DW.dbo.Users u ON e.EmailId = u.EmailId \n",
    "JOIN DW.dbo.Reservation r ON r.reservationId = qf.reservationId\n",
    "JOIN Dw.dbo.ReservationStatusType rst ON r.reservationstatusTypeId = rst.reservationStatusTypeId\n",
    "JOIN DW.dbo.ListingAttributes la ON la.ListingAttributesId = qf.ListingAttributesId\n",
    "JOIN HA_User.dbo.UserPublicProfile upp  ON  upp.UserId = u.UserId AND upp.ActiveFlag = 1\n",
    "JOIN HA_User.dbo.PublicProfilePicture ppp ON upp.CurrentPublicProfilePictureId = ppp.PublicProfilePictureId where u.UserName = 'deepsagar_lambor@yahoo.co.in';''',db02_cnxn)"
   ]
  },
  {
   "cell_type": "code",
   "execution_count": 10,
   "metadata": {
    "collapsed": false
   },
   "outputs": [
    {
     "data": {
      "text/html": [
       "<div>\n",
       "<table border=\"1\" class=\"dataframe\">\n",
       "  <thead>\n",
       "    <tr style=\"text-align: right;\">\n",
       "      <th></th>\n",
       "      <th>UserId</th>\n",
       "      <th>SourceUserId</th>\n",
       "      <th>UserGuid</th>\n",
       "      <th>LastLoginDate</th>\n",
       "      <th>LastFailedLoginDate</th>\n",
       "      <th>FailedLoginAttempts</th>\n",
       "      <th>FraudFlag</th>\n",
       "      <th>ActiveFlag</th>\n",
       "      <th>RegisteredFlag</th>\n",
       "      <th>BlockedFlag</th>\n",
       "      <th>BlockedDate</th>\n",
       "      <th>SecurityFailure</th>\n",
       "      <th>ScreenName</th>\n",
       "      <th>FirstName</th>\n",
       "      <th>MiddleName</th>\n",
       "      <th>LastName</th>\n",
       "      <th>LanCode</th>\n",
       "      <th>TimeZoneCode</th>\n",
       "      <th>Comment</th>\n",
       "      <th>CreateDate</th>\n",
       "      <th>UpdateDate</th>\n",
       "      <th>SourcePrimaryPhoneNumberId</th>\n",
       "      <th>PhoneNumber</th>\n",
       "      <th>SourceUserStatusId</th>\n",
       "      <th>UserStatus</th>\n",
       "      <th>Title</th>\n",
       "      <th>MaidenName</th>\n",
       "      <th>Suffix</th>\n",
       "      <th>CompanyName</th>\n",
       "      <th>PropertyMgrHAFlag</th>\n",
       "      <th>PropertyMgrMemberFlag</th>\n",
       "      <th>CreatedIPAddress</th>\n",
       "      <th>ScreenLocation</th>\n",
       "      <th>EmailSha1Hash</th>\n",
       "      <th>EmailMd5Hash</th>\n",
       "      <th>ActiveDirectoryFlag</th>\n",
       "      <th>MergeToUserGUID</th>\n",
       "      <th>SourceUserTypeId</th>\n",
       "      <th>UserType</th>\n",
       "      <th>EmailId</th>\n",
       "      <th>UserName</th>\n",
       "      <th>PublicUUID</th>\n",
       "      <th>Failed2FACodeAttempts</th>\n",
       "      <th>Failed2FACodeReceives</th>\n",
       "      <th>Generated2FACodes</th>\n",
       "      <th>IdentityUserGUID</th>\n",
       "      <th>IdentityEmailId</th>\n",
       "      <th>IdentityPublicUUID</th>\n",
       "      <th>SystemCodeTypeId</th>\n",
       "      <th>HomeAwayTransactionVersion</th>\n",
       "      <th>DWCreateDate</th>\n",
       "      <th>DWLastUpdateDate</th>\n",
       "      <th>EmailId</th>\n",
       "      <th>EmailAddress</th>\n",
       "      <th>DWCreateDate</th>\n",
       "      <th>DWUpdateDate</th>\n",
       "      <th>DeliverableFlag</th>\n",
       "      <th>BlacklistFlag</th>\n",
       "      <th>BlacklistSourceID</th>\n",
       "      <th>LastBounceFlag</th>\n",
       "      <th>InquirySpamFlag</th>\n",
       "      <th>InvalidFormatFlag</th>\n",
       "      <th>FirstInquiryDate</th>\n",
       "      <th>EmailUUID</th>\n",
       "      <th>GlobalSubscribed</th>\n",
       "      <th>GlobalUnsubDate</th>\n",
       "      <th>EmailAddressPunycode</th>\n",
       "      <th>PublicUUID</th>\n",
       "      <th>FirstName</th>\n",
       "      <th>LastName</th>\n",
       "      <th>CompanyName</th>\n",
       "      <th>UserGUID</th>\n",
       "      <th>TravelerFlag</th>\n",
       "      <th>OwnerFlag</th>\n",
       "      <th>ActiveDirectoryFlag</th>\n",
       "      <th>LastLoginDate</th>\n",
       "      <th>CreatedByProcessName</th>\n",
       "      <th>UserId</th>\n",
       "      <th>ProfileUuid</th>\n",
       "      <th>About</th>\n",
       "      <th>Employer</th>\n",
       "      <th>Languages</th>\n",
       "      <th>School</th>\n",
       "      <th>SourceFacebookUserId</th>\n",
       "      <th>AdditionalFieldsJson</th>\n",
       "      <th>CreateDate</th>\n",
       "      <th>UpdateDate</th>\n",
       "      <th>Gender</th>\n",
       "      <th>Hometown</th>\n",
       "      <th>ActiveFlag</th>\n",
       "      <th>Complete</th>\n",
       "      <th>CompleteDate</th>\n",
       "      <th>CurrentPublicProfilePictureId</th>\n",
       "      <th>UserPublicProfileId</th>\n",
       "      <th>PublicProfilePictureId</th>\n",
       "      <th>PublicProfilePictureUuid</th>\n",
       "      <th>ProfileUuid</th>\n",
       "      <th>Source</th>\n",
       "      <th>MediaCollectionItemUuid</th>\n",
       "      <th>MediaCollectionUuid</th>\n",
       "      <th>Variant</th>\n",
       "      <th>Default</th>\n",
       "      <th>CreateDate</th>\n",
       "      <th>CreateBy</th>\n",
       "      <th>UpdateDate</th>\n",
       "      <th>UpdateBy</th>\n",
       "    </tr>\n",
       "  </thead>\n",
       "  <tbody>\n",
       "    <tr>\n",
       "      <th>0</th>\n",
       "      <td>51386683</td>\n",
       "      <td>52150625</td>\n",
       "      <td>14064275399D4BAEABB0D50B0CE626A7</td>\n",
       "      <td>None</td>\n",
       "      <td>NaT</td>\n",
       "      <td>0</td>\n",
       "      <td>False</td>\n",
       "      <td>True</td>\n",
       "      <td>False</td>\n",
       "      <td>False</td>\n",
       "      <td>None</td>\n",
       "      <td>0</td>\n",
       "      <td>Deepsagar Lambor</td>\n",
       "      <td>Deepsagar</td>\n",
       "      <td>[Unknown]</td>\n",
       "      <td>Lambor</td>\n",
       "      <td>00</td>\n",
       "      <td>[Unknown]</td>\n",
       "      <td>[Unknown]</td>\n",
       "      <td>2016-08-11 10:28:30.763</td>\n",
       "      <td>2016-08-11 10:28:30.803</td>\n",
       "      <td>0</td>\n",
       "      <td>[Unknown]</td>\n",
       "      <td>1</td>\n",
       "      <td>GOOD_STANDING</td>\n",
       "      <td>[Unknown]</td>\n",
       "      <td>[Unknown]</td>\n",
       "      <td>[Unknown]</td>\n",
       "      <td>[Unknown]</td>\n",
       "      <td>False</td>\n",
       "      <td>False</td>\n",
       "      <td>[Unknown]</td>\n",
       "      <td>[Unknown]</td>\n",
       "      <td>dc507f3b6e08efaef0f0cd64c74ed9163144ef94</td>\n",
       "      <td>4a49fc8cfbd466783ada20e86f8dc2d2</td>\n",
       "      <td>True</td>\n",
       "      <td>[N/A]</td>\n",
       "      <td>1</td>\n",
       "      <td>INDIVIDUAL</td>\n",
       "      <td>100246228</td>\n",
       "      <td>dlambor@homeaway.com</td>\n",
       "      <td>FD415F92-345A-407D-9192-E97494A3BD43</td>\n",
       "      <td>0</td>\n",
       "      <td>0</td>\n",
       "      <td>0</td>\n",
       "      <td>14064275399D4BAEABB0D50B0CE626A7</td>\n",
       "      <td>100246228</td>\n",
       "      <td>FD415F92-345A-407D-9192-E97494A3BD43</td>\n",
       "      <td>23</td>\n",
       "      <td>[0, 0, 0, 0, 159, 42, 12, 186]</td>\n",
       "      <td>2016-08-11 21:08:31.150000</td>\n",
       "      <td>2016-08-12 04:03:11.083333</td>\n",
       "      <td>100246228</td>\n",
       "      <td>dlambor@homeaway.com</td>\n",
       "      <td>2016-08-12 04:03:11.083333</td>\n",
       "      <td>2016-08-13 06:46:16.663333</td>\n",
       "      <td>1</td>\n",
       "      <td>0</td>\n",
       "      <td>0</td>\n",
       "      <td>0</td>\n",
       "      <td>0</td>\n",
       "      <td>0</td>\n",
       "      <td>None</td>\n",
       "      <td>2C3F8C68-DB3B-0D66-A476-9A77D9DA8823</td>\n",
       "      <td>1</td>\n",
       "      <td>None</td>\n",
       "      <td>dlambor@homeaway.com</td>\n",
       "      <td>FD415F92-345A-407D-9192-E97494A3BD43</td>\n",
       "      <td>Deepsagar</td>\n",
       "      <td>Lambor</td>\n",
       "      <td>None</td>\n",
       "      <td>14064275399D4BAEABB0D50B0CE626A7</td>\n",
       "      <td>False</td>\n",
       "      <td>False</td>\n",
       "      <td>True</td>\n",
       "      <td>None</td>\n",
       "      <td>[UNKNOWN]</td>\n",
       "      <td>None</td>\n",
       "      <td>None</td>\n",
       "      <td>None</td>\n",
       "      <td>None</td>\n",
       "      <td>None</td>\n",
       "      <td>None</td>\n",
       "      <td>None</td>\n",
       "      <td>None</td>\n",
       "      <td>None</td>\n",
       "      <td>None</td>\n",
       "      <td>None</td>\n",
       "      <td>None</td>\n",
       "      <td>None</td>\n",
       "      <td>None</td>\n",
       "      <td>None</td>\n",
       "      <td>None</td>\n",
       "      <td>None</td>\n",
       "      <td>None</td>\n",
       "      <td>None</td>\n",
       "      <td>None</td>\n",
       "      <td>None</td>\n",
       "      <td>None</td>\n",
       "      <td>None</td>\n",
       "      <td>None</td>\n",
       "      <td>None</td>\n",
       "      <td>None</td>\n",
       "      <td>None</td>\n",
       "      <td>None</td>\n",
       "      <td>None</td>\n",
       "    </tr>\n",
       "    <tr>\n",
       "      <th>1</th>\n",
       "      <td>52213945</td>\n",
       "      <td>52978660</td>\n",
       "      <td>9d0cde795f8a4218a8ba5099a8c7968a</td>\n",
       "      <td>None</td>\n",
       "      <td>2016-09-06 10:08:38.550</td>\n",
       "      <td>1</td>\n",
       "      <td>False</td>\n",
       "      <td>True</td>\n",
       "      <td>False</td>\n",
       "      <td>False</td>\n",
       "      <td>None</td>\n",
       "      <td>0</td>\n",
       "      <td>[Unknown]</td>\n",
       "      <td>Deepsagar</td>\n",
       "      <td>[Unknown]</td>\n",
       "      <td>Lambor</td>\n",
       "      <td>00</td>\n",
       "      <td>[Unknown]</td>\n",
       "      <td>[Unknown]</td>\n",
       "      <td>2016-09-06 09:08:40.710</td>\n",
       "      <td>2016-09-06 09:11:34.063</td>\n",
       "      <td>0</td>\n",
       "      <td>[Unknown]</td>\n",
       "      <td>1</td>\n",
       "      <td>GOOD_STANDING</td>\n",
       "      <td>[Unknown]</td>\n",
       "      <td>[Unknown]</td>\n",
       "      <td>[Unknown]</td>\n",
       "      <td>[Unknown]</td>\n",
       "      <td>False</td>\n",
       "      <td>False</td>\n",
       "      <td>10.1.0.147</td>\n",
       "      <td>[Unknown]</td>\n",
       "      <td>b272b788d0a77cd017f7c31373975aa5d412d681</td>\n",
       "      <td>f4e3ffe4e823ca4114585c9ab8bbd08d</td>\n",
       "      <td>False</td>\n",
       "      <td>[N/A]</td>\n",
       "      <td>1</td>\n",
       "      <td>INDIVIDUAL</td>\n",
       "      <td>101056457</td>\n",
       "      <td>deepsagar.lambor@gmail.com</td>\n",
       "      <td>70AA3C74-CE73-46D5-A9C9-49AD169543B9</td>\n",
       "      <td>0</td>\n",
       "      <td>0</td>\n",
       "      <td>0</td>\n",
       "      <td>9d0cde795f8a4218a8ba5099a8c7968a</td>\n",
       "      <td>101056457</td>\n",
       "      <td>70AA3C74-CE73-46D5-A9C9-49AD169543B9</td>\n",
       "      <td>23</td>\n",
       "      <td>[0, 0, 0, 0, 163, 118, 226, 103]</td>\n",
       "      <td>2016-09-06 21:01:27.876666</td>\n",
       "      <td>2016-09-07 03:58:14.010000</td>\n",
       "      <td>101056457</td>\n",
       "      <td>deepsagar.lambor@gmail.com</td>\n",
       "      <td>2016-09-07 00:43:02.120000</td>\n",
       "      <td>2016-09-07 05:35:22.420000</td>\n",
       "      <td>1</td>\n",
       "      <td>0</td>\n",
       "      <td>0</td>\n",
       "      <td>0</td>\n",
       "      <td>0</td>\n",
       "      <td>0</td>\n",
       "      <td>None</td>\n",
       "      <td>45FA45F9-2F42-78F9-E277-051382860CDF</td>\n",
       "      <td>-1</td>\n",
       "      <td>None</td>\n",
       "      <td>deepsagar.lambor@gmail.com</td>\n",
       "      <td>70AA3C74-CE73-46D5-A9C9-49AD169543B9</td>\n",
       "      <td>Deepsagar</td>\n",
       "      <td>Lambor</td>\n",
       "      <td>None</td>\n",
       "      <td>9d0cde795f8a4218a8ba5099a8c7968a</td>\n",
       "      <td>True</td>\n",
       "      <td>False</td>\n",
       "      <td>False</td>\n",
       "      <td>None</td>\n",
       "      <td>PR_CampaignActivity_SystemEmail_Load</td>\n",
       "      <td>None</td>\n",
       "      <td>None</td>\n",
       "      <td>None</td>\n",
       "      <td>None</td>\n",
       "      <td>None</td>\n",
       "      <td>None</td>\n",
       "      <td>None</td>\n",
       "      <td>None</td>\n",
       "      <td>None</td>\n",
       "      <td>None</td>\n",
       "      <td>None</td>\n",
       "      <td>None</td>\n",
       "      <td>None</td>\n",
       "      <td>None</td>\n",
       "      <td>None</td>\n",
       "      <td>None</td>\n",
       "      <td>None</td>\n",
       "      <td>None</td>\n",
       "      <td>None</td>\n",
       "      <td>None</td>\n",
       "      <td>None</td>\n",
       "      <td>None</td>\n",
       "      <td>None</td>\n",
       "      <td>None</td>\n",
       "      <td>None</td>\n",
       "      <td>None</td>\n",
       "      <td>None</td>\n",
       "      <td>None</td>\n",
       "      <td>None</td>\n",
       "    </tr>\n",
       "    <tr>\n",
       "      <th>2</th>\n",
       "      <td>52205434</td>\n",
       "      <td>52970145</td>\n",
       "      <td>2C680E11A95E4BC3B18D28F6D4530A63</td>\n",
       "      <td>None</td>\n",
       "      <td>NaT</td>\n",
       "      <td>0</td>\n",
       "      <td>False</td>\n",
       "      <td>True</td>\n",
       "      <td>False</td>\n",
       "      <td>False</td>\n",
       "      <td>None</td>\n",
       "      <td>0</td>\n",
       "      <td>[Unknown]</td>\n",
       "      <td>DEEPSAGAR</td>\n",
       "      <td>[Unknown]</td>\n",
       "      <td>LAMBOR</td>\n",
       "      <td>00</td>\n",
       "      <td>[Unknown]</td>\n",
       "      <td>[Unknown]</td>\n",
       "      <td>2016-09-05 22:08:13.330</td>\n",
       "      <td>2016-09-05 22:09:49.217</td>\n",
       "      <td>0</td>\n",
       "      <td>[Unknown]</td>\n",
       "      <td>1</td>\n",
       "      <td>GOOD_STANDING</td>\n",
       "      <td>[Unknown]</td>\n",
       "      <td>[Unknown]</td>\n",
       "      <td>[Unknown]</td>\n",
       "      <td>[Unknown]</td>\n",
       "      <td>False</td>\n",
       "      <td>False</td>\n",
       "      <td>72.182.62.70</td>\n",
       "      <td>[Unknown]</td>\n",
       "      <td>18cc4c889b6771fd09d8eb73d35351ea6766ad64</td>\n",
       "      <td>24ae46cca6af513e8d0050f448bf4b22</td>\n",
       "      <td>False</td>\n",
       "      <td>[N/A]</td>\n",
       "      <td>1</td>\n",
       "      <td>INDIVIDUAL</td>\n",
       "      <td>101025710</td>\n",
       "      <td>deepsagar_lambor@yahoo.co.in</td>\n",
       "      <td>6E259582-7004-47E2-B690-DB6B4D912C6B</td>\n",
       "      <td>0</td>\n",
       "      <td>0</td>\n",
       "      <td>0</td>\n",
       "      <td>2C680E11A95E4BC3B18D28F6D4530A63</td>\n",
       "      <td>101025710</td>\n",
       "      <td>6E259582-7004-47E2-B690-DB6B4D912C6B</td>\n",
       "      <td>23</td>\n",
       "      <td>[0, 0, 0, 0, 163, 82, 162, 245]</td>\n",
       "      <td>2016-09-06 00:01:37.090000</td>\n",
       "      <td>2016-09-06 04:07:23.993333</td>\n",
       "      <td>101025710</td>\n",
       "      <td>deepsagar_lambor@yahoo.co.in</td>\n",
       "      <td>2016-09-06 00:41:53.790000</td>\n",
       "      <td>2016-09-06 05:47:33.630000</td>\n",
       "      <td>1</td>\n",
       "      <td>0</td>\n",
       "      <td>0</td>\n",
       "      <td>0</td>\n",
       "      <td>0</td>\n",
       "      <td>0</td>\n",
       "      <td>None</td>\n",
       "      <td>64A58F37-28E7-38A3-CCD4-317604F81DFC</td>\n",
       "      <td>-1</td>\n",
       "      <td>None</td>\n",
       "      <td>deepsagar_lambor@yahoo.co.in</td>\n",
       "      <td>6E259582-7004-47E2-B690-DB6B4D912C6B</td>\n",
       "      <td>DEEPSAGAR</td>\n",
       "      <td>LAMBOR</td>\n",
       "      <td>None</td>\n",
       "      <td>2C680E11A95E4BC3B18D28F6D4530A63</td>\n",
       "      <td>True</td>\n",
       "      <td>False</td>\n",
       "      <td>False</td>\n",
       "      <td>None</td>\n",
       "      <td>PR_CampaignActivity_SystemEmail_Load</td>\n",
       "      <td>None</td>\n",
       "      <td>None</td>\n",
       "      <td>None</td>\n",
       "      <td>None</td>\n",
       "      <td>None</td>\n",
       "      <td>None</td>\n",
       "      <td>None</td>\n",
       "      <td>None</td>\n",
       "      <td>None</td>\n",
       "      <td>None</td>\n",
       "      <td>None</td>\n",
       "      <td>None</td>\n",
       "      <td>None</td>\n",
       "      <td>None</td>\n",
       "      <td>None</td>\n",
       "      <td>None</td>\n",
       "      <td>None</td>\n",
       "      <td>None</td>\n",
       "      <td>None</td>\n",
       "      <td>None</td>\n",
       "      <td>None</td>\n",
       "      <td>None</td>\n",
       "      <td>None</td>\n",
       "      <td>None</td>\n",
       "      <td>None</td>\n",
       "      <td>None</td>\n",
       "      <td>None</td>\n",
       "      <td>None</td>\n",
       "      <td>None</td>\n",
       "    </tr>\n",
       "  </tbody>\n",
       "</table>\n",
       "</div>"
      ],
      "text/plain": [
       "     UserId  SourceUserId                          UserGuid LastLoginDate  \\\n",
       "0  51386683      52150625  14064275399D4BAEABB0D50B0CE626A7          None   \n",
       "1  52213945      52978660  9d0cde795f8a4218a8ba5099a8c7968a          None   \n",
       "2  52205434      52970145  2C680E11A95E4BC3B18D28F6D4530A63          None   \n",
       "\n",
       "      LastFailedLoginDate  FailedLoginAttempts FraudFlag ActiveFlag  \\\n",
       "0                     NaT                    0     False       True   \n",
       "1 2016-09-06 10:08:38.550                    1     False       True   \n",
       "2                     NaT                    0     False       True   \n",
       "\n",
       "  RegisteredFlag BlockedFlag BlockedDate  SecurityFailure        ScreenName  \\\n",
       "0          False       False        None                0  Deepsagar Lambor   \n",
       "1          False       False        None                0         [Unknown]   \n",
       "2          False       False        None                0         [Unknown]   \n",
       "\n",
       "   FirstName MiddleName LastName LanCode TimeZoneCode    Comment  \\\n",
       "0  Deepsagar  [Unknown]   Lambor      00    [Unknown]  [Unknown]   \n",
       "1  Deepsagar  [Unknown]   Lambor      00    [Unknown]  [Unknown]   \n",
       "2  DEEPSAGAR  [Unknown]   LAMBOR      00    [Unknown]  [Unknown]   \n",
       "\n",
       "               CreateDate              UpdateDate  SourcePrimaryPhoneNumberId  \\\n",
       "0 2016-08-11 10:28:30.763 2016-08-11 10:28:30.803                           0   \n",
       "1 2016-09-06 09:08:40.710 2016-09-06 09:11:34.063                           0   \n",
       "2 2016-09-05 22:08:13.330 2016-09-05 22:09:49.217                           0   \n",
       "\n",
       "  PhoneNumber  SourceUserStatusId     UserStatus      Title MaidenName  \\\n",
       "0   [Unknown]                   1  GOOD_STANDING  [Unknown]  [Unknown]   \n",
       "1   [Unknown]                   1  GOOD_STANDING  [Unknown]  [Unknown]   \n",
       "2   [Unknown]                   1  GOOD_STANDING  [Unknown]  [Unknown]   \n",
       "\n",
       "      Suffix CompanyName PropertyMgrHAFlag PropertyMgrMemberFlag  \\\n",
       "0  [Unknown]   [Unknown]             False                 False   \n",
       "1  [Unknown]   [Unknown]             False                 False   \n",
       "2  [Unknown]   [Unknown]             False                 False   \n",
       "\n",
       "  CreatedIPAddress ScreenLocation                             EmailSha1Hash  \\\n",
       "0        [Unknown]      [Unknown]  dc507f3b6e08efaef0f0cd64c74ed9163144ef94   \n",
       "1       10.1.0.147      [Unknown]  b272b788d0a77cd017f7c31373975aa5d412d681   \n",
       "2     72.182.62.70      [Unknown]  18cc4c889b6771fd09d8eb73d35351ea6766ad64   \n",
       "\n",
       "                       EmailMd5Hash ActiveDirectoryFlag MergeToUserGUID  \\\n",
       "0  4a49fc8cfbd466783ada20e86f8dc2d2                True           [N/A]   \n",
       "1  f4e3ffe4e823ca4114585c9ab8bbd08d               False           [N/A]   \n",
       "2  24ae46cca6af513e8d0050f448bf4b22               False           [N/A]   \n",
       "\n",
       "   SourceUserTypeId    UserType    EmailId                      UserName  \\\n",
       "0                 1  INDIVIDUAL  100246228          dlambor@homeaway.com   \n",
       "1                 1  INDIVIDUAL  101056457    deepsagar.lambor@gmail.com   \n",
       "2                 1  INDIVIDUAL  101025710  deepsagar_lambor@yahoo.co.in   \n",
       "\n",
       "                             PublicUUID  Failed2FACodeAttempts  \\\n",
       "0  FD415F92-345A-407D-9192-E97494A3BD43                      0   \n",
       "1  70AA3C74-CE73-46D5-A9C9-49AD169543B9                      0   \n",
       "2  6E259582-7004-47E2-B690-DB6B4D912C6B                      0   \n",
       "\n",
       "   Failed2FACodeReceives  Generated2FACodes                  IdentityUserGUID  \\\n",
       "0                      0                  0  14064275399D4BAEABB0D50B0CE626A7   \n",
       "1                      0                  0  9d0cde795f8a4218a8ba5099a8c7968a   \n",
       "2                      0                  0  2C680E11A95E4BC3B18D28F6D4530A63   \n",
       "\n",
       "   IdentityEmailId                    IdentityPublicUUID  SystemCodeTypeId  \\\n",
       "0        100246228  FD415F92-345A-407D-9192-E97494A3BD43                23   \n",
       "1        101056457  70AA3C74-CE73-46D5-A9C9-49AD169543B9                23   \n",
       "2        101025710  6E259582-7004-47E2-B690-DB6B4D912C6B                23   \n",
       "\n",
       "         HomeAwayTransactionVersion               DWCreateDate  \\\n",
       "0    [0, 0, 0, 0, 159, 42, 12, 186] 2016-08-11 21:08:31.150000   \n",
       "1  [0, 0, 0, 0, 163, 118, 226, 103] 2016-09-06 21:01:27.876666   \n",
       "2   [0, 0, 0, 0, 163, 82, 162, 245] 2016-09-06 00:01:37.090000   \n",
       "\n",
       "            DWLastUpdateDate    EmailId                  EmailAddress  \\\n",
       "0 2016-08-12 04:03:11.083333  100246228          dlambor@homeaway.com   \n",
       "1 2016-09-07 03:58:14.010000  101056457    deepsagar.lambor@gmail.com   \n",
       "2 2016-09-06 04:07:23.993333  101025710  deepsagar_lambor@yahoo.co.in   \n",
       "\n",
       "                DWCreateDate               DWUpdateDate  DeliverableFlag  \\\n",
       "0 2016-08-12 04:03:11.083333 2016-08-13 06:46:16.663333                1   \n",
       "1 2016-09-07 00:43:02.120000 2016-09-07 05:35:22.420000                1   \n",
       "2 2016-09-06 00:41:53.790000 2016-09-06 05:47:33.630000                1   \n",
       "\n",
       "   BlacklistFlag  BlacklistSourceID  LastBounceFlag  InquirySpamFlag  \\\n",
       "0              0                  0               0                0   \n",
       "1              0                  0               0                0   \n",
       "2              0                  0               0                0   \n",
       "\n",
       "   InvalidFormatFlag FirstInquiryDate                             EmailUUID  \\\n",
       "0                  0             None  2C3F8C68-DB3B-0D66-A476-9A77D9DA8823   \n",
       "1                  0             None  45FA45F9-2F42-78F9-E277-051382860CDF   \n",
       "2                  0             None  64A58F37-28E7-38A3-CCD4-317604F81DFC   \n",
       "\n",
       "   GlobalSubscribed GlobalUnsubDate          EmailAddressPunycode  \\\n",
       "0                 1            None          dlambor@homeaway.com   \n",
       "1                -1            None    deepsagar.lambor@gmail.com   \n",
       "2                -1            None  deepsagar_lambor@yahoo.co.in   \n",
       "\n",
       "                             PublicUUID  FirstName LastName CompanyName  \\\n",
       "0  FD415F92-345A-407D-9192-E97494A3BD43  Deepsagar   Lambor        None   \n",
       "1  70AA3C74-CE73-46D5-A9C9-49AD169543B9  Deepsagar   Lambor        None   \n",
       "2  6E259582-7004-47E2-B690-DB6B4D912C6B  DEEPSAGAR   LAMBOR        None   \n",
       "\n",
       "                           UserGUID TravelerFlag OwnerFlag  \\\n",
       "0  14064275399D4BAEABB0D50B0CE626A7        False     False   \n",
       "1  9d0cde795f8a4218a8ba5099a8c7968a         True     False   \n",
       "2  2C680E11A95E4BC3B18D28F6D4530A63         True     False   \n",
       "\n",
       "  ActiveDirectoryFlag LastLoginDate                  CreatedByProcessName  \\\n",
       "0                True          None                             [UNKNOWN]   \n",
       "1               False          None  PR_CampaignActivity_SystemEmail_Load   \n",
       "2               False          None  PR_CampaignActivity_SystemEmail_Load   \n",
       "\n",
       "  UserId ProfileUuid About Employer Languages School SourceFacebookUserId  \\\n",
       "0   None        None  None     None      None   None                 None   \n",
       "1   None        None  None     None      None   None                 None   \n",
       "2   None        None  None     None      None   None                 None   \n",
       "\n",
       "  AdditionalFieldsJson CreateDate UpdateDate Gender Hometown ActiveFlag  \\\n",
       "0                 None       None       None   None     None       None   \n",
       "1                 None       None       None   None     None       None   \n",
       "2                 None       None       None   None     None       None   \n",
       "\n",
       "  Complete CompleteDate CurrentPublicProfilePictureId UserPublicProfileId  \\\n",
       "0     None         None                          None                None   \n",
       "1     None         None                          None                None   \n",
       "2     None         None                          None                None   \n",
       "\n",
       "  PublicProfilePictureId PublicProfilePictureUuid ProfileUuid Source  \\\n",
       "0                   None                     None        None   None   \n",
       "1                   None                     None        None   None   \n",
       "2                   None                     None        None   None   \n",
       "\n",
       "  MediaCollectionItemUuid MediaCollectionUuid Variant Default CreateDate  \\\n",
       "0                    None                None    None    None       None   \n",
       "1                    None                None    None    None       None   \n",
       "2                    None                None    None    None       None   \n",
       "\n",
       "  CreateBy UpdateDate UpdateBy  \n",
       "0     None       None     None  \n",
       "1     None       None     None  \n",
       "2     None       None     None  "
      ]
     },
     "execution_count": 10,
     "metadata": {},
     "output_type": "execute_result"
    }
   ],
   "source": [
    "df_Users"
   ]
  },
  {
   "cell_type": "code",
   "execution_count": 56,
   "metadata": {
    "collapsed": false
   },
   "outputs": [
    {
     "data": {
      "text/html": [
       "<div>\n",
       "<table border=\"1\" class=\"dataframe\">\n",
       "  <thead>\n",
       "    <tr style=\"text-align: right;\">\n",
       "      <th></th>\n",
       "      <th>QuoteItemId</th>\n",
       "      <th>QuoteId</th>\n",
       "      <th>AcceptedDate</th>\n",
       "      <th>AmountLocalCurrency</th>\n",
       "      <th>CancelledDate</th>\n",
       "      <th>CheckInDate</th>\n",
       "      <th>CheckInDateOriginal</th>\n",
       "      <th>CheckOutDate</th>\n",
       "      <th>CheckOutDateOriginal</th>\n",
       "      <th>QuoteItemCreatedDate</th>\n",
       "      <th>CurrencyCode</th>\n",
       "      <th>CurrencyConversionIdMasterBrandCurrency</th>\n",
       "      <th>CurrencyConversionIdUSD</th>\n",
       "      <th>CustomerAttributesId</th>\n",
       "      <th>CustomerId</th>\n",
       "      <th>DeclinedDate</th>\n",
       "      <th>DisplayBrandAttributesId</th>\n",
       "      <th>SiteId</th>\n",
       "      <th>DisplayRegionId</th>\n",
       "      <th>EditedDate</th>\n",
       "      <th>HomeAwayCommissionAmount</th>\n",
       "      <th>HomeAwayCommissionOriginalAmount</th>\n",
       "      <th>InquiryDate</th>\n",
       "      <th>InquiryId</th>\n",
       "      <th>ListingAttributesId</th>\n",
       "      <th>ListingDisplayAttributesId</th>\n",
       "      <th>ListingId</th>\n",
       "      <th>ListingUnitAttributesId</th>\n",
       "      <th>ListingUnitId</th>\n",
       "      <th>MasterBrandAttributesId</th>\n",
       "      <th>MasterBrandCurrency</th>\n",
       "      <th>MasterBrandId</th>\n",
       "      <th>PaidAmountLocalCurrency</th>\n",
       "      <th>PaidCurrencyCode</th>\n",
       "      <th>PaidCurrencyConversionId</th>\n",
       "      <th>ProjectedRevenueDate</th>\n",
       "      <th>QuoteItemIndex</th>\n",
       "      <th>QuoteItemStatusTypeId</th>\n",
       "      <th>QuoteStatusId</th>\n",
       "      <th>QuoteTypeId</th>\n",
       "      <th>RefundedAmountLocalCurrency</th>\n",
       "      <th>RefundedCurrencyCode</th>\n",
       "      <th>RefundedCurrencyConversionId</th>\n",
       "      <th>ReservationId</th>\n",
       "      <th>ReservationConfirmedDate</th>\n",
       "      <th>ReservationCompleteDate</th>\n",
       "      <th>ReservationCancelledDate</th>\n",
       "      <th>ReservationDeclinedByOwnerDate</th>\n",
       "      <th>ReservationDeclinedBySystemDate</th>\n",
       "      <th>ReservationCancelledByOwnerDate</th>\n",
       "      <th>ReservationCancelledByTravelerDate</th>\n",
       "      <th>ReservationCommissionTypeId</th>\n",
       "      <th>ReservationStatusTypeId</th>\n",
       "      <th>ReservationTimeToOwnerResponseHours</th>\n",
       "      <th>SubscriptionId</th>\n",
       "      <th>TaxableFlag</th>\n",
       "      <th>TaxAmountLocalCurrency</th>\n",
       "      <th>TotalCommissionAmount</th>\n",
       "      <th>TotalCommissionOriginalAmount</th>\n",
       "      <th>TravelerId</th>\n",
       "      <th>TravelerProductId</th>\n",
       "      <th>QuotedStayDurationNights</th>\n",
       "      <th>DWCreateDate</th>\n",
       "      <th>DWLastUpdateDate</th>\n",
       "      <th>CommissionBasisAmountLocalCurrency</th>\n",
       "      <th>CommissionRefundAmount</th>\n",
       "      <th>QuoteItemActiveFlag</th>\n",
       "      <th>QuoteActiveFlag</th>\n",
       "      <th>ReservationRefundedDate</th>\n",
       "      <th>DeviceCategorySessionId</th>\n",
       "      <th>SiteExperienceSessionId</th>\n",
       "      <th>WebsiteReferralMediumSessionId</th>\n",
       "      <th>DistributionId</th>\n",
       "      <th>QuoteCreatedDate</th>\n",
       "      <th>ReservationCreateDate</th>\n",
       "      <th>FirstPaymentDate</th>\n",
       "      <th>BookingDate</th>\n",
       "      <th>AssistedBookingFlag</th>\n",
       "      <th>FirstRefundDate</th>\n",
       "      <th>SubscriptionAttributesId</th>\n",
       "      <th>PaymentScheduleIndicator</th>\n",
       "      <th>VisitId</th>\n",
       "      <th>FullVisitorId</th>\n",
       "      <th>QuoteItemPaymentDate</th>\n",
       "      <th>TravelerOrderSourceCode</th>\n",
       "      <th>PaymentMethodTypeId</th>\n",
       "      <th>ReservationOriginationDate</th>\n",
       "      <th>StrategicDestinationId</th>\n",
       "      <th>StrategicDestinationAttributesId</th>\n",
       "      <th>DWCreateDate</th>\n",
       "      <th>QuoteId</th>\n",
       "      <th>QuoteGuid</th>\n",
       "      <th>ExternalRefId</th>\n",
       "      <th>ExternalRefType</th>\n",
       "      <th>ExternalObjectGuid</th>\n",
       "      <th>CurrencyCode</th>\n",
       "      <th>TaxRate</th>\n",
       "      <th>TaxAmount</th>\n",
       "      <th>CheckInDate</th>\n",
       "      <th>CheckOutDate</th>\n",
       "      <th>BodyText</th>\n",
       "      <th>ActiveFlag</th>\n",
       "      <th>CreatedDate</th>\n",
       "      <th>UpdateDate</th>\n",
       "      <th>QuoteStatus</th>\n",
       "      <th>BookingTypeId</th>\n",
       "      <th>LinkId</th>\n",
       "      <th>AppId</th>\n",
       "      <th>BrandId</th>\n",
       "      <th>ListingId</th>\n",
       "      <th>RentalUnitId</th>\n",
       "      <th>CustomerId</th>\n",
       "      <th>CurrencyConversionId</th>\n",
       "      <th>InquiryGUID</th>\n",
       "      <th>ListingUnitId</th>\n",
       "      <th>PaymentStatusType</th>\n",
       "      <th>ProjectedCommissionAmountLocalCurrency</th>\n",
       "      <th>ProjectedCommissionAmountUSD</th>\n",
       "      <th>ProjectedCommissionPercent</th>\n",
       "      <th>ProjectedRevenueDate</th>\n",
       "      <th>QuoteTotalAmountLocalCurrency</th>\n",
       "      <th>QuoteTotalAmountUSD</th>\n",
       "      <th>RegionId</th>\n",
       "      <th>ReservationGUID</th>\n",
       "      <th>ReservationCommissionTypeID</th>\n",
       "      <th>ContractAddenddum</th>\n",
       "      <th>DWLastUpdateDate</th>\n",
       "      <th>TravelerId</th>\n",
       "      <th>SiteId</th>\n",
       "      <th>CommissionBasisCheckInDate</th>\n",
       "      <th>CommissionBasisCheckOutDate</th>\n",
       "      <th>ReservationId</th>\n",
       "      <th>TotalCommissionAmountLocalCurrency</th>\n",
       "      <th>TotalCommissionAmountUSD</th>\n",
       "      <th>TotalCommissionBasisAmountLocalCurrency</th>\n",
       "      <th>TotalCommissionBasisAmountUSD</th>\n",
       "      <th>OnlineBookingIndicator</th>\n",
       "      <th>DistributionId</th>\n",
       "      <th>ProjectedRevShareAmountLocalCurrency</th>\n",
       "      <th>ProjectedRevShareAmountUSD</th>\n",
       "      <th>ProjectedRevSharePercent</th>\n",
       "      <th>HomeAwayCommissionAmountLocalCurrency</th>\n",
       "      <th>HomeAwayCommissionPercent</th>\n",
       "      <th>ServiceCommissionRefundAmountLocalCurrency</th>\n",
       "      <th>RevShareAmountLocalCurrency</th>\n",
       "      <th>RevSharePercent</th>\n",
       "      <th>ServicePartnerCommissionRefundAmountLocalCurrency</th>\n",
       "      <th>TravelerLatitude</th>\n",
       "      <th>TravelerLongitude</th>\n",
       "      <th>TravelerCountryCode</th>\n",
       "      <th>TravelerGeographyPoint</th>\n",
       "      <th>PaymentMethodTypeId</th>\n",
       "      <th>CalculatedTaxAmount</th>\n",
       "      <th>DWCreateDate</th>\n",
       "      <th>CustomerId</th>\n",
       "      <th>BrandId</th>\n",
       "      <th>CreatedLanCode</th>\n",
       "      <th>PreferredLanCode</th>\n",
       "      <th>AdvertiserId</th>\n",
       "      <th>UserStatus</th>\n",
       "      <th>ActiveFlag</th>\n",
       "      <th>RegisteredDate</th>\n",
       "      <th>HANetworkFlag</th>\n",
       "      <th>FirstName</th>\n",
       "      <th>LastName</th>\n",
       "      <th>CompanyName</th>\n",
       "      <th>City</th>\n",
       "      <th>State</th>\n",
       "      <th>CountryCode</th>\n",
       "      <th>PostalCode</th>\n",
       "      <th>PhoneCountryCode</th>\n",
       "      <th>PhoneAreaCode</th>\n",
       "      <th>PhoneNumber</th>\n",
       "      <th>LastUpdateDate</th>\n",
       "      <th>MigratedFrom</th>\n",
       "      <th>ReferredBy</th>\n",
       "      <th>SalesForceHAUseId</th>\n",
       "      <th>UserId</th>\n",
       "      <th>DeleteFlag</th>\n",
       "      <th>CustomerType</th>\n",
       "      <th>IsSweetheart</th>\n",
       "      <th>SweetheartMetaData</th>\n",
       "      <th>Address1</th>\n",
       "      <th>Address2</th>\n",
       "      <th>SMSNumber</th>\n",
       "      <th>FraudFlag</th>\n",
       "      <th>Title</th>\n",
       "      <th>UserName</th>\n",
       "      <th>DWLastUpdateDate</th>\n",
       "      <th>Partialflag</th>\n",
       "      <th>UMSUuid</th>\n",
       "      <th>VatNumber</th>\n",
       "      <th>VatCountryCode</th>\n",
       "      <th>UserGUID</th>\n",
       "      <th>MigrationStatus</th>\n",
       "      <th>MigrationSSCAFlag</th>\n",
       "      <th>MigrationCode</th>\n",
       "      <th>MigrationSource</th>\n",
       "      <th>BrandBoost</th>\n",
       "      <th>FirstLiveDate</th>\n",
       "      <th>...</th>\n",
       "      <th>Title</th>\n",
       "      <th>MaidenName</th>\n",
       "      <th>Suffix</th>\n",
       "      <th>CompanyName</th>\n",
       "      <th>PropertyMgrHAFlag</th>\n",
       "      <th>PropertyMgrMemberFlag</th>\n",
       "      <th>CreatedIPAddress</th>\n",
       "      <th>ScreenLocation</th>\n",
       "      <th>EmailSha1Hash</th>\n",
       "      <th>EmailMd5Hash</th>\n",
       "      <th>ActiveDirectoryFlag</th>\n",
       "      <th>MergeToUserGUID</th>\n",
       "      <th>SourceUserTypeId</th>\n",
       "      <th>UserType</th>\n",
       "      <th>EmailId</th>\n",
       "      <th>UserName</th>\n",
       "      <th>PublicUUID</th>\n",
       "      <th>Failed2FACodeAttempts</th>\n",
       "      <th>Failed2FACodeReceives</th>\n",
       "      <th>Generated2FACodes</th>\n",
       "      <th>IdentityUserGUID</th>\n",
       "      <th>IdentityEmailId</th>\n",
       "      <th>IdentityPublicUUID</th>\n",
       "      <th>SystemCodeTypeId</th>\n",
       "      <th>HomeAwayTransactionVersion</th>\n",
       "      <th>DWCreateDate</th>\n",
       "      <th>DWLastUpdateDate</th>\n",
       "      <th>DWCreateDate</th>\n",
       "      <th>ReservationId</th>\n",
       "      <th>LinkId</th>\n",
       "      <th>ReservationGUID</th>\n",
       "      <th>ActiveFlag</th>\n",
       "      <th>CreateDate</th>\n",
       "      <th>UpdateDate</th>\n",
       "      <th>ResStatus</th>\n",
       "      <th>ArrivalDate</th>\n",
       "      <th>DepartureDate</th>\n",
       "      <th>CheckInTime</th>\n",
       "      <th>CheckOutTime</th>\n",
       "      <th>AdultNum</th>\n",
       "      <th>ChildrenNum</th>\n",
       "      <th>ReferredBy</th>\n",
       "      <th>InquiryServiceEntryGUID</th>\n",
       "      <th>OwnerFirstResponseDateTime</th>\n",
       "      <th>ReservationStatusTypeId</th>\n",
       "      <th>FirstName</th>\n",
       "      <th>LastName</th>\n",
       "      <th>PhoneNumber</th>\n",
       "      <th>SessionGuid</th>\n",
       "      <th>VisitorGuid</th>\n",
       "      <th>DisplaySiteRegionNum</th>\n",
       "      <th>PageNumber</th>\n",
       "      <th>ListingResultNumberOnPage</th>\n",
       "      <th>ABSide</th>\n",
       "      <th>ABSideSearch</th>\n",
       "      <th>BookingInquirySystemCode</th>\n",
       "      <th>BookingInquiryUUID</th>\n",
       "      <th>BrandId</th>\n",
       "      <th>ListingUnitId</th>\n",
       "      <th>ReservationSource</th>\n",
       "      <th>SiteId</th>\n",
       "      <th>RegionId</th>\n",
       "      <th>SSTestId</th>\n",
       "      <th>ScoreName</th>\n",
       "      <th>TravelerEmailId</th>\n",
       "      <th>OwnerFlaggedSpam</th>\n",
       "      <th>ReservationReferenceCode</th>\n",
       "      <th>OriginationDate</th>\n",
       "      <th>OnlineBookingProviderTypeId</th>\n",
       "      <th>BookingDate</th>\n",
       "      <th>FullVisitorId</th>\n",
       "      <th>VisitId</th>\n",
       "      <th>VisitorId</th>\n",
       "      <th>HaSessionUUID</th>\n",
       "      <th>BookingReportedDate</th>\n",
       "      <th>CancelledDate</th>\n",
       "      <th>DeviceCategorySessionId</th>\n",
       "      <th>SiteExperienceSessionId</th>\n",
       "      <th>WebsiteReferralMediumSessionId</th>\n",
       "      <th>ReservationAvailabilityStatusTypeId</th>\n",
       "      <th>ReservationPaymentStatusTypeId</th>\n",
       "      <th>BookingCategoryId</th>\n",
       "      <th>AvailabilityStatusReserveDate</th>\n",
       "      <th>AvailabilityStatusCancelDate</th>\n",
       "      <th>BookingChannel</th>\n",
       "      <th>DWUpdateDateTime</th>\n",
       "      <th>DistributionChannelReservationExternalID</th>\n",
       "      <th>ReservationStatusTypeID</th>\n",
       "      <th>ReservationStatusType</th>\n",
       "      <th>ReservationStatusTypeDescription</th>\n",
       "      <th>CreateBy</th>\n",
       "      <th>CreateDate</th>\n",
       "      <th>UpdateBy</th>\n",
       "      <th>UpdateDate</th>\n",
       "      <th>ZeroCommissionFlag</th>\n",
       "      <th>DWCreateDate</th>\n",
       "      <th>DWLastUpdateDate</th>\n",
       "      <th>ListingAttributesId</th>\n",
       "      <th>AutoRenewalFlag</th>\n",
       "      <th>BookingTypeId</th>\n",
       "      <th>BookingTypeName</th>\n",
       "      <th>BrandId</th>\n",
       "      <th>CalendarEnabled</th>\n",
       "      <th>ContiguousListingStartDate</th>\n",
       "      <th>CustomerId</th>\n",
       "      <th>ExternalPropertyId</th>\n",
       "      <th>FirstListingStatusDate</th>\n",
       "      <th>FirstLiveDate</th>\n",
       "      <th>FirstLiveDateTime</th>\n",
       "      <th>ListingConsolidationStatus</th>\n",
       "      <th>ListingId</th>\n",
       "      <th>ListingStatus</th>\n",
       "      <th>ListingTenure</th>\n",
       "      <th>LiveFlag</th>\n",
       "      <th>MigrationCode</th>\n",
       "      <th>MigrationSource</th>\n",
       "      <th>MigrationSSCAFlag</th>\n",
       "      <th>NetworkFlag</th>\n",
       "      <th>NewListing</th>\n",
       "      <th>OLBEnabled</th>\n",
       "      <th>PaymentsEnabled</th>\n",
       "      <th>PaymentTypeAbbrv</th>\n",
       "      <th>PaymentTypeId</th>\n",
       "      <th>PaymentTypeName</th>\n",
       "      <th>PhotoCount</th>\n",
       "      <th>PPBCommissionRate</th>\n",
       "      <th>QuotableRatesEnabled</th>\n",
       "      <th>RegionId</th>\n",
       "      <th>RegionNum</th>\n",
       "      <th>RentalId</th>\n",
       "      <th>RentalNumber</th>\n",
       "      <th>StructuredRatesEnabled</th>\n",
       "      <th>TierCode</th>\n",
       "      <th>TierHierarchy</th>\n",
       "      <th>TierId</th>\n",
       "      <th>RowStartDate</th>\n",
       "      <th>RowEndDate</th>\n",
       "      <th>RowIsCurrent</th>\n",
       "      <th>PPBEligible</th>\n",
       "      <th>LuxuryStatus</th>\n",
       "      <th>PaymentSubType</th>\n",
       "      <th>SubscriptionId</th>\n",
       "      <th>HeadlineLengthRange</th>\n",
       "      <th>DescriptionLengthRange</th>\n",
       "      <th>CalendarUpdateFrequency</th>\n",
       "      <th>ZoomEnabledFlag</th>\n",
       "      <th>MapPinEnabledFlag</th>\n",
       "      <th>ReviewRatingRange</th>\n",
       "      <th>ReviewCountRange</th>\n",
       "      <th>LastTwoYearsReviewCountRange</th>\n",
       "      <th>NoOfBedroomsProvidedFlag</th>\n",
       "      <th>NoOfBathroomsProvidedFlag</th>\n",
       "      <th>SleepsNumberProvidedFlag</th>\n",
       "      <th>PropertyExactLocationFlag</th>\n",
       "      <th>PaymentAccountTypeId</th>\n",
       "      <th>PaymentAccountTypeName</th>\n",
       "      <th>ValidatedLocationFlag</th>\n",
       "      <th>DistributedListingIndicator</th>\n",
       "      <th>NfmpStatus</th>\n",
       "      <th>ContactEmailId</th>\n",
       "      <th>FallBackFlag</th>\n",
       "      <th>ListingActiveECommerceFlag</th>\n",
       "      <th>ListingLatestBookingDate</th>\n",
       "      <th>ListingSourceName</th>\n",
       "      <th>StrategicDestinationId</th>\n",
       "      <th>StrategicDestinationName</th>\n",
       "      <th>OfflinePaymentsEnabledUnitCount</th>\n",
       "      <th>OnlineBookingEnabledUnitCount</th>\n",
       "      <th>OnlinePaymentsEnabledUnitCount</th>\n",
       "      <th>SponsoredPlacementCount</th>\n",
       "      <th>OnlineBookingIntegratedUnitCount</th>\n",
       "      <th>UserId</th>\n",
       "      <th>ProfileUuid</th>\n",
       "      <th>About</th>\n",
       "      <th>Employer</th>\n",
       "      <th>Languages</th>\n",
       "      <th>School</th>\n",
       "      <th>SourceFacebookUserId</th>\n",
       "      <th>AdditionalFieldsJson</th>\n",
       "      <th>CreateDate</th>\n",
       "      <th>UpdateDate</th>\n",
       "      <th>Gender</th>\n",
       "      <th>Hometown</th>\n",
       "      <th>ActiveFlag</th>\n",
       "      <th>Complete</th>\n",
       "      <th>CompleteDate</th>\n",
       "      <th>CurrentPublicProfilePictureId</th>\n",
       "      <th>UserPublicProfileId</th>\n",
       "      <th>PublicProfilePictureId</th>\n",
       "      <th>PublicProfilePictureUuid</th>\n",
       "      <th>ProfileUuid</th>\n",
       "      <th>Source</th>\n",
       "      <th>MediaCollectionItemUuid</th>\n",
       "      <th>MediaCollectionUuid</th>\n",
       "      <th>Variant</th>\n",
       "      <th>Default</th>\n",
       "      <th>CreateDate</th>\n",
       "      <th>CreateBy</th>\n",
       "      <th>UpdateDate</th>\n",
       "      <th>UpdateBy</th>\n",
       "    </tr>\n",
       "  </thead>\n",
       "  <tbody>\n",
       "  </tbody>\n",
       "</table>\n",
       "<p>0 rows × 535 columns</p>\n",
       "</div>"
      ],
      "text/plain": [
       "Empty DataFrame\n",
       "Columns: [QuoteItemId, QuoteId, AcceptedDate, AmountLocalCurrency, CancelledDate, CheckInDate, CheckInDateOriginal, CheckOutDate, CheckOutDateOriginal, QuoteItemCreatedDate, CurrencyCode, CurrencyConversionIdMasterBrandCurrency, CurrencyConversionIdUSD, CustomerAttributesId, CustomerId, DeclinedDate, DisplayBrandAttributesId, SiteId, DisplayRegionId, EditedDate, HomeAwayCommissionAmount, HomeAwayCommissionOriginalAmount, InquiryDate, InquiryId, ListingAttributesId, ListingDisplayAttributesId, ListingId, ListingUnitAttributesId, ListingUnitId, MasterBrandAttributesId, MasterBrandCurrency, MasterBrandId, PaidAmountLocalCurrency, PaidCurrencyCode, PaidCurrencyConversionId, ProjectedRevenueDate, QuoteItemIndex, QuoteItemStatusTypeId, QuoteStatusId, QuoteTypeId, RefundedAmountLocalCurrency, RefundedCurrencyCode, RefundedCurrencyConversionId, ReservationId, ReservationConfirmedDate, ReservationCompleteDate, ReservationCancelledDate, ReservationDeclinedByOwnerDate, ReservationDeclinedBySystemDate, ReservationCancelledByOwnerDate, ReservationCancelledByTravelerDate, ReservationCommissionTypeId, ReservationStatusTypeId, ReservationTimeToOwnerResponseHours, SubscriptionId, TaxableFlag, TaxAmountLocalCurrency, TotalCommissionAmount, TotalCommissionOriginalAmount, TravelerId, TravelerProductId, QuotedStayDurationNights, DWCreateDate, DWLastUpdateDate, CommissionBasisAmountLocalCurrency, CommissionRefundAmount, QuoteItemActiveFlag, QuoteActiveFlag, ReservationRefundedDate, DeviceCategorySessionId, SiteExperienceSessionId, WebsiteReferralMediumSessionId, DistributionId, QuoteCreatedDate, ReservationCreateDate, FirstPaymentDate, BookingDate, AssistedBookingFlag, FirstRefundDate, SubscriptionAttributesId, PaymentScheduleIndicator, VisitId, FullVisitorId, QuoteItemPaymentDate, TravelerOrderSourceCode, PaymentMethodTypeId, ReservationOriginationDate, StrategicDestinationId, StrategicDestinationAttributesId, DWCreateDate, QuoteId, QuoteGuid, ExternalRefId, ExternalRefType, ExternalObjectGuid, CurrencyCode, TaxRate, TaxAmount, CheckInDate, CheckOutDate, ...]\n",
       "Index: []\n",
       "\n",
       "[0 rows x 535 columns]"
      ]
     },
     "execution_count": 56,
     "metadata": {},
     "output_type": "execute_result"
    }
   ],
   "source": [
    "df_Users1"
   ]
  },
  {
   "cell_type": "code",
   "execution_count": 15,
   "metadata": {
    "collapsed": true
   },
   "outputs": [],
   "source": [
    "# for i in df_Users_ActiveFlag.columns:\n",
    "#     print pd.value_counts(df_Users_ActiveFlag[i])"
   ]
  },
  {
   "cell_type": "code",
   "execution_count": 16,
   "metadata": {
    "collapsed": true
   },
   "outputs": [],
   "source": [
    "# for i in df_Users.columns:\n",
    "#     if (df_Users[i].dtype == 'object'):\n",
    "#         print i"
   ]
  },
  {
   "cell_type": "code",
   "execution_count": 17,
   "metadata": {
    "collapsed": true
   },
   "outputs": [],
   "source": [
    "# df_vw_listing = pd.read_sql_query(\"SELECT top(5) * FROM dw.dbo.vw_listing;\",db02_cnxn)"
   ]
  },
  {
   "cell_type": "code",
   "execution_count": 18,
   "metadata": {
    "collapsed": true
   },
   "outputs": [],
   "source": [
    "# list(df_vw_listing.columns).index('Agent')"
   ]
  },
  {
   "cell_type": "code",
   "execution_count": 19,
   "metadata": {
    "collapsed": true
   },
   "outputs": [],
   "source": [
    "# # df_trial_queries = pd.read_sql_query(\"SELECT top(5) * FROM dw.dbo.vw_bookingfact;\",db02_cnxn)\n",
    "# for i in list(df_vw_listing.columns)[27:]:\n",
    "#     try:\n",
    "#         print i\n",
    "#         fd = open('stats_vw_listing.csv','a')\n",
    "#         fd.write(i+'\\n')\n",
    "#         fd.close()\n",
    "#         df_trial_queries = pd.read_sql_query(\"SELECT {} FROM dw.dbo.vw_listing\".format(i), db02_cnxn)\n",
    "#         df_value_cnt = pd.value_counts(df_trial_queries[i], dropna=False)[1:40]\n",
    "#         df_value_cnt.to_csv('stats_vw_listing.csv',encoding='utf-8' ,mode='a')\n",
    "#     except:\n",
    "#         print (\"error at\"+i)ass"
   ]
  },
  {
   "cell_type": "code",
   "execution_count": 20,
   "metadata": {
    "collapsed": false
   },
   "outputs": [],
   "source": [
    "# for i in df_Users_trial_queries.columns:\n",
    "#     df_trial_queries = pd.read_sql_query(\"SELECT {} FROM HA_User.dbo.Users\".format(i), db02_cnxn)\n",
    "#     print pd.value_counts(df_trial_queries[i])"
   ]
  },
  {
   "cell_type": "code",
   "execution_count": 21,
   "metadata": {
    "collapsed": false
   },
   "outputs": [],
   "source": [
    "# list(df_UserPublicProfile.columns)[8:15]"
   ]
  },
  {
   "cell_type": "code",
   "execution_count": 22,
   "metadata": {
    "collapsed": false
   },
   "outputs": [],
   "source": [
    "# # df_trial_queries = pd.read_sql_query(\"SELECT top(5) * FROM dw.dbo.vw_bookingfact;\",db02_cnxn)\n",
    "# for i in list(df_UserPublicProfile.columns)[8:15]:\n",
    "#     print i\n",
    "#     fd = open('stats.csv','a')\n",
    "#     fd.write(i+'\\n')\n",
    "#     fd.close()\n",
    "#     df_trial_queries = pd.read_sql_query(\"SELECT {} FROM HA_User.dbo.UserPublicProfile\".format(i), db02_cnxn)\n",
    "#     df_value_cnt = pd.value_counts(df_trial_queries[i], dropna=False)[1:40]\n",
    "#     df_value_cnt.to_csv('stats.csv',encoding='utf-8' ,mode='a')"
   ]
  },
  {
   "cell_type": "code",
   "execution_count": 23,
   "metadata": {
    "collapsed": false
   },
   "outputs": [],
   "source": [
    "# for i in df_Users.columns:\n",
    "#     if (df_Users[i].dtype == 'int64'):\n",
    "#         print i"
   ]
  },
  {
   "cell_type": "code",
   "execution_count": 24,
   "metadata": {
    "collapsed": false
   },
   "outputs": [],
   "source": [
    "# df_vw_visitorfact = pd.read_sql_query(\"SELECT top(5) * FROM dw.dbo.vw_visitorfact;\",db02_cnxn)"
   ]
  },
  {
   "cell_type": "code",
   "execution_count": 25,
   "metadata": {
    "collapsed": false
   },
   "outputs": [],
   "source": [
    "# df_vw_visitorfact"
   ]
  },
  {
   "cell_type": "code",
   "execution_count": 26,
   "metadata": {
    "collapsed": false
   },
   "outputs": [],
   "source": [
    "# for i in list(df_vw_visitorfact.columns)[2:]:\n",
    "#     try:\n",
    "#         print i\n",
    "#         fd = open('stats_vw_visitorfact.csv','a')\n",
    "#         fd.write(i+'\\n')\n",
    "#         fd.close()\n",
    "#         df_trial_queries = pd.read_sql_query(\"SELECT {} FROM dw.dbo.vw_visitorfact\".format(i), db02_cnxn)\n",
    "#         df_value_cnt = pd.value_counts(df_trial_queries[i], dropna=False)[1:40]\n",
    "#         df_value_cnt.to_csv('stats_vw_visitorfact.csv',encoding='utf-8' ,mode='a')\n",
    "#     except:\n",
    "#         pass"
   ]
  },
  {
   "cell_type": "code",
   "execution_count": 27,
   "metadata": {
    "collapsed": false
   },
   "outputs": [],
   "source": [
    "# list(df_vw_bookingfact.columns).index('ReservationAvailabilityStatusTypeId')"
   ]
  },
  {
   "cell_type": "code",
   "execution_count": 28,
   "metadata": {
    "collapsed": false
   },
   "outputs": [],
   "source": [
    "# df_vw_bookingfact.columns[30:]"
   ]
  },
  {
   "cell_type": "code",
   "execution_count": 29,
   "metadata": {
    "collapsed": false
   },
   "outputs": [],
   "source": [
    "# # df_trial_queries = pd.read_sql_query(\"SELECT top(5) * FROM dw.dbo.vw_bookingfact;\",db02_cnxn)\n",
    "# for i in list(df_vw_bookingfact.columns)[30:]:\n",
    "#     print i\n",
    "#     fd = open('stats_bookingfact.csv','a')\n",
    "#     fd.write(i+'\\n')\n",
    "#     fd.close()\n",
    "#     df_trial_queries = pd.read_sql_query(\"SELECT {} FROM dw.dbo.vw_bookingfact\".format(i), db02_cnxn)\n",
    "#     df_value_cnt = pd.value_counts(df_trial_queries[i], dropna=False)[1:40]\n",
    "#     df_value_cnt.to_csv('stats_bookingfact.csv',encoding='utf-8' ,mode='a')"
   ]
  },
  {
   "cell_type": "code",
   "execution_count": 30,
   "metadata": {
    "collapsed": false
   },
   "outputs": [],
   "source": [
    "# df_vw_bookingfact.info()"
   ]
  },
  {
   "cell_type": "code",
   "execution_count": 31,
   "metadata": {
    "collapsed": true
   },
   "outputs": [],
   "source": [
    "# df_vw_bookingfact = pd.read_sql_query(\"SELECT top(5) * FROM dw.dbo.vw_visitorfact;\",db02_cnxn)"
   ]
  },
  {
   "cell_type": "code",
   "execution_count": 32,
   "metadata": {
    "collapsed": false
   },
   "outputs": [],
   "source": [
    "# df_vw_bookingfact"
   ]
  },
  {
   "cell_type": "code",
   "execution_count": 33,
   "metadata": {
    "collapsed": true
   },
   "outputs": [],
   "source": [
    "# df_vw_listing = pd.read_sql_query(\"SELECT top(5) * FROM dw.dbo.vw_listing;\",db02_cnxn)"
   ]
  },
  {
   "cell_type": "code",
   "execution_count": 34,
   "metadata": {
    "collapsed": false
   },
   "outputs": [],
   "source": [
    "# df_vw_listing"
   ]
  },
  {
   "cell_type": "code",
   "execution_count": 35,
   "metadata": {
    "collapsed": false
   },
   "outputs": [],
   "source": [
    "# df_vw_customer = pd.read_sql_query(\"SELECT top(5) * FROM dw.dbo.vw_customer;\",db02_cnxn)"
   ]
  },
  {
   "cell_type": "code",
   "execution_count": 36,
   "metadata": {
    "collapsed": false
   },
   "outputs": [],
   "source": [
    "# df_vw_customer"
   ]
  },
  {
   "cell_type": "code",
   "execution_count": 37,
   "metadata": {
    "collapsed": false
   },
   "outputs": [],
   "source": [
    "# for i in list(df_vw_customer.columns):\n",
    "#     try:\n",
    "#         print i\n",
    "#         fd = open('stats_vw_customer.csv','a')\n",
    "#         fd.write(i+'\\n')\n",
    "#         fd.close()\n",
    "#         df_trial_queries = pd.read_sql_query(\"SELECT {} FROM dw.dbo.vw_customer\".format(i), db02_cnxn)\n",
    "#         df_value_cnt = pd.value_counts(df_trial_queries[i], dropna=False)[1:40]\n",
    "#         df_value_cnt.to_csv('stats_vw_customer.csv',encoding='utf-8' ,mode='a')\n",
    "#     except:\n",
    "#         pass"
   ]
  },
  {
   "cell_type": "code",
   "execution_count": 38,
   "metadata": {
    "collapsed": false
   },
   "outputs": [],
   "source": [
    "# df = pd.read_sql_query(\"\"\"SELECT\n",
    "#        u.Userid\n",
    "#      , u.FirstName\n",
    "#      , u.LastName\n",
    "#      , u.UserName\n",
    "#      , e.EmailAddress\n",
    "#      , u.ActiveFlag\n",
    "#      , u.CreateDate\n",
    "#      , u.updateDate\n",
    "#      , CASE WHEN upp.About = 'What do you like to do on vacation?  What are your favorite hobbies and travel destinations?'\n",
    "#        THEN null\n",
    "#        ELSE ISNULL(NULLIF(upp.About, ''), '******') \n",
    "#        END as About\n",
    "#      , CASE WHEN upp.Employer = 'Where do you work?' \n",
    "#        THEN null\n",
    "#        ELSE ISNULL(NULLIF(upp.Employer, ''), '******')\n",
    "#        END as Employer\n",
    "#      , CASE WHEN upp.Languages = 'What languages do you speak?'\n",
    "#        THEN null\n",
    "#        ELSE ISNULL(NULLIF(upp.Languages, ''), '******')\n",
    "#        END as Languages\n",
    "#      , CASE WHEN upp.School = 'What is your alma mater?'\n",
    "#        THEN null \n",
    "#        ELSE ISNULL(NULLIF(upp.School, ''), '******')\n",
    "#        END as School\n",
    "#      , upp.Gender\n",
    "#      , CASE WHEN upp.HomeTown = 'Where are you from?'\n",
    "#        THEN null \n",
    "#        ELSE ISNULL(NULLIF(upp.HomeTown, ''), '******')\n",
    "#        END as HomeTown \n",
    "#      , u.RegisteredFlag\n",
    "#      , upp.ProfileUuid\n",
    "#      , upp.SourceFacebookUserId\n",
    "#      , upp.UserPublicProfileId\n",
    "#      , upp.Complete as PublicProfileCompleteFlag\n",
    "#      , upp.CompleteDate \n",
    "#      , upp.CurrentPublicProfilePictureId\n",
    "#      , ppp.source as ProfilePictureSource\n",
    "#      , ppp.[Default] as DefaultProfilePictureFlag\n",
    "# FROM DW.dbo.Users u\n",
    "# INNER JOIN DW.dbo.Email e ON e.EmailId = u.EmailId \n",
    "# LEFT OUTER JOIN HA_User.dbo.UserPublicProfile upp  ON  upp.UserId = u.UserId \n",
    "# LEFT OUTER JOIN HA_User.dbo.PublicProfilePicture ppp ON upp.CurrentPublicProfilePictureId = ppp.PublicProfilePictureId\n",
    "# WHERE u.UserStatus = 'GOOD_STANDING'\n",
    "# AND upp.ActiveFlag = 1\n",
    "# AND e.TravelerFlag =1;\"\"\",db02_cnxn)"
   ]
  },
  {
   "cell_type": "code",
   "execution_count": 39,
   "metadata": {
    "collapsed": false
   },
   "outputs": [],
   "source": [
    "# df.to_csv('complete.csv',encoding='utf_8', index=False)"
   ]
  },
  {
   "cell_type": "code",
   "execution_count": 10,
   "metadata": {
    "collapsed": false
   },
   "outputs": [],
   "source": [
    "df_dat = pd.read_sql_query(\"\"\"select\n",
    "s.siteName\n",
    ",br.brandname\n",
    ",br.[BrandShowFlag]\n",
    ",br.[GeoGroup]\n",
    ",br.[LocalOperatingUnit]\n",
    ",br.[RegionalOperatingUnit]\n",
    ",br.[reportbrandName]\n",
    ",br.[PlatformType]\n",
    ",br.[HomeAwayFamily]\n",
    "      ,q.[QuoteId]\n",
    "      ,q.[ExternalRefType]\n",
    "      ,q.[CheckInDate]\n",
    "      ,q.[CheckOutDate] \n",
    "      ,q.[ActiveFlag]\n",
    "      ,q.[CreatedDate]\n",
    "      ,q.[UpdateDate]\n",
    "      ,q.[QuoteStatus]\n",
    "      ,q.[BookingTypeId]\n",
    "      ,q.[BrandId]\n",
    "      ,q.[ListingId]\n",
    "      ,q.[ListingUnitId]\n",
    "      ,q.[PaymentStatusType]\n",
    "      ,q.[SiteId]\n",
    "      ,q.[ReservationId]\n",
    "\t  ,qf.[ReservationCancelledByOwnerDate]\n",
    "      ,qf.[ReservationCancelledByTravelerDate]\n",
    "\t  ,r.BookingDate\n",
    "\t  ,r.CancelledDate\n",
    "\t  ,r.TravelerEmailId\n",
    "\n",
    "\t  ,r.activeflag as ResActiveflag\n",
    "\t  ,r.ResStatus\n",
    "\t  ,r.bookingcategoryID\n",
    "\t  ,r.Adultnum\n",
    "\t  ,r.ChildrenNum\n",
    "\t  ,r.reservationstatustypeID\n",
    "\t  ,r.OnlineBookingProviderTypeId\n",
    "          ,rs.reservationstatustype\n",
    ",rs.reservationstatustypedescription\n",
    ",r.ReservationAvailabilityStatusTypeId\n",
    "--,qe.QuoteDeclineReason\n",
    "\t  ,l.ListingTenure\n",
    "\t  ,l.tierID\n",
    "\t  ,t.[TierCode]\n",
    "\t\n",
    "\t  ,L.[PaymentTypeId]\n",
    "\n",
    "\t  ,L.OLBEnabled\n",
    "\t,l.PaymentsEnabled\n",
    "\t,l.PaymentSubtype\n",
    ",l.rentalnumber\n",
    ",l.rentalid\n",
    ",l.liveflag\n",
    ",l.FirstLiveDate\n",
    ",l.PaymentAccountTypeName\n",
    ",br2.brandname as ListingBrand\n",
    ",br2.[GeoGroup] as listingGeogroup\n",
    ",br2.[LocalOperatingUnit] as ListingLOU\n",
    ",br2.[RegionalOperatingUnit] as ListingROU\n",
    ",br2.[reportbrandName] as listingreportbrandname\n",
    ",br2.[PlatformType] as ListingBrandPlatformType\n",
    ",br2.[HomeAwayFamily] as ListingHAFamily\n",
    "  ,c.[CustomerId]\n",
    "\t,c.[RegisteredDate] as CustomerRegisteredDate\n",
    "      ,c.[HANetworkFlag]\n",
    "\t ,c.[UserStatus] as customerUserStatus\n",
    "      ,c.[ActiveFlag] as CustomerActiveFlag\n",
    "\t  ,c.[CustomerType]\n",
    "\t  ,c.fraudflag as customerFraudFlag\n",
    "\t  ,c.IntegratedPMFlag\n",
    "\t  --,c.[MigrationStatus]\n",
    "\t  ,c.[PersonType] as CustomerPersontype\n",
    "\t  ,(CASE WHEN IntegratedPMFlag=1 then 'IPM' \n",
    "\t  when c.PersonType='Suspect PM' and TotalAvailableProperties>8 and IntegratedPMFlag!=1 then 'PM'\n",
    "\t  when c.PersonType='PM'and  IntegratedPMFlag!=1 then 'PM'\n",
    "\t  else 'FRBO' end ) as SupplierType\n",
    "\t  ,c.[TotalAvailableProperties]\n",
    "      ,c.[TotalLiveListings]\n",
    "\t  --,c.[HASCEnabled]\n",
    "\t  --,c.[CustomerActiveECommerceFlag]\n",
    "\t  --,c.BrandID as CustomerBrandID\n",
    "   --   ,c.CountryCode as customerCountrycode\n",
    "\t  --,c.emailID\n",
    "\t    , u.UserGuid \n",
    "\t\t,u.UserId\n",
    "\t--\t,u.UserStatus\n",
    "      , u.FirstName\n",
    "      , u.LastName\n",
    "      , u.UserName\n",
    "\n",
    "\t   , u.CreateDate\n",
    "     , u.RegisteredFlag\n",
    ",upp.profileUUID\n",
    "\t  , upp.SourceFacebookUserId\n",
    "      , upp.Complete AS PublicProfileCompleteFlag\n",
    "      , upp.CompleteDate \n",
    "      , upp.CurrentPublicProfilePictureId\n",
    "\t  , ppp.source AS ProfilePictureSource\n",
    "      , ppp.[Default] AS DefaultProfilePictureFlag\n",
    "\t          , CASE WHEN upp.About = 'What do you like to do on vacation?  What are your favorite hobbies and travel destinations?'\n",
    "        THEN NULL\n",
    "        ELSE NULLIF(upp.About, '')  \n",
    "        END as About\n",
    "      , CASE WHEN upp.Employer = 'Where do you work?' \n",
    "        THEN null\n",
    "        ELSE NULLIF(upp.Employer, '')\n",
    "        END as Employer\n",
    "      , CASE WHEN upp.Languages = 'What languages do you speak?'\n",
    "        THEN null\n",
    "        ELSE NULLIF(upp.Languages, '')\n",
    "        END as Languages\n",
    "      , CASE WHEN upp.School = 'What is your alma mater?'\n",
    "        THEN null \n",
    "        ELSE NULLIF(upp.School, '')\n",
    "        END as School\n",
    "      , upp.Gender\n",
    "      , CASE WHEN upp.HomeTown = 'Where are you from?'\n",
    "        THEN null \n",
    "        ELSE NULLIF(upp.HomeTown, '')\n",
    "        END as HomeTown\n",
    "   \n",
    "  FROM [DW].[dbo].vw_Quote q\n",
    "  join dw.dbo.vw_quotefact qf on q.quoteid=qf.quoteid and qf.QuoteItemIndex=1\n",
    "  join dw..ListingAttributes l on qf.listingattributesID=L.listingattributesID\n",
    "  join DW..VW_Customer c on l.customerID=c.customerID\n",
    "  join DW..tier t on t.TierId=l.TierId\n",
    "join dw..sITE S ON s.siteId=q.siteID\n",
    "join dw..vw_brand br on s.BrandId=br.BrandId\n",
    "join dw..vw_brand br2 on l.BrandId=br2.BrandId\n",
    "left join DW..Reservation r on q.ReservationId=r.ReservationId\n",
    "left join dw..reservationstatustype rs on r.reservationstatustypeID=rs.reservationstatustypeid\n",
    "--left join [HA_Connect].[dbo].[QuoteExtended] qe on q.QuoteGuid=qe.QuoteGuid\n",
    "join DW..Email e ON r.TravelerEmailId = e.EmailId   \n",
    "--and  e.emailid=83453270\n",
    "join HA_User..Users u ON e.UserGuid = u.userguid\n",
    "AND u.ActiveFlag =1 \n",
    "LEFt JOIN [ExploratoryAnalyticsSandbox].[bsriram].[profilesansUserOLD] upp  ON  upp.UserId = u.UserId \n",
    "LEFT JOIN HA_User.dbo.PublicProfilePicture ppp ON upp.CurrentPublicProfilePictureId = ppp.PublicProfilePictureId\n",
    "  \n",
    "  where 1=1\n",
    "  and  q.CreatedDate>= '2016-01-01' \n",
    "  and q.BookingTypeId=2;\"\"\",db02_cnxn)"
   ]
  },
  {
   "cell_type": "code",
   "execution_count": 11,
   "metadata": {
    "collapsed": false
   },
   "outputs": [],
   "source": [
    "df_dat.to_csv('fresh_file_1.csv',encoding='utf_8', index=False)"
   ]
  },
  {
   "cell_type": "code",
   "execution_count": 42,
   "metadata": {
    "collapsed": false
   },
   "outputs": [],
   "source": [
    "# for i in df_dat.columns:\n",
    "#     print df_dat[i].dtypes"
   ]
  },
  {
   "cell_type": "code",
   "execution_count": 43,
   "metadata": {
    "collapsed": true
   },
   "outputs": [],
   "source": [
    "# ['BrandName','SupplyCountry','HomeAwayFamily','UserStatus','Gender','RegisteredFlag','ProfilePictureSource','DefaultProfilePictureFlag','PersonType','QuoteStatus'] #few_categories"
   ]
  },
  {
   "cell_type": "code",
   "execution_count": 44,
   "metadata": {
    "collapsed": true
   },
   "outputs": [],
   "source": [
    "# ['CreateDate','updateDate','CreatedDate','FirstLiveDate'] #dates"
   ]
  },
  {
   "cell_type": "code",
   "execution_count": 45,
   "metadata": {
    "collapsed": true
   },
   "outputs": [],
   "source": [
    "# ['About','Employer','Languages','School','HomeTown','SourceFacebookUserId','CompleteDate','CurrentPublicProfilePictureId','SiteId',''] #exists/don't exists"
   ]
  },
  {
   "cell_type": "code",
   "execution_count": 46,
   "metadata": {
    "collapsed": true
   },
   "outputs": [],
   "source": [
    "# ['Employer','Languages']  #generate features based on specific categories\n",
    "# \"\"\"retired is one of the important categories for employer\"\"\""
   ]
  },
  {
   "cell_type": "code",
   "execution_count": 47,
   "metadata": {
    "collapsed": true
   },
   "outputs": [],
   "source": [
    "# ['ReservationStatusType'] #target"
   ]
  },
  {
   "cell_type": "code",
   "execution_count": 48,
   "metadata": {
    "collapsed": true
   },
   "outputs": [],
   "source": [
    "# column_untouched = ['AdultNum' = fillna(0),'ChildrenNum' = fillna(0)]"
   ]
  },
  {
   "cell_type": "code",
   "execution_count": 49,
   "metadata": {
    "collapsed": false
   },
   "outputs": [
    {
     "name": "stdout",
     "output_type": "stream",
     "text": [
      "VacationRentalsByOwner    58799\n",
      "HomeAway                  17113\n",
      "AbritelFrench              6109\n",
      "HomeAwayUnitedKingdom      4268\n",
      "FewoDirekt                 3545\n",
      "Homelidays                 2667\n",
      "OwnersDirect               1868\n",
      "HomeAwaySpain              1244\n",
      "Homelidays (IT)             970\n",
      "HomeAwayItaly               967\n",
      "VacationRentals             963\n",
      "Homelidays (ES)             661\n",
      "HomeAwayPortugal            432\n",
      "HomeAwayBrazil              286\n",
      "TravelMob                    58\n",
      "HomeAwayNetherlands          37\n",
      "HomeAwaySweden                5\n",
      "HomeAwayDenmark               4\n",
      "HomeAwayNorway                3\n",
      "HomeAwayAustria               1\n",
      "Name: BrandName, dtype: int64\n",
      "United States     76875\n",
      "France             8776\n",
      "United Kingdom     6136\n",
      "Germany            3545\n",
      "Italy              1937\n",
      "Spain              1905\n",
      "Portugal            432\n",
      "Brazil              286\n",
      "Australia            58\n",
      "Netherlands          37\n",
      "Sweden                5\n",
      "Denmark               4\n",
      "Norway                3\n",
      "Austria               1\n",
      "Name: SupplyCountry, dtype: int64\n",
      "VRBO               58799\n",
      "HomeAway           24074\n",
      "Abritel             6109\n",
      "Homelidays          4298\n",
      "FeWo-direkt         3545\n",
      "OwnersDirect        1868\n",
      "VacationRentals      963\n",
      "AlugueTemporada      286\n",
      "TravelMob             58\n",
      "Name: HomeAwayFamily, dtype: int64\n",
      "13835832    33\n",
      "64270906    17\n",
      "63274201    16\n",
      "63963677    12\n",
      "67955181    11\n",
      "65516313    11\n",
      "65380381    11\n",
      "13856370     8\n",
      "65726918     8\n",
      "92017413     7\n",
      "29449776     6\n",
      "2036968      6\n",
      "10334050     6\n",
      "64896655     6\n",
      "10015445     6\n",
      "65121943     6\n",
      "4997507      6\n",
      "75855997     6\n",
      "36656919     5\n",
      "74218737     5\n",
      "3578294      5\n",
      "18182307     5\n",
      "21289590     5\n",
      "25850641     5\n",
      "1750978      5\n",
      "83212069     5\n",
      "14745250     5\n",
      "67289096     5\n",
      "64858581     4\n",
      "67512498     4\n",
      "            ..\n",
      "30668037     1\n",
      "87671706     1\n",
      "53912126     1\n",
      "72962624     1\n",
      "80997022     1\n",
      "91832898     1\n",
      "80254745     1\n",
      "82182698     1\n",
      "16935463     1\n",
      "7680595      1\n",
      "63562262     1\n",
      "34933259     1\n",
      "23278092     1\n",
      "81345037     1\n",
      "45949454     1\n",
      "13314575     1\n",
      "18111335     1\n",
      "13879827     1\n",
      "1440277      1\n",
      "13865496     1\n",
      "81021475     1\n",
      "80822639     1\n",
      "47677978     1\n",
      "22383131     1\n",
      "82349195     1\n",
      "55577358     1\n",
      "91772575     1\n",
      "44781042     1\n",
      "92029474     1\n",
      "87556096     1\n",
      "Name: EmailId, dtype: int64\n",
      "38a9d1314e8246ffbe321442277d3129    17\n",
      "81da70ad305f457194e8baf48745e326    16\n",
      "740b9cd933884697b49093f8e606af2b    12\n",
      "31c22a3c055c421b9b4f3ab9dd7030ed    11\n",
      "dfcd2ea025604d85bcdba648cd9348ad    11\n",
      "9018549da7844e4a94b6f74fdf2beb40    11\n",
      "4bdf48dd485d4b14848ca9c9c2e1743b    11\n",
      "925554d54b3443fb960ee219a3995ff1    11\n",
      "ff48e151d6a843ab9a732385f6c40be3    11\n",
      "446f2ef1cd90499eb5174d7be3ddf7c5     8\n",
      "f24e2deba87d4f0d8c53af4d1fc9af70     8\n",
      "7225d8c9d9024bd8b4b8207f1f5569c8     7\n",
      "6b79f33fb5db45bc961bb91c9f6df1ee     6\n",
      "a39cc26df28448d786076c454819d262     6\n",
      "2c1e7a3f4ee3487399e826aece543eb2     6\n",
      "97b9d0f1a14f4debb6a2ba6cf4b56201     6\n",
      "53960c4e90b14d7cb665dd2c40f78f63     5\n",
      "fb53f238939748cd86de211fe242aa98     5\n",
      "b4eba5acdc0a48da81514af3ac7c2efc     5\n",
      "5ff1f70a5d0644898cda80373e772a94     5\n",
      "d43cbad9801c4bf7992e46cadc24ac99     5\n",
      "b1ed1e3f42324faca7f406681b3cb694     5\n",
      "f6f14dee1ebd4388a658a4c9cc7bffcb     4\n",
      "21b0a601143d4c6b87ab8653fda1aa64     4\n",
      "dfaeb8ce60924d949c942f5bf13610bf     4\n",
      "af8dcf233944452cbb9aa9ebc7f1210a     4\n",
      "1805d5a462c34404a7b978e8990d1687     4\n",
      "2f0844a25ec34cfba843e2b8d5b3432b     4\n",
      "95557bd23a204665bd4fbc64208d6dca     4\n",
      "70853e313bec49a6bcbeff9caf80467a     4\n",
      "                                    ..\n",
      "4be35a5b59c44d21b8ec621dc04d61af     1\n",
      "4c1442028ba0413ea3c7c6cc446e02c2     1\n",
      "8713a45db51148e7a2722ac621e8a86c     1\n",
      "baaad27a111048c4b64e7ce248543516     1\n",
      "ac12571455b04b5ea4731a0cdd424c7a     1\n",
      "7be6315afcb7415597e6a76c50b42dff     1\n",
      "697e7ffec8fc4578a6a0f2b81aa13bb2     1\n",
      "87b490acfb7543f3a6ea5ed2892addb0     1\n",
      "3124e7568dfe4efe93b9799aa6ebdc64     1\n",
      "335b1bb9c2b1471c9fb46b48483baf8e     1\n",
      "04c0714b7d7d46ec8bdb9017a302f62b     1\n",
      "51c482f76bac4507ad1eaba85f9971d3     1\n",
      "c6ac31afe03e4473b24bbfc0046ca048     1\n",
      "8de3c67f9d2740318d92adbd0d5e3672     1\n",
      "c21cac05cdaa4855bd62402f41486197     1\n",
      "3bca8d3c2cfd4c9b8a9f56cc862d5ac8     1\n",
      "89967b5b6e3d45f68f4656d77c245006     1\n",
      "02d1985b13fc43fe9575e3a1e8747822     1\n",
      "e2d70442e2d342cab0eebde7fcce916d     1\n",
      "f5966e94dacc43b0b24d993864da829e     1\n",
      "27769c2bcc634100ba8420afa0dae7f6     1\n",
      "b3813894f0aa4028a5d175885c7762e8     1\n",
      "6ef5118498994ec89cad9ba935c40147     1\n",
      "30370d8debf64e9ca3c1f26e2a32c5b0     1\n",
      "090c0fc63cb94b108f24fe12c1822d0d     1\n",
      "db15eebd67dc4c75b96f9de6dac8eb40     1\n",
      "2329339b7c444525825c669f7fab8200     1\n",
      "d4af5d30594243869a340b90afcda2ea     1\n",
      "a497439f913d40a4aaeee3e96a4bb97e     1\n",
      "67ddf560e2884d9dad831206c3b5e6d9     1\n",
      "Name: UserGuid, dtype: int64\n",
      "[Unknown]               3183\n",
      "David                    900\n",
      "John                     802\n",
      "Michael                  791\n",
      "Jennifer                 673\n",
      "Lisa                     517\n",
      "Robert                   487\n",
      "Mark                     464\n",
      "James                    438\n",
      "Karen                    429\n",
      "Susan                    417\n",
      "Sarah                    416\n",
      "Chris                    413\n",
      "Mary                     397\n",
      "Julie                    389\n",
      "Michelle                 382\n",
      "Brian                    380\n",
      "Paul                     379\n",
      "Amy                      379\n",
      "Laura                    376\n",
      "Linda                    372\n",
      "Thomas                   342\n",
      "Mike                     335\n",
      "Scott                    330\n",
      "Jessica                  329\n",
      "Kim                      318\n",
      "William                  317\n",
      "Richard                  313\n",
      "Daniel                   310\n",
      "Stephanie                308\n",
      "                        ... \n",
      "Wynona                     1\n",
      "Sumerle                    1\n",
      "Jyothi                     1\n",
      "Kaylonn                    1\n",
      "plume                      1\n",
      "dick                       1\n",
      "Vidhyut                    1\n",
      "Dawnette                   1\n",
      "Romann                     1\n",
      "Soeren                     1\n",
      "Hans Jørgen                1\n",
      "Mundo                      1\n",
      "Derry                      1\n",
      "Ayman                      1\n",
      "Yula                       1\n",
      "Sue's travels              1\n",
      "Laird                      1\n",
      "achim                      1\n",
      "Bulent                     1\n",
      "Amit                       1\n",
      "Juan M                     1\n",
      "Margaret Joan              1\n",
      "Brian and Jan              1\n",
      "Olga & Fred                1\n",
      "Daping                     1\n",
      "Southi                     1\n",
      "Deron                      1\n",
      "Jasmyn                     1\n",
      "John and Kay               1\n",
      "SANDRA O'BRIEN-TAMEZ       1\n",
      "Name: FirstName, dtype: int64\n",
      "[Unknown]       3321\n",
      "                 643\n",
      "Smith            586\n",
      "Johnson          365\n",
      "Brown            296\n",
      "Jones            296\n",
      "Miller           256\n",
      "Williams         234\n",
      "Wilson           213\n",
      "Taylor           207\n",
      "Davis            202\n",
      "Anderson         181\n",
      "Martin           178\n",
      "Lee              178\n",
      "White            158\n",
      "Thomas           158\n",
      "Thompson         145\n",
      "Moore            135\n",
      "Harris           116\n",
      "Clark            115\n",
      "Young            112\n",
      "Wright           112\n",
      "Hall             111\n",
      "Garcia           103\n",
      "Jackson          100\n",
      "Robinson          99\n",
      "Roberts           99\n",
      "Lewis             97\n",
      "Adams             97\n",
      "Allen             96\n",
      "                ... \n",
      "Bertolino          1\n",
      "Gasson             1\n",
      "LeClaire           1\n",
      "hocini             1\n",
      "Reasoner           1\n",
      "sellers            1\n",
      "Walsh Burton       1\n",
      "chiusso            1\n",
      "khavro             1\n",
      "Attia              1\n",
      "Schnobrich         1\n",
      "Froelicher         1\n",
      "Fillian            1\n",
      "DelPizzo           1\n",
      "Spaniel            1\n",
      "Antonovic          1\n",
      "Marinus            1\n",
      "lencastre          1\n",
      "McCollins          1\n",
      "deutsch            1\n",
      "Mariotti           1\n",
      "Shevchenko         1\n",
      "Desiles            1\n",
      "Matuschke          1\n",
      "kiselev            1\n",
      "Daydé              1\n",
      "Grootendorst       1\n",
      "STEPHENSON         1\n",
      "Kaabi              1\n",
      "Dospil             1\n",
      "Name: LastName, dtype: int64\n",
      "joeknollhoff@yahoo.com                  22\n",
      "qa+rm2vrbo@devmail.wvrgroup.internal    17\n",
      "travelerp@devmail.wvrgroup.internal     16\n",
      "barrieob@aol.com                        12\n",
      "qa+rm2hauk@devmail.wvrgroup.internal    11\n",
      "travelerb@devmail.wvrgroup.internal     11\n",
      "qa+rm2fewo@devmail.wvrgroup.internal    11\n",
      "LaurieJJ                                11\n",
      "jodyhuff@gmail.com                       8\n",
      "qa+rm2abri@devmail.wvrgroup.internal     8\n",
      "marion.adp@hotmail.fr                    7\n",
      "roflolil@aol.com                         6\n",
      "tglackin@gmail.com                       6\n",
      "marcialadiaz@gmail.com                   6\n",
      "m_meier@bluewin.ch                       6\n",
      "benwyant@comcast.net                     6\n",
      "detester@devmail.wvrgroup.internal       6\n",
      "premylourdu@gmail.com                    6\n",
      "qa+rm2vr@devmail.wvrgroup.internal       6\n",
      "kddleigh@gmail.com                       5\n",
      "shutton@hfpi.ca                          5\n",
      "tingram@homeaway.com                     5\n",
      "jcl226@gmail.com                         5\n",
      "nickaddy@gmail.com                       5\n",
      "Chrishwang7@gmail.com                    5\n",
      "engcalixto@gmail.com                     5\n",
      "wsliwinski@onet.eu                       4\n",
      "jackieglanzer@yahoo.com                  4\n",
      "dana@303triathlon.com                    4\n",
      "Peter.Boehme.L@t-online.de               4\n",
      "                                        ..\n",
      "jeanblechamcgee@gmail.com                1\n",
      "Lmerolle73@aol.com                       1\n",
      "jamieybak@gmail.com                      1\n",
      "Tony@mpalighting.com                     1\n",
      "s_franck@msn.com                         1\n",
      "lemons@fulton.k12.ga.us                  1\n",
      "tiffany.mahle@hotmail.com                1\n",
      "robertamendesbastos@yahoo.com.br         1\n",
      "betsyb4@cableone.net                     1\n",
      "allisonstrauss@yahoo.com                 1\n",
      "chabrillatlauren@free.fr                 1\n",
      "sergio.milia@inwind.it                   1\n",
      "coptercaptain@yahoo.com                  1\n",
      "Amy_fox1@yahoo.co.uk                     1\n",
      "ianlwalker@lineone.net                   1\n",
      "Pascale.blnb@gmail.com                   1\n",
      "jwicke@outhousedesigns.com               1\n",
      "john.jer.birrell@gmail.com               1\n",
      "mikewill528@gmail.com                    1\n",
      "mahonk5692@gmail.com                     1\n",
      "lg15pdx@yahoo.com                        1\n",
      "hydra2@vt.edu                            1\n",
      "robob64@yahoo.com                        1\n",
      "kelley@sdcm.com                          1\n",
      "jmitchell2517@att.net                    1\n",
      "theknights36@gmail.com                   1\n",
      "dsong0616@gmail.com                      1\n",
      "chewy_fang@yahoo.com                     1\n",
      "klmonette@cox.net                        1\n",
      "edgar.sargent@gmail.com                  1\n",
      "Name: UserName, dtype: int64\n",
      "joeknollhoff@yahoo.com                  33\n",
      "qa+rm2vrbo@devmail.wvrgroup.internal    17\n",
      "travelerp@devmail.wvrgroup.internal     16\n",
      "barrieob@aol.com                        12\n",
      "travelerb@devmail.wvrgroup.internal     11\n",
      "qa+rm2fewo@devmail.wvrgroup.internal    11\n",
      "qa+rm2hauk@devmail.wvrgroup.internal    11\n",
      "qa+rm2abri@devmail.wvrgroup.internal     8\n",
      "jodyhuff@gmail.com                       8\n",
      "marion.adp@hotmail.fr                    7\n",
      "m_meier@bluewin.ch                       6\n",
      "roflolil@aol.com                         6\n",
      "qa+rm2vr@devmail.wvrgroup.internal       6\n",
      "tglackin@gmail.com                       6\n",
      "marcialadiaz@gmail.com                   6\n",
      "premylourdu@gmail.com                    6\n",
      "detester@devmail.wvrgroup.internal       6\n",
      "benwyant@comcast.net                     6\n",
      "Jcl226@gmail.com                         5\n",
      "shutton@hfpi.ca                          5\n",
      "srio@homeaway.com                        5\n",
      "dberna@homeaway.com                      5\n",
      "Test@homeaway.com                        5\n",
      "ENGCALIXTO@GMAIL.COM                     5\n",
      "tingram@homeaway.com                     5\n",
      "chrishwang7@gmail.com                    5\n",
      "kddleigh@gmail.com                       5\n",
      "nickaddy@gmail.com                       5\n",
      "sam@jacobschimes.com                     4\n",
      "dromanus@yahoo.com                       4\n",
      "                                        ..\n",
      "rkushinski@gmail.com                     1\n",
      "alisoninflorida@yahoo.com                1\n",
      "mollybon@dodo.com.au                     1\n",
      "acofte@gmail.com                         1\n",
      "ehmcbee@me.com                           1\n",
      "forekelley@gmail.com                     1\n",
      "firemanjjj@yahoo.com                     1\n",
      "mebaldwin310@yahoo.com                   1\n",
      "Rene.suderman@gmail.com                  1\n",
      "rpate@patefarms.com                      1\n",
      "joe.vann@yahoo.com                       1\n",
      "deleongriselle@yahoo.com                 1\n",
      "barbara@barbaralopes.com                 1\n",
      "taniamartinez16@hotmail.com              1\n",
      "KathrinKrause80@web.de                   1\n",
      "kurtykoolkatdaddyk@gmail.com             1\n",
      "mwb013@bucknell.edu                      1\n",
      "robwalker3000@yahoo.com                  1\n",
      "monicammpage@gmail.com                   1\n",
      "scottk@intercontinental.net              1\n",
      "mimi8386@hotmail.com                     1\n",
      "gregory.wagner3@gmail.com                1\n",
      "marcy@angelazulthemovie.com              1\n",
      "srbroadway@hotmail.com                   1\n",
      "linda.andersson@hotmail.co.uk            1\n",
      "kjburch@aol.com                          1\n",
      "juan.mestres@wowinc.com                  1\n",
      "tiffany.pell@gmail.com                   1\n",
      "will@thedorn.co.uk                       1\n",
      "edgar.sargent@gmail.com                  1\n",
      "Name: EmailAddress, dtype: int64\n",
      "2009-07-21 00:00:00.000    21\n",
      "2014-08-06 12:05:24.677    17\n",
      "2014-07-10 09:51:44.633    16\n",
      "2014-07-29 11:01:36.587    12\n",
      "2012-02-19 17:28:35.730    11\n",
      "2014-09-17 14:18:52.093    11\n",
      "2014-11-04 09:48:27.483    11\n",
      "2014-09-12 12:32:24.020    11\n",
      "2012-02-03 10:38:49.197    11\n",
      "2014-09-07 20:03:47.097    11\n",
      "2013-11-23 17:21:37.240     8\n",
      "2014-09-25 12:14:26.530     8\n",
      "2016-01-18 08:04:24.010     7\n",
      "2015-03-17 10:26:33.240     6\n",
      "2014-02-11 12:09:18.357     6\n",
      "2014-08-26 09:57:15.487     6\n",
      "2015-01-13 14:55:48.290     6\n",
      "2012-07-13 17:14:41.023     5\n",
      "2015-09-16 14:21:07.730     5\n",
      "2015-11-05 17:18:40.727     5\n",
      "2014-03-16 18:45:04.860     5\n",
      "2013-10-16 13:15:13.307     5\n",
      "2015-02-04 19:29:41.507     5\n",
      "2013-12-01 10:31:05.960     4\n",
      "2014-07-17 00:22:34.957     4\n",
      "2014-07-06 20:25:34.453     4\n",
      "2014-05-21 23:35:34.847     4\n",
      "2013-04-25 06:04:03.797     4\n",
      "2016-01-14 10:42:04.407     4\n",
      "2014-08-11 08:01:27.173     4\n",
      "                           ..\n",
      "2016-01-11 07:43:04.493     1\n",
      "2014-03-23 07:52:25.380     1\n",
      "2013-12-24 10:40:14.143     1\n",
      "2015-07-21 13:39:36.890     1\n",
      "2015-08-09 15:49:37.007     1\n",
      "2015-06-19 15:02:00.153     1\n",
      "2015-07-15 09:11:35.133     1\n",
      "2015-07-31 15:58:56.780     1\n",
      "2014-07-06 06:11:04.563     1\n",
      "2015-05-03 20:18:04.013     1\n",
      "2015-02-18 09:45:11.077     1\n",
      "2014-06-23 08:24:05.967     1\n",
      "2013-10-12 09:35:51.180     1\n",
      "2013-11-05 17:17:43.430     1\n",
      "2016-01-01 13:59:15.710     1\n",
      "2015-08-30 10:55:27.210     1\n",
      "2015-08-05 15:29:34.197     1\n",
      "2015-07-23 22:51:32.000     1\n",
      "2016-01-04 21:55:28.360     1\n",
      "2014-01-12 17:25:25.803     1\n",
      "2014-10-03 08:59:06.493     1\n",
      "2015-07-24 21:41:10.360     1\n",
      "2015-01-11 12:56:40.637     1\n",
      "2015-10-01 01:27:45.397     1\n",
      "2015-08-14 13:16:24.307     1\n",
      "2014-07-29 18:52:04.953     1\n",
      "2015-07-25 18:42:52.907     1\n",
      "2015-10-07 13:59:58.850     1\n",
      "2013-11-25 14:59:04.790     1\n",
      "2015-07-26 13:51:00.637     1\n",
      "Name: CreateDate, dtype: int64\n",
      "2016-08-30 10:47:49.833    17\n",
      "2016-03-21 06:40:00.000    16\n",
      "2016-06-10 05:47:00.937    13\n",
      "2016-06-10 04:51:00.677    12\n",
      "2016-06-09 17:33:00.883    12\n",
      "2014-07-29 11:01:36.587    12\n",
      "2016-08-30 10:51:56.670    11\n",
      "2016-08-23 12:08:22.213    11\n",
      "2016-08-10 01:07:52.470    11\n",
      "2016-08-16 06:07:45.800     8\n",
      "2013-11-23 17:21:37.240     8\n",
      "2016-01-19 05:44:01.703     7\n",
      "2016-03-22 11:49:42.540     6\n",
      "2016-03-22 13:30:28.520     6\n",
      "2015-03-17 10:26:33.240     6\n",
      "2014-08-26 09:57:15.487     6\n",
      "2016-08-07 04:53:38.927     6\n",
      "2016-08-14 12:31:08.073     5\n",
      "2016-06-10 05:35:01.800     5\n",
      "2014-03-16 18:45:04.860     5\n",
      "2016-03-22 12:08:29.753     5\n",
      "2016-08-18 09:01:05.247     5\n",
      "2016-01-24 15:16:47.903     5\n",
      "2016-08-29 23:19:46.983     5\n",
      "2016-08-22 18:45:53.347     5\n",
      "2016-06-29 11:29:13.253     4\n",
      "2015-12-21 09:24:41.430     4\n",
      "2016-06-10 05:33:01.793     4\n",
      "2016-06-09 18:02:01.147     4\n",
      "2016-02-05 00:50:48.900     4\n",
      "                           ..\n",
      "2015-12-11 10:54:17.807     1\n",
      "2013-12-15 17:28:05.217     1\n",
      "2015-02-03 12:38:03.023     1\n",
      "2015-05-01 14:28:14.050     1\n",
      "2014-04-09 00:45:36.757     1\n",
      "2016-01-21 20:46:15.687     1\n",
      "2015-08-20 13:14:55.397     1\n",
      "2015-07-05 12:33:10.640     1\n",
      "2016-02-19 14:36:33.577     1\n",
      "2016-04-27 11:19:38.330     1\n",
      "2016-08-25 20:50:37.500     1\n",
      "2015-11-24 22:51:35.830     1\n",
      "2015-10-01 18:04:36.043     1\n",
      "2014-01-18 20:29:36.963     1\n",
      "2016-08-28 10:05:25.253     1\n",
      "2015-08-01 07:40:34.937     1\n",
      "2014-12-17 13:11:35.960     1\n",
      "2016-06-13 05:14:48.173     1\n",
      "2014-06-10 15:46:41.950     1\n",
      "2016-05-17 23:37:51.010     1\n",
      "2012-08-10 20:08:09.910     1\n",
      "2016-02-20 23:28:55.320     1\n",
      "2015-11-01 17:57:41.647     1\n",
      "2015-07-20 21:57:18.920     1\n",
      "2015-09-18 18:26:25.807     1\n",
      "2015-08-03 22:00:56.417     1\n",
      "2016-08-05 14:49:17.957     1\n",
      "2016-04-27 16:35:06.943     1\n",
      "2013-02-25 14:51:55.137     1\n",
      "2013-11-07 08:25:02.830     1\n",
      "Name: updateDate, dtype: int64\n",
      "GOOD_STANDING    100000\n",
      "Name: UserStatus, dtype: int64\n",
      "NaN                                                                                                                                                                                                                                                                                                                                                                                                                                                                                                                                                                                                                      99399\n",
      "We like the beach, historic places, shopping, cafes, bars and restaurants.  We also like lively places with entertainment, not too lively though.                                                                                                                                                                                                                                                                                                                                                                                                                                                                            3\n",
      "walking, sightseeing (bus or car), boating, paddle boat, rafting, kayaking, roller blading, cycling, wildlife viewing, massage, eating, coffee, parks, music, theatre, culture, textiles/fabrics, sewing, shopping                                                                                                                                                                                                                                                                                                                                                                                                           3\n",
      "golf on Florida during winter....fish in Lake Eire in summer...quiet, non-smoker....carry toolbox in SUV while on vacation to FIX things too small to bother owner.....I would rent to ME !                                                                                                                                                                                                                                                                                                                                                                                                                                  3\n",
      "Hike; hang out with family or girlfriends; bike;camp                                                                                                                                                                                                                                                                                                                                                                                                                                                                                                                                                                         2\n",
      "Découvrir,  visiter, faire de nouvelles connaissances, tester la gastronomie locale.....                                                                                                                                                                                                                                                                                                                                                                                                                                                                                                                                     2\n",
      "ON MY VACATION GETAWAYS I LIKE TO LAY BACK RELAX AND ENJOY NEW THINGS ...I WORK VERY HARD AND NOW ITS TIME FOR ME TO ENJOY MY TIME ....HOBBIES ANYTHING REALLY.....I WOULD LIKE TOO SEE DIFFERENT PARTS OF THE WORLD EXCEPT BROOKLYN NY                                                                                                                                                                                                                                                                                                                                                                                      2\n",
      "Mit Ehemann und Hund                                                                                                                                                                                                                                                                                                                                                                                                                                                                                                                                                                                                         2\n",
      "Me gusta mucho la playa y viajar                                                                                                                                                                                                                                                                                                                                                                                                                                                                                                                                                                                             2\n",
      "Back in MB for awhile - major 30 year remodeling projects will keep us busy here.  Enjoying the youngins and a little sweet tea every now and then.  Had some beach time, some allergy awareness wake-up calls and almost unpacked.                                                                                                                                                                                                                                                                                                                                                                                          2\n",
      "Vacations = sightseeing, relaxed shopping, hiking\\r\\n\\r\\nHobbies = avid readers                                                                                                                                                                                                                                                                                                                                                                                                                                                                                                                                              2\n",
      "conhecer lugares                                                                                                                                                                                                                                                                                                                                                                                                                                                                                                                                                                                                             2\n",
      "hike; visit museums, photograph the sites; soak in the local culture                                                                                                                                                                                                                                                                                                                                                                                                                                                                                                                                                         2\n",
      "We like the beach and camping with our friends when we can.  The kids like to ride their dirt bikes in the desert during the winter.                                                                                                                                                                                                                                                                                                                                                                                                                                                                                         2\n",
      "I am a retired teacher. Mom of five grown children. Grammy to eight beautiful children .                                                                                                                                                                                                                                                                                                                                                                                                                                                                                                                                     2\n",
      "😍😍😍 to Travel                                                                                                                                                                                                                                                                                                                                                                                                                                                                                                                                                                                                             2\n",
      "sight see, relax, theme parks,                                                                                                                                                                                                                                                                                                                                                                                                                                                                                                                                                                                               2\n",
      "I'm happily married for 22 awesome years.  We have two sons, one is a Marine and the other is a senior @ UAB.  We like to fish, grill out, hang out with friends & family, and enjoy each day with all that it brings.                                                                                                                                                                                                                                                                                                                                                                                                       2\n",
      "Read, lay on the beach, walk, listen to music                                                                                                                                                                                                                                                                                                                                                                                                                                                                                                                                                                                2\n",
      "I'm cool, I mean... REALLY cool.                                                                                                                                                                                                                                                                                                                                                                                                                                                                                                                                                                                             2\n",
      "visite, randonnée, mer, ne rien faire                                                                                                                                                                                                                                                                                                                                                                                                                                                                                                                                                                                        2\n",
      "hike national parks, relax on beaches, explore historical places...see the back roads of our country                                                                                                                                                                                                                                                                                                                                                                                                                                                                                                                         2\n",
      "We love to spend quality time together as a family, love to travel and discover new cities and it's treasures.                                                                                                                                                                                                                                                                                                                                                                                                                                                                                                               1\n",
      "if it has wheels or floats , I've Probably wrecked it , that's why I seldom fly. I have the need to find everythings limits and if I were a cat I would be dead . I work twice as hard to get half as much done as a normal person . I hate confrontation but I will stand up for everything right and the underdog . I have a short attention span and accident prone whitch is probably related . I love my God , wife , children and family very much .                                                                                                                                                                   1\n",
      "Have fun!  Have 5 children who are always looking for things to do!                                                                                                                                                                                                                                                                                                                                                                                                                                                                                                                                                          1\n",
      "sol og sommer sammen med familie                                                                                                                                                                                                                                                                                                                                                                                                                                                                                                                                                                                             1\n",
      "My family enjoys spending time together by going to the beach, swimming, amusement parks, museums, and having cook-outs.                                                                                                                                                                                                                                                                                                                                                                                                                                                                                                     1\n",
      "I am a 37 year old female and have been married to my wonderful husband for 8 years now. We live in Birmingham, Alabama and currently do not have any children. We are both hard working citizens and enjoy traveling on our leisure time along with antiquing, thrift shopping and record collecting. We love our time at the beach and go as much as possible.                                                                                                                                                                                                                                                             1\n",
      "I travel 100% for work building Cellular Network Infrastucture. Being able to stay at locations that have all amenities (kitchen, etc.) allows me to enjoy my time off while traveling.                                                                                                                                                                                                                                                                                                                                                                                                                                      1\n",
      "We like ocean view, access to a pool, nearby shopping and attractions.                                                                                                                                                                                                                                                                                                                                                                                                                                                                                                                                                       1\n",
      "                                                                                                                                                                                                                                                                                                                                                                                                                                                                                                                                                                                                                         ...  \n",
      "Wandelen, rondtrekken en nieuwe gebieden ontdekken. Als sport Golf.                                                                                                                                                                                                                                                                                                                                                                                                                                                                                                                                                          1\n",
      "Mi destino favorito es Brasil, todo y en especial Rio, me gusta el mar,las montaÃ±as y el verde de la naturaleza.                                                                                                                                                                                                                                                                                                                                                                                                                                                                                                            1\n",
      "Travel, rest and watch movies.                                                                                                                                                                                                                                                                                                                                                                                                                                                                                                                                                                                               1\n",
      "When traveling for leisure, I like to stay away from hotels and go for something nicer like a cabin or cottage. Usually, with a hot tub for relaxing. I enjoy jogging, mountain biking, hiking, camping, DIY home projects, and building computers.\\r\\n\\r\\nI am retired Active Army (20 years, Armor) and have now worked as a Department of the Army Civilian for over 10 years. I currently work within the Maneuver Center of Excellence (MCoE) at Fort Benning, GA at the Directorate of Training and Doctrine (DOTD). I supervise a team of training & education developers.\\r\\n\\r\\nemail: john.w.budd@gmail.com        1\n",
      "Love Martha's Vineyard!                                                                                                                                                                                                                                                                                                                                                                                                                                                                                                                                                                                                      1\n",
      "Play games, watch movies, go for hikes, browse the local shops, read. Dinner parties. \\r\\n2 adult children +   partners.  A mini labradoodle, doesn't shed.  Loves playing in the snow.  Crate trained.                                                                                                                                                                                                                                                                                                                                                                                                                      1\n",
      "It's all about having fun, laughing, and making memories.                                                                                                                                                                                                                                                                                                                                                                                                                                                                                                                                                                    1\n",
      "I love to spend time with my family and friends. I have a great time no matter what I do! :)                                                                                                                                                                                                                                                                                                                                                                                                                                                                                                                                 1\n",
      "Love warm weather, the ocean, the desert, the great outdoors, family, baseball, birds, animals, music, #CLEVELAND                                                                                                                                                                                                                                                                                                                                                                                                                                                                                                            1\n",
      "I believe that holidays should be more than a vacation, it should be an \"experience\".                                                                                                                                                                                                                                                                                                                                                                                                                                                                                                                                        1\n",
      "Hiking and outdoor activities                                                                                                                                                                                                                                                                                                                                                                                                                                                                                                                                                                                                1\n",
      "Gosto de viajar com a familia principalmente pra Ubatuba sempre constumo ir pra camping e cheles.                                                                                                                                                                                                                                                                                                                                                                                                                                                                                                                            1\n",
      "queremos visitar orlando con un grupo familiar que reune 11 personas.                                                                                                                                                                                                                                                                                                                                                                                                                                                                                                                                                        1\n",
      "I'm a recent college grad who is blessed with a job that lets me telecommute indefinitely, so I'm indulging in my wanderlust before settling down. I've been traveling all over the U.S. and am embarking on a trip around the world in 2013.\\r\\n\\r\\nAs a guest, I'm communicative, respectful, and believe in treating your space as I would my own.\\r\\n\\r\\nAt the moment, I'm booking lodgings for international destinations and looking for novel things in unexpected places.\\r\\n\\r\\nMy Airbnb profile: https://www.airbnb.com/users/show/2202432                                                                       1\n",
      "Outdoor-lover. Avid reader.                                                                                                                                                                                                                                                                                                                                                                                                                                                                                                                                                                                                  1\n",
      "Get out and about, visit different beaches and spend time by the pool, go out in the evening to look around the local towns                                                                                                                                                                                                                                                                                                                                                                                                                                                                                                  1\n",
      "Sandy Beach for young family, nice restaurants                                                                                                                                                                                                                                                                                                                                                                                                                                                                                                                                                                               1\n",
      "I like to relax on vacation.  I love to travel abroad and experience new cultures and places.  Eating amazing food is always a plus!                                                                                                                                                                                                                                                                                                                                                                                                                                                                                         1\n",
      "I love going to Orange Beach, AL and staying a nice condo and just relaxing by the pool or going out on the town to shop or go eat at a great restaurant.                                                                                                                                                                                                                                                                                                                                                                                                                                                                    1\n",
      "Sono una ragazza solare a cui piace molto viaggiare                                                                                                                                                                                                                                                                                                                                                                                                                                                                                                                                                                          1\n",
      "Découvrir, visiter, ne rien faire, baignade, randonnées                                                                                                                                                                                                                                                                                                                                                                                                                                                                                                                                                                      1\n",
      "Married with kids                                                                                                                                                                                                                                                                                                                                                                                                                                                                                                                                                                                                            1\n",
      "Like to travel with the Grandkids. Swim,hike,see historic sights. My favorite place to visit is Hawaii.                                                                                                                                                                                                                                                                                                                                                                                                                                                                                                                      1\n",
      "Good dining.  Motorcycle riding. Shopping                                                                                                                                                                                                                                                                                                                                                                                                                                                                                                                                                                                    1\n",
      "Gosto de viajar para lugares tranquilos e com contato prÃ³ximo Ã  natureza, seja praia ou campo.                                                                                                                                                                                                                                                                                                                                                                                                                                                                                                                             1\n",
      "I love the beach, husband loves to golf, we both love to eat out and just check out the sights and sounds of the area                                                                                                                                                                                                                                                                                                                                                                                                                                                                                                        1\n",
      "viajo sempre que posso                                                                                                                                                                                                                                                                                                                                                                                                                                                                                                                                                                                                       1\n",
      "I've been married for 28 years and have 2 children.  My son is 21 and attending Wentworth College and my daughter is 25 and finishing an NP program at Mass General Hospital.  \\r\\r\\r\\rHobbies: skiing, hiking, kayaking and fishing.\\r\\r\\r\\r\\r\\r\\r\\r                                                                                                                                                                                                                                                                                                                                                                        1\n",
      "Vacation near our grandchildren (Missouri & California)                                                                                                                                                                                                                                                                                                                                                                                                                                                                                                                                                                      1\n",
      "Family orientated.                                                                                                                                                                                                                                                                                                                                                                                                                                                                                                                                                                                                           1\n",
      "Name: About, dtype: int64\n",
      "NaN                                                                                                  99336\n",
      "Retired                                                                                                 31\n",
      "Oracle                                                                                                  16\n",
      "retired                                                                                                 15\n",
      "Self employed                                                                                            5\n",
      "Wakefield MDC                                                                                            3\n",
      "Hospital                                                                                                 3\n",
      "insurance broker                                                                                         3\n",
      "CONCEPTS OF INDEPENDENCE                                                                                 2\n",
      "redegreen com de peças                                                                                   2\n",
      "Teacher                                                                                                  2\n",
      "self                                                                                                     2\n",
      "Self Employed:  Talent Acquisition Consultant                                                            2\n",
      "Century 21 Real Estate                                                                                   2\n",
      "My husband is retired from Toyota                                                                        2\n",
      "vacaciones edreams                                                                                       2\n",
      "marketing                                                                                                2\n",
      "Fireman's Fund Insurance Company                                                                         2\n",
      "Vision Sound and Light                                                                                   2\n",
      "FedEx                                                                                                    2\n",
      "Kaiser Permanente                                                                                        2\n",
      "education nationale                                                                                      2\n",
      "n/a                                                                                                      2\n",
      "Asistenta del hogar                                                                                      2\n",
      "Health services management group                                                                         2\n",
      "Pharmazeutische Industrie                                                                                2\n",
      "Commercial Building Services                                                                             2\n",
      "U.S. Army                                                                                                2\n",
      "Professional Triathlete                                                                                  2\n",
      "Artsan en maintenance industrielle                                                                       2\n",
      "                                                                                                     ...  \n",
      "Christian Life Schools                                                                                   1\n",
      "St Vincent's Hospital Sydney                                                                             1\n",
      "Russell Stover candies                                                                                   1\n",
      "Magruder Hospital                                                                                        1\n",
      "Empresa de Informatica                                                                                   1\n",
      "1971                                                                                                     1\n",
      "Anthem, Inc.                                                                                             1\n",
      "ShiftWise                                                                                                1\n",
      "Lynch Ambulance / EMS                                                                                    1\n",
      "Roughley Speaking Communications                                                                         1\n",
      "Retired Teacher                                                                                          1\n",
      "Episcopal School of Jacksonville                                                                         1\n",
      "Pixel Film Studios - www.pixelfilmstudios.com                                                            1\n",
      "part time pharmacy technician                                                                            1\n",
      "We have a family owned publishing company for 50 yrs                                                     1\n",
      "Banque                                                                                                   1\n",
      "commercialista                                                                                           1\n",
      "BESTWESTERN - COWBOY INN COTULLA TX                                                                      1\n",
      "Ntnu                                                                                                     1\n",
      "Dept of Justice                                                                                          1\n",
      "Former Life Ins. Manager at Eureko Romania (part of Achmea B.V.), currently taking care of my son        1\n",
      "Le Bois Realty                                                                                           1\n",
      "Stuart Police                                                                                            1\n",
      "propia                                                                                                   1\n",
      "Dawson College                                                                                           1\n",
      "Brigham and Womens Hospital                                                                              1\n",
      "Tensas State Bank                                                                                        1\n",
      "Eastern Greene Schools                                                                                   1\n",
      "US Navy                                                                                                  1\n",
      "CYPRUS POLICE                                                                                            1\n",
      "Name: Employer, dtype: int64\n",
      "NaN                                                                                 99187\n",
      "English                                                                               340\n",
      "english                                                                                42\n",
      "Deutsch, Englisch                                                                      15\n",
      "English, French                                                                        10\n",
      "English only                                                                            6\n",
      "portugues                                                                               5\n",
      "FRANCAIS                                                                                5\n",
      "Portugues                                                                               5\n",
      "Français                                                                                4\n",
      "ENGLISH                                                                                 4\n",
      "Português                                                                               4\n",
      "English and Spanish                                                                     4\n",
      "francais                                                                                4\n",
      "American English                                                                        4\n",
      "English, Spanish                                                                        4\n",
      "French                                                                                  4\n",
      "null                                                                                    4\n",
      "deutsch, englisch                                                                       3\n",
      "english, spanish                                                                        3\n",
      "Deutsch, Englisch, Französisch                                                          3\n",
      "Spanish and English                                                                     3\n",
      "French, English                                                                         3\n",
      "English, some Italian                                                                   3\n",
      "English, Russian                                                                        3\n",
      "Swedish, English                                                                        2\n",
      "espaÃ±ol                                                                                2\n",
      "English, some French                                                                    2\n",
      "Spanish, English                                                                        2\n",
      "FranÃ§ais                                                                               2\n",
      "                                                                                    ...  \n",
      "Norwegian                                                                               1\n",
      "Francais, anglais, espagnol, italien                                                    1\n",
      "German, Englisch                                                                        1\n",
      "FRAN9AIS                                                                                1\n",
      "français, anglais(un peu)                                                               1\n",
      "English, Spanish                                                                        1\n",
      "English, Russian, German, French                                                        1\n",
      "Italiano, Inglese                                                                       1\n",
      "Spanish, Italian, and some Hebrew                                                       1\n",
      "English and Chinese                                                                     1\n",
      "Anglais                                                                                 1\n",
      "english, little Italian.                                                                1\n",
      "Deutsch Russisch                                                                        1\n",
      "English, Spanish, conversational Portuguese                                             1\n",
      "German                                                                                  1\n",
      "EspaÃ±ol, English                                                                       1\n",
      "francais anglais                                                                        1\n",
      "English, me a little Dutch                                                              1\n",
      "englisch, deutsch, ungarisch                                                            1\n",
      "Nederlands, Engels, Duits                                                               1\n",
      "ARABIC AND ENGLISH                                                                      1\n",
      "Englisch                                                                                1\n",
      "Brazilian Portuguese, American English, Arabic, Lebanese Arabic, British English        1\n",
      "PORTUGUES                                                                               1\n",
      "english, american sign language                                                         1\n",
      "Spanish, English, French (some)                                                         1\n",
      "English  Wife speaks a little French and Spanish                                        1\n",
      "Spanish and english                                                                     1\n",
      "English, French and Spanish                                                             1\n",
      "English, Spanish, Portuguese, French                                                    1\n",
      "Name: Languages, dtype: int64\n",
      "NaN                                                                                       99458\n",
      "University of Michigan                                                                        4\n",
      "University of Florida                                                                         3\n",
      "University of Utah                                                                            3\n",
      "Murray State University                                                                       3\n",
      "Syracuse University                                                                           3\n",
      "University of Phoenix                                                                         3\n",
      "cleveland state                                                                               3\n",
      "University of Alabama                                                                         3\n",
      "Indiana University                                                                            3\n",
      "Oklahoma State University                                                                     3\n",
      "Stanford University                                                                           2\n",
      "Kirkton High School, Dundee                                                                   2\n",
      "Brescia University                                                                            2\n",
      "fac  de la garde, ufr géographie Montpellier et ufr sciences économiques aix Marseille        2\n",
      "University of Colorado                                                                        2\n",
      "Kiel                                                                                          2\n",
      "Bocconi University                                                                            2\n",
      "Mississippi State University                                                                  2\n",
      "East Carolina University                                                                      2\n",
      "Nettleton Business College                                                                    2\n",
      "University of Santo Tomas                                                                     2\n",
      "University of Hawaii                                                                          2\n",
      "University of Houston                                                                         2\n",
      "University of Alaska Fairbanks                                                                2\n",
      "California State University, Fullerton                                                        2\n",
      "University of Dayton; Washington University; University of Missouri                           2\n",
      "Damon college                                                                                 2\n",
      "MIT                                                                                           2\n",
      "Michigan State University                                                                     2\n",
      "                                                                                          ...  \n",
      "Master                                                                                        1\n",
      "nursing                                                                                       1\n",
      "University of California at Davis                                                             1\n",
      "Anderson College, SC                                                                          1\n",
      "Ruhr-Universität Bochum                                                                       1\n",
      "Central Connecticut State University                                                          1\n",
      "The University of Texas at Austin                                                             1\n",
      "Oregon State University                                                                       1\n",
      "2° grau Completo                                                                              1\n",
      "HD                                                                                            1\n",
      "ESADE University Barcelona                                                                    1\n",
      "WirtschaftsuniversitÃ¤t Wien                                                                  1\n",
      "Strayer University                                                                            1\n",
      "UT Medical Center                                                                             1\n",
      "Ntnu                                                                                          1\n",
      "WWU Münster                                                                                   1\n",
      "High School Diploma                                                                           1\n",
      "Pitt                                                                                          1\n",
      "California State University Sacramento                                                        1\n",
      "Universität Leipzig                                                                           1\n",
      "Oregon Institute of Technology                                                                1\n",
      "Christian Albrechts Universität zu Kiel                                                       1\n",
      "PERITO ELETTRONICO INDUSTRIALE                                                                1\n",
      "Massachusetts Maritime Academy                                                                1\n",
      "operatore turistico                                                                           1\n",
      "Williams College                                                                              1\n",
      "BSU                                                                                           1\n",
      "Cal State Fullerton                                                                           1\n",
      "Faculdade da Cidade                                                                           1\n",
      "CYPRUS POLICE ACADEMY,                                                                        1\n",
      "Name: School, dtype: int64\n",
      "NaN    98675\n",
      "F        802\n",
      "M        523\n",
      "Name: Gender, dtype: int64\n",
      "NaN                          99234\n",
      "Montreal                         7\n",
      "Same                             5\n",
      "Chicago                          5\n",
      "Paris                            5\n",
      "Vancouver                        4\n",
      "São Paulo                        4\n",
      "Melbourne                        4\n",
      "St. Louis                        4\n",
      "Cincinnati                       3\n",
      "Cleveland                        3\n",
      "Indiana                          3\n",
      "London, United Kingdom           3\n",
      "Houston, Texas                   3\n",
      "Springfield, Ohio                3\n",
      "London                           3\n",
      "Edmonton, AB                     3\n",
      "Denver                           3\n",
      "South Kirkby                     3\n",
      "New York                         3\n",
      "Missoula, MT                     2\n",
      "Bordeaux                         2\n",
      "Hamburg                          2\n",
      "Norddeutschland                  2\n",
      "Ottawa                           2\n",
      "Bochum                           2\n",
      "Salt Lake City                   2\n",
      "Brantford, Ontario               2\n",
      "France                           2\n",
      "Australia                        2\n",
      "                             ...  \n",
      "Gießen                           1\n",
      "Keller                           1\n",
      "Dayton, Ohio                     1\n",
      "Wichita                          1\n",
      "Runcorn, Cheshire                1\n",
      "Townsville                       1\n",
      "Belvidere, IL                    1\n",
      "Toronto, Canada                  1\n",
      "Camarillo Ca                     1\n",
      "Ketchum                          1\n",
      "Odense, Denmark                  1\n",
      "New york                         1\n",
      "Guaratinguetá                    1\n",
      "Livingston, New Jersey           1\n",
      "Shaker Heights                   1\n",
      "New Boston, New Hampshire        1\n",
      "Capron, Illinois                 1\n",
      "Shreveport, La                   1\n",
      "Chicago.                         1\n",
      "EVRY FRANCE                      1\n",
      "Rio de Janeiro                   1\n",
      "Landgraaf                        1\n",
      "Hansweert                        1\n",
      "Lyndhurst, Ohio                  1\n",
      "Luoyang, Henan                   1\n",
      "Gassville, Arkansas              1\n",
      "Unna                             1\n",
      "région parisienne                1\n",
      "Aquidauana, MS                   1\n",
      "Guthrie, OK                      1\n",
      "Name: HomeTown, dtype: int64\n",
      "True     51861\n",
      "False    48139\n",
      "Name: RegisteredFlag, dtype: int64\n",
      "NaN                  96731\n",
      "                      2535\n",
      "10205857575028451        3\n",
      "10205766455020218        3\n",
      "1614142334               3\n",
      "100005116323063          3\n",
      "59700572                 3\n",
      "100003673023309          2\n",
      "651784377                2\n",
      "553276846                2\n",
      "10205851711305054        2\n",
      "10209634276480341        2\n",
      "10205903527321774        2\n",
      "1192478031               2\n",
      "100001473445208          2\n",
      "100002049646735          2\n",
      "680452362                2\n",
      "614628357                2\n",
      "10102648350142095        2\n",
      "1506997405               2\n",
      "10154479597219201        2\n",
      "1282470216               2\n",
      "10200740650515946        2\n",
      "753783497                2\n",
      "627426336                2\n",
      "100001977546503          2\n",
      "83402936                 2\n",
      "10206390371414178        2\n",
      "1204589002925028         2\n",
      "10101210467485769        2\n",
      "                     ...  \n",
      "1808747914               1\n",
      "502899168                1\n",
      "10201434238574319        1\n",
      "634563989                1\n",
      "10209591694372376        1\n",
      "1188219386               1\n",
      "100001274411617          1\n",
      "100000533395130          1\n",
      "100002761909327          1\n",
      "10153830718847487        1\n",
      "10204658461242703        1\n",
      "100000645128672          1\n",
      "1203570476               1\n",
      "100001878217110          1\n",
      "808099197                1\n",
      "585443413                1\n",
      "1054893444574807         1\n",
      "1111022925639817         1\n",
      "1013438067               1\n",
      "10200417081707197        1\n",
      "10207986378472101        1\n",
      "654976817                1\n",
      "10156809874260314        1\n",
      "1393846927300597         1\n",
      "10206402308429443        1\n",
      "10204830616825956        1\n",
      "1042805342405823         1\n",
      "100002632323526          1\n",
      "100000610623179          1\n",
      "1616797159               1\n",
      "Name: SourceFacebookUserId, dtype: int64\n",
      "NaN      90936\n",
      "False     7386\n",
      "True      1678\n",
      "Name: PublicProfileCompleteFlag, dtype: int64\n",
      "NaT                           96693\n",
      "1900-01-01 00:00:00.000000     1629\n",
      "2012-09-27 00:00:00.000000       11\n",
      "2016-01-07 00:00:00.000000        5\n",
      "2012-09-27 16:43:37.000000        5\n",
      "2016-01-08 00:00:00.000000        4\n",
      "2016-01-09 00:00:00.000000        4\n",
      "2012-09-27 16:20:12.000000        3\n",
      "2012-09-27 16:46:46.000000        3\n",
      "2012-09-27 16:18:43.000000        3\n",
      "2014-07-02 18:37:21.000000        3\n",
      "2012-09-27 16:53:56.000000        3\n",
      "2012-09-27 15:25:06.000000        3\n",
      "2016-01-10 00:00:00.000000        3\n",
      "2013-01-22 12:21:34.000000        3\n",
      "2012-09-27 16:53:44.000000        3\n",
      "2012-11-28 13:05:22.000000        3\n",
      "2012-09-27 16:18:04.000000        3\n",
      "2012-09-27 15:33:52.000000        3\n",
      "2012-09-27 16:51:58.000000        2\n",
      "2012-09-27 16:18:16.000000        2\n",
      "2015-04-05 14:50:12.000000        2\n",
      "2012-09-27 16:42:54.000000        2\n",
      "2015-04-26 13:46:38.000000        2\n",
      "2015-03-22 05:27:15.000000        2\n",
      "2012-09-27 16:42:33.000000        2\n",
      "2016-01-10 19:26:49.843333        2\n",
      "2012-11-08 08:25:08.000000        2\n",
      "2012-09-27 16:53:06.000000        2\n",
      "2015-02-28 15:45:54.000000        2\n",
      "                              ...  \n",
      "2013-03-06 19:20:15.000000        1\n",
      "2012-11-20 10:02:55.000000        1\n",
      "2012-09-27 16:17:15.000000        1\n",
      "2013-01-07 19:02:39.000000        1\n",
      "2014-10-23 16:54:35.000000        1\n",
      "2013-02-08 05:13:13.000000        1\n",
      "2012-11-13 19:21:45.000000        1\n",
      "2015-01-13 08:22:57.000000        1\n",
      "2012-09-27 16:46:33.000000        1\n",
      "2013-02-25 08:23:32.000000        1\n",
      "2015-03-10 01:37:36.000000        1\n",
      "2016-01-08 06:05:32.793333        1\n",
      "2013-06-07 09:19:22.000000        1\n",
      "2015-10-19 02:13:47.433333        1\n",
      "2013-02-06 09:33:47.000000        1\n",
      "2012-12-18 06:38:27.000000        1\n",
      "2013-01-18 14:01:05.000000        1\n",
      "2012-09-27 16:42:38.000000        1\n",
      "2012-12-13 17:30:58.000000        1\n",
      "2014-09-28 08:20:46.000000        1\n",
      "2015-11-04 00:00:00.000000        1\n",
      "2015-10-03 20:16:14.000000        1\n",
      "2013-10-23 10:40:39.000000        1\n",
      "2013-03-20 13:37:20.000000        1\n",
      "2013-03-06 00:42:03.000000        1\n",
      "2012-09-27 15:16:39.000000        1\n",
      "2013-01-09 15:07:47.000000        1\n",
      "2012-12-08 19:34:23.000000        1\n",
      "2012-11-13 04:04:31.000000        1\n",
      "2015-11-04 11:17:16.026666        1\n",
      "Name: CompleteDate, dtype: int64\n",
      "NaN          99420\n",
      " 334056.0        3\n",
      " 790122.0        2\n",
      " 278184.0        2\n",
      " 589965.0        2\n",
      " 175381.0        2\n",
      " 375114.0        2\n",
      " 300240.0        2\n",
      " 412604.0        2\n",
      " 225264.0        2\n",
      " 298523.0        2\n",
      " 313703.0        2\n",
      " 124180.0        2\n",
      " 256010.0        2\n",
      " 346585.0        2\n",
      " 369714.0        2\n",
      " 551992.0        2\n",
      " 132943.0        2\n",
      " 342077.0        2\n",
      " 132438.0        2\n",
      " 392984.0        2\n",
      " 562667.0        1\n",
      " 299143.0        1\n",
      " 299485.0        1\n",
      " 561644.0        1\n",
      " 561749.0        1\n",
      " 299626.0        1\n",
      " 300152.0        1\n",
      " 38010.0         1\n",
      " 292801.0        1\n",
      "             ...  \n",
      " 326985.0        1\n",
      " 720312.0        1\n",
      " 65303.0         1\n",
      " 590141.0        1\n",
      " 328155.0        1\n",
      " 328311.0        1\n",
      " 328819.0        1\n",
      " 328864.0        1\n",
      " 328865.0        1\n",
      " 329402.0        1\n",
      " 329501.0        1\n",
      " 329720.0        1\n",
      " 723011.0        1\n",
      " 330031.0        1\n",
      " 331835.0        1\n",
      " 68084.0         1\n",
      " 330422.0        1\n",
      " 68402.0         1\n",
      " 330716.0        1\n",
      " 724037.0        1\n",
      " 592981.0        1\n",
      " 593114.0        1\n",
      " 331026.0        1\n",
      " 331035.0        1\n",
      " 593331.0        1\n",
      " 593533.0        1\n",
      " 200564.0        1\n",
      " 200623.0        1\n",
      " 331797.0        1\n",
      " 189449.0        1\n",
      "Name: CurrentPublicProfilePictureId, dtype: int64\n",
      "NaN         99420\n",
      "manual        347\n",
      "facebook      155\n",
      "gravatar       78\n",
      "Name: ProfilePictureSource, dtype: int64\n",
      "NaN      99420\n",
      "False      580\n",
      "Name: DefaultProfilePictureFlag, dtype: int64\n",
      "2016-01-18    10497\n",
      "2016-01-20     9787\n",
      "2016-01-19     9582\n",
      "2016-01-21     6322\n",
      "2015-10-06     1480\n",
      "2015-10-04     1430\n",
      "2015-10-02     1397\n",
      "2015-10-05     1350\n",
      "2015-10-07     1257\n",
      "2015-11-21     1106\n",
      "2015-07-14     1049\n",
      "2015-10-09     1007\n",
      "2015-07-28      967\n",
      "2015-10-08      948\n",
      "2015-07-15      930\n",
      "2015-07-22      898\n",
      "2015-07-21      844\n",
      "2015-07-27      838\n",
      "2015-10-03      829\n",
      "2015-07-23      822\n",
      "2015-07-29      808\n",
      "2015-10-01      807\n",
      "2015-07-16      791\n",
      "2015-07-19      782\n",
      "2015-08-13      745\n",
      "2015-07-20      730\n",
      "2015-08-03      727\n",
      "2015-08-02      723\n",
      "2015-07-06      707\n",
      "2015-07-17      699\n",
      "              ...  \n",
      "2016-07-20        1\n",
      "2016-05-24        1\n",
      "2015-10-22        1\n",
      "2015-03-22        1\n",
      "2016-08-23        1\n",
      "2016-07-19        1\n",
      "2016-05-28        1\n",
      "2015-10-26        1\n",
      "2016-05-19        1\n",
      "2016-02-14        1\n",
      "2016-07-26        1\n",
      "2015-09-11        1\n",
      "2015-12-31        1\n",
      "2015-12-12        1\n",
      "2015-03-01        1\n",
      "2015-09-06        1\n",
      "2016-04-09        1\n",
      "2016-05-25        1\n",
      "2015-03-02        1\n",
      "2015-12-26        1\n",
      "2015-11-04        1\n",
      "2016-05-05        1\n",
      "2015-03-08        1\n",
      "2016-04-15        1\n",
      "2015-10-27        1\n",
      "2016-05-18        1\n",
      "2016-01-15        1\n",
      "2016-02-04        1\n",
      "2015-04-17        1\n",
      "2015-09-02        1\n",
      "Name: CreatedDate, dtype: int64\n",
      "ACCEPTED              63477\n",
      "DECLINED              14328\n",
      "DECLINED_BY_SYSTEM    13817\n",
      "CANCELED               5599\n",
      "Unknown                2775\n",
      "PENDING                   4\n",
      "Name: QuoteStatus, dtype: int64\n",
      "321       57166\n",
      "121       19671\n",
      "651        5598\n",
      "731        4644\n",
      "811        3192\n",
      "611        3128\n",
      "661        1986\n",
      "311        1340\n",
      "615         618\n",
      "814         503\n",
      "815         447\n",
      "614         440\n",
      "617         320\n",
      "126         267\n",
      "616         167\n",
      "127         136\n",
      "130          84\n",
      "621          81\n",
      "618          76\n",
      "619          25\n",
      "100000       23\n",
      "629          18\n",
      "656          15\n",
      "622          14\n",
      "129           9\n",
      "128           9\n",
      "100072        5\n",
      "100114        4\n",
      "100112        3\n",
      "100080        3\n",
      "100102        2\n",
      "635           2\n",
      "139           2\n",
      "100109        1\n",
      "0             1\n",
      "Name: SiteId, dtype: int64\n",
      "33226430    5\n",
      "33274993    5\n",
      "17489203    5\n",
      "25726500    5\n",
      "28538965    4\n",
      "37076164    4\n",
      "33168095    4\n",
      "24701406    3\n",
      "33142142    3\n",
      "33258459    3\n",
      "33337515    3\n",
      "33368163    3\n",
      "33410900    3\n",
      "33337223    3\n",
      "37937103    3\n",
      "23632735    3\n",
      "33326065    3\n",
      "33422840    3\n",
      "38081254    3\n",
      "33309790    3\n",
      "17129166    3\n",
      "33388729    3\n",
      "25457009    3\n",
      "16006414    3\n",
      "17472992    3\n",
      "23976715    3\n",
      "33332240    3\n",
      "24933128    3\n",
      "30359405    3\n",
      "33415060    3\n",
      "           ..\n",
      "25933084    1\n",
      "33271478    1\n",
      "27633983    1\n",
      "23964959    1\n",
      "24794400    1\n",
      "33232136    1\n",
      "28671237    1\n",
      "24272827    1\n",
      "23653623    1\n",
      "21374190    1\n",
      "25046255    1\n",
      "24564976    1\n",
      "25681570    1\n",
      "27642163    1\n",
      "17617382    1\n",
      "24311028    1\n",
      "24085888    1\n",
      "33350902    1\n",
      "33201401    1\n",
      "23819524    1\n",
      "25462010    1\n",
      "23508220    1\n",
      "27528337    1\n",
      "33203454    1\n",
      "24255530    1\n",
      "24990976    1\n",
      "33384463    1\n",
      "33183483    1\n",
      "33165210    1\n",
      "17432576    1\n",
      "Name: QuoteId, dtype: int64\n",
      "CONFIRMED                  66151\n",
      "DECLINED_BY_OWNER          14330\n",
      "DECLINED_BY_SYSTEM         13803\n",
      "CANCELLED                   4955\n",
      "UNCONFIRMED                  391\n",
      "CANCELLED_BY_TRAVELER        217\n",
      "BUILDING                      95\n",
      "UNCONFIRMED_BY_OWNER          34\n",
      "UNCONFIRMED_BY_TRAVELER       21\n",
      "[Unknown]                      3\n",
      "Name: ReservationStatusType, dtype: int64\n",
      " 2.0     51040\n",
      " 4.0     15933\n",
      " 6.0      7615\n",
      " 3.0      7601\n",
      " 5.0      4958\n",
      " 8.0      3656\n",
      " 1.0      2444\n",
      " 7.0      2067\n",
      " 10.0     1816\n",
      " 9.0       808\n",
      " 12.0      752\n",
      " 11.0      314\n",
      " 14.0      301\n",
      " 15.0      142\n",
      " 13.0      142\n",
      " 16.0      118\n",
      " 20.0       71\n",
      " 18.0       66\n",
      " 0.0        56\n",
      " 17.0       24\n",
      " 30.0       12\n",
      " 24.0       11\n",
      " 21.0        9\n",
      " 25.0        9\n",
      " 19.0        8\n",
      " 22.0        6\n",
      " 23.0        3\n",
      "NaN          3\n",
      " 26.0        3\n",
      " 28.0        3\n",
      " 32.0        2\n",
      " 35.0        1\n",
      " 40.0        1\n",
      " 36.0        1\n",
      " 41.0        1\n",
      " 34.0        1\n",
      " 33.0        1\n",
      " 27.0        1\n",
      "Name: AdultNum, dtype: int64\n",
      " 0.0     64570\n",
      " 2.0     14578\n",
      " 1.0      8192\n",
      " 3.0      5969\n",
      " 4.0      3899\n",
      " 5.0      1184\n",
      " 6.0       892\n",
      " 7.0       274\n",
      " 8.0       212\n",
      " 10.0       73\n",
      " 9.0        71\n",
      " 12.0       29\n",
      " 11.0       24\n",
      " 16.0        7\n",
      " 13.0        6\n",
      " 15.0        4\n",
      " 14.0        3\n",
      " 18.0        3\n",
      "NaN          3\n",
      " 22.0        2\n",
      " 30.0        1\n",
      " 17.0        1\n",
      " 19.0        1\n",
      " 20.0        1\n",
      " 25.0        1\n",
      "Name: ChildrenNum, dtype: int64\n",
      "FRBO         63435\n",
      "SuspectPM    18897\n",
      "PM           17668\n",
      "Name: PersonType, dtype: int64\n",
      "2015-06-30    191\n",
      "2015-06-25    181\n",
      "2015-06-18    178\n",
      "2015-06-02    174\n",
      "2015-03-26    174\n",
      "2015-04-28    170\n",
      "2015-05-11    167\n",
      "2015-06-29    166\n",
      "2015-06-05    161\n",
      "2015-06-26    160\n",
      "2015-06-24    160\n",
      "2015-05-21    158\n",
      "2015-06-01    153\n",
      "2015-05-20    153\n",
      "2015-05-26    152\n",
      "2015-07-08    152\n",
      "2015-07-09    151\n",
      "2015-07-14    151\n",
      "2015-06-04    150\n",
      "2015-04-23    148\n",
      "2015-04-21    147\n",
      "2015-04-20    147\n",
      "2015-06-16    146\n",
      "2015-06-15    145\n",
      "2015-06-08    145\n",
      "2015-07-07    144\n",
      "2015-05-18    143\n",
      "2015-07-02    142\n",
      "2015-03-23    141\n",
      "2015-01-06    140\n",
      "             ... \n",
      "2001-07-20      1\n",
      "2016-08-09      1\n",
      "2006-12-21      1\n",
      "2006-10-29      1\n",
      "2004-08-23      1\n",
      "2005-07-04      1\n",
      "2016-04-23      1\n",
      "1999-10-11      1\n",
      "2004-06-08      1\n",
      "2002-08-01      1\n",
      "2016-08-05      1\n",
      "1999-07-21      1\n",
      "2003-08-30      1\n",
      "2010-11-20      1\n",
      "2001-12-11      1\n",
      "2002-09-08      1\n",
      "2008-03-15      1\n",
      "2004-02-04      1\n",
      "2004-04-01      1\n",
      "2007-12-16      1\n",
      "2003-11-21      1\n",
      "2004-06-16      1\n",
      "1999-04-06      1\n",
      "2016-05-16      1\n",
      "2002-12-20      1\n",
      "2002-11-21      1\n",
      "2002-10-23      1\n",
      "2002-05-28      1\n",
      "2006-06-18      1\n",
      "2001-03-03      1\n",
      "Name: FirstLiveDate, dtype: int64\n"
     ]
    }
   ],
   "source": [
    "for i in df_dat.columns:\n",
    "    print pd.value_counts(df_dat[i], dropna=False)"
   ]
  },
  {
   "cell_type": "code",
   "execution_count": 50,
   "metadata": {
    "collapsed": true
   },
   "outputs": [],
   "source": [
    "feat_exist = ['About','Employer','Languages','School','HomeTown','SourceFacebookUserId','CompleteDate','CurrentPublicProfilePictureId','SiteId']"
   ]
  },
  {
   "cell_type": "code",
   "execution_count": 51,
   "metadata": {
    "collapsed": false
   },
   "outputs": [],
   "source": [
    "for i in feat_exist:\n",
    "    df_dat[i+'exist'] = df_dat[i].apply(lambda x: 1 if pd.notnull(x) else 0)"
   ]
  },
  {
   "cell_type": "code",
   "execution_count": 52,
   "metadata": {
    "collapsed": true
   },
   "outputs": [],
   "source": [
    "ohe_feats = ['BrandName','SupplyCountry','HomeAwayFamily','UserStatus','Gender','RegisteredFlag','ProfilePictureSource','DefaultProfilePictureFlag','PersonType','QuoteStatus']"
   ]
  },
  {
   "cell_type": "code",
   "execution_count": 53,
   "metadata": {
    "collapsed": true
   },
   "outputs": [],
   "source": [
    "for f in ohe_feats:\n",
    "    df_all_dummy = pd.get_dummies(df_dat[f], prefix=f)\n",
    "    df_dat = df_dat.drop([f], axis=1)\n",
    "    df_dat = pd.concat((df_dat, df_all_dummy), axis=1)"
   ]
  },
  {
   "cell_type": "code",
   "execution_count": 54,
   "metadata": {
    "collapsed": false
   },
   "outputs": [],
   "source": [
    "df_dat['AdultNum'] = df_dat['AdultNum'].interpolate()"
   ]
  },
  {
   "cell_type": "code",
   "execution_count": 55,
   "metadata": {
    "collapsed": true
   },
   "outputs": [],
   "source": [
    "ANlabel = []\n",
    "for i in range(15):\n",
    "    ANlabel.append('ANlabel'+str(i))"
   ]
  },
  {
   "cell_type": "code",
   "execution_count": 56,
   "metadata": {
    "collapsed": false
   },
   "outputs": [],
   "source": [
    "tef = pd.get_dummies(pd.cut(df_dat['AdultNum'], bins=15,labels=ANlabel),prefix='AdultNum', prefix_sep='_')"
   ]
  },
  {
   "cell_type": "code",
   "execution_count": 57,
   "metadata": {
    "collapsed": false
   },
   "outputs": [],
   "source": [
    "df_dat = pd.concat((df_dat, tef), axis=1)"
   ]
  },
  {
   "cell_type": "code",
   "execution_count": 58,
   "metadata": {
    "collapsed": true
   },
   "outputs": [],
   "source": [
    "df_dat['ChildrenNum'] = df_dat['ChildrenNum'].interpolate()"
   ]
  },
  {
   "cell_type": "code",
   "execution_count": 59,
   "metadata": {
    "collapsed": true
   },
   "outputs": [],
   "source": [
    "CNlabel = []\n",
    "for i in range(20):\n",
    "    CNlabel.append('CNlabel'+str(i))"
   ]
  },
  {
   "cell_type": "code",
   "execution_count": 60,
   "metadata": {
    "collapsed": false
   },
   "outputs": [],
   "source": [
    "ef = pd.get_dummies(pd.cut(df_dat['ChildrenNum'], bins=20,labels=CNlabel),prefix='ChildrenNum', prefix_sep='_')"
   ]
  },
  {
   "cell_type": "code",
   "execution_count": 61,
   "metadata": {
    "collapsed": true
   },
   "outputs": [],
   "source": [
    "df_dat = pd.concat((df_dat, ef), axis=1)"
   ]
  },
  {
   "cell_type": "code",
   "execution_count": 62,
   "metadata": {
    "collapsed": false
   },
   "outputs": [],
   "source": [
    "# for i in ef.columns:\n",
    "#     print pd.value_counts(ef[i])"
   ]
  },
  {
   "cell_type": "code",
   "execution_count": 63,
   "metadata": {
    "collapsed": false
   },
   "outputs": [],
   "source": [
    "df_dat['ReservationStatus_target'] = df_dat['ReservationStatusType'].apply(lambda x: 1 if x =='CONFIRMED' else 0)"
   ]
  },
  {
   "cell_type": "code",
   "execution_count": 64,
   "metadata": {
    "collapsed": false
   },
   "outputs": [
    {
     "data": {
      "text/plain": [
       "(100000, 130)"
      ]
     },
     "execution_count": 64,
     "metadata": {},
     "output_type": "execute_result"
    }
   ],
   "source": [
    "df_dat.shape"
   ]
  },
  {
   "cell_type": "code",
   "execution_count": 65,
   "metadata": {
    "collapsed": false
   },
   "outputs": [
    {
     "data": {
      "text/plain": [
       "False    637\n",
       "True      27\n",
       "Name: Employer, dtype: int64"
      ]
     },
     "execution_count": 65,
     "metadata": {},
     "output_type": "execute_result"
    }
   ],
   "source": [
    "pd.value_counts(df_dat.Employer.str.contains('retired'))"
   ]
  },
  {
   "cell_type": "code",
   "execution_count": 66,
   "metadata": {
    "collapsed": false
   },
   "outputs": [],
   "source": [
    "df_dat.Employer = df_dat.Employer.str.lower()"
   ]
  },
  {
   "cell_type": "code",
   "execution_count": 67,
   "metadata": {
    "collapsed": false
   },
   "outputs": [],
   "source": [
    "deep = pd.value_counts(df_dat.Employer)[:4]"
   ]
  },
  {
   "cell_type": "code",
   "execution_count": 68,
   "metadata": {
    "collapsed": true
   },
   "outputs": [],
   "source": [
    "deep_dict = deep.to_dict()"
   ]
  },
  {
   "cell_type": "code",
   "execution_count": 69,
   "metadata": {
    "collapsed": true
   },
   "outputs": [],
   "source": [
    "employer_cat = []"
   ]
  },
  {
   "cell_type": "code",
   "execution_count": 70,
   "metadata": {
    "collapsed": false
   },
   "outputs": [],
   "source": [
    "for i in deep_dict:\n",
    "    employer_cat.append(i)"
   ]
  },
  {
   "cell_type": "code",
   "execution_count": 71,
   "metadata": {
    "collapsed": false
   },
   "outputs": [
    {
     "name": "stdout",
     "output_type": "stream",
     "text": [
      "oracle\n",
      "self employed\n",
      "retired\n",
      "hospital\n"
     ]
    }
   ],
   "source": [
    "for j in employer_cat:\n",
    "    print j"
   ]
  },
  {
   "cell_type": "code",
   "execution_count": 72,
   "metadata": {
    "collapsed": false
   },
   "outputs": [],
   "source": [
    "for j in employer_cat:\n",
    "    df_dat[j+'emp_cat'] = df_dat['Employer'].apply(lambda x: 1 if x == j else 0)"
   ]
  },
  {
   "cell_type": "code",
   "execution_count": 73,
   "metadata": {
    "collapsed": false
   },
   "outputs": [
    {
     "data": {
      "text/plain": [
       "0    99953\n",
       "1       47\n",
       "Name: retiredemp_cat, dtype: int64"
      ]
     },
     "execution_count": 73,
     "metadata": {},
     "output_type": "execute_result"
    }
   ],
   "source": [
    "pd.value_counts(df_dat['retiredemp_cat'])"
   ]
  },
  {
   "cell_type": "code",
   "execution_count": 74,
   "metadata": {
    "collapsed": true
   },
   "outputs": [],
   "source": [
    "df_dat.Languages = df_dat.Languages.str.lower()"
   ]
  },
  {
   "cell_type": "code",
   "execution_count": 75,
   "metadata": {
    "collapsed": false
   },
   "outputs": [],
   "source": [
    "# df_dat = df_dat.iloc[:,1:129]"
   ]
  },
  {
   "cell_type": "code",
   "execution_count": 76,
   "metadata": {
    "collapsed": true
   },
   "outputs": [],
   "source": [
    "Language_cat = ['english','french','deutsch','italian','russian','spanish','none']"
   ]
  },
  {
   "cell_type": "code",
   "execution_count": 77,
   "metadata": {
    "collapsed": true
   },
   "outputs": [],
   "source": [
    "df_dat['Languages'] = df_dat.Languages.fillna('none')"
   ]
  },
  {
   "cell_type": "code",
   "execution_count": 78,
   "metadata": {
    "collapsed": false
   },
   "outputs": [],
   "source": [
    "for j in Language_cat:\n",
    "    df_dat[j+'lang_cat'] = df_dat['Languages'].str.contains(j).astype(int)"
   ]
  },
  {
   "cell_type": "code",
   "execution_count": 79,
   "metadata": {
    "collapsed": false
   },
   "outputs": [],
   "source": [
    "# df_dat.Languages.str.get_dummies()"
   ]
  },
  {
   "cell_type": "code",
   "execution_count": 80,
   "metadata": {
    "collapsed": false
   },
   "outputs": [],
   "source": [
    "# for j in Language_cat:\n",
    "#     print pd.value_counts(df_dat.Languages.str.contains(j))"
   ]
  },
  {
   "cell_type": "code",
   "execution_count": 81,
   "metadata": {
    "collapsed": true
   },
   "outputs": [],
   "source": [
    "# from sklearn import preprocessing"
   ]
  },
  {
   "cell_type": "code",
   "execution_count": 82,
   "metadata": {
    "collapsed": true
   },
   "outputs": [],
   "source": [
    "# le = preprocessing.LabelEncoder()"
   ]
  },
  {
   "cell_type": "code",
   "execution_count": 83,
   "metadata": {
    "collapsed": true
   },
   "outputs": [],
   "source": [
    "# for i in features:\n",
    "#     df[i] = le.fit_transform(df[i])"
   ]
  },
  {
   "cell_type": "code",
   "execution_count": 84,
   "metadata": {
    "collapsed": true
   },
   "outputs": [],
   "source": [
    "# df['hour'] = df['hour'].apply(lambda x: x[0:2])"
   ]
  },
  {
   "cell_type": "code",
   "execution_count": 85,
   "metadata": {
    "collapsed": true
   },
   "outputs": [],
   "source": [
    "date_feats = ['CreateDate','updateDate','CreatedDate'] #dates"
   ]
  },
  {
   "cell_type": "code",
   "execution_count": 86,
   "metadata": {
    "collapsed": true
   },
   "outputs": [],
   "source": [
    "date_feat = ['FirstLiveDate']"
   ]
  },
  {
   "cell_type": "code",
   "execution_count": 87,
   "metadata": {
    "collapsed": false
   },
   "outputs": [],
   "source": [
    "df_dat.FirstLiveDate = pd.to_datetime(df_dat.FirstLiveDate)"
   ]
  },
  {
   "cell_type": "code",
   "execution_count": 88,
   "metadata": {
    "collapsed": true
   },
   "outputs": [],
   "source": [
    "df_dat.FirstLiveDate = df_dat.FirstLiveDate.fillna(0)"
   ]
  },
  {
   "cell_type": "code",
   "execution_count": 89,
   "metadata": {
    "collapsed": false
   },
   "outputs": [],
   "source": [
    "for i in date_feats:\n",
    "    df_dat[i+'_day'] = df_dat[i].dt.day\n",
    "    df_dat[i+'_dayofweek'] = df_dat[i].dt.dayofweek\n",
    "    df_dat[i+'_dayofyear'] = df_dat[i].dt.dayofyear\n",
    "    df_dat[i+'_hour'] = df_dat[i].dt.hour\n",
    "    df_dat[i+'_minute'] = df_dat[i].dt.minute\n",
    "    df_dat[i+'_month'] = df_dat[i].dt.month\n",
    "    df_dat[i+'_quarter'] = df_dat[i].dt.quarter\n",
    "    df_dat[i+'_week'] = df_dat[i].dt.week\n",
    "    df_dat[i+'_year'] = df_dat[i].dt.year"
   ]
  },
  {
   "cell_type": "code",
   "execution_count": 90,
   "metadata": {
    "collapsed": true
   },
   "outputs": [],
   "source": [
    "for i in date_feat:\n",
    "    df_dat[i+'_day'] = df_dat[i].dt.day\n",
    "    df_dat[i+'_dayofweek'] = df_dat[i].dt.dayofweek\n",
    "    df_dat[i+'_dayofyear'] = df_dat[i].dt.dayofyear\n",
    "    df_dat[i+'_month'] = df_dat[i].dt.month\n",
    "    df_dat[i+'_quarter'] = df_dat[i].dt.quarter\n",
    "    df_dat[i+'_week'] = df_dat[i].dt.week\n",
    "    df_dat[i+'_year'] = df_dat[i].dt.year"
   ]
  },
  {
   "cell_type": "code",
   "execution_count": 91,
   "metadata": {
    "collapsed": true
   },
   "outputs": [],
   "source": [
    "df_final = df_dat.iloc[:,24:]"
   ]
  },
  {
   "cell_type": "code",
   "execution_count": 92,
   "metadata": {
    "collapsed": true
   },
   "outputs": [],
   "source": [
    "# df_dat[(df_dat['FirstLiveDate']).isnull()]"
   ]
  },
  {
   "cell_type": "code",
   "execution_count": 93,
   "metadata": {
    "collapsed": false
   },
   "outputs": [],
   "source": [
    "# for i in df_final.columns:\n",
    "#     print pd.value_counts(pd.isnull(df_final[i]))"
   ]
  },
  {
   "cell_type": "code",
   "execution_count": 94,
   "metadata": {
    "collapsed": true
   },
   "outputs": [],
   "source": [
    "for i in df_final.columns:\n",
    "    df_final[i] = df_final[i].astype('int64')"
   ]
  },
  {
   "cell_type": "code",
   "execution_count": 95,
   "metadata": {
    "collapsed": false
   },
   "outputs": [],
   "source": [
    "df_final_x = df_final.drop(['ReservationStatus_target'], axis=1)"
   ]
  },
  {
   "cell_type": "code",
   "execution_count": 96,
   "metadata": {
    "collapsed": true
   },
   "outputs": [],
   "source": [
    "df_final_y = df_final['ReservationStatus_target']"
   ]
  },
  {
   "cell_type": "code",
   "execution_count": 97,
   "metadata": {
    "collapsed": true
   },
   "outputs": [],
   "source": [
    "c = list(df_final_x.columns)"
   ]
  },
  {
   "cell_type": "code",
   "execution_count": 99,
   "metadata": {
    "collapsed": false
   },
   "outputs": [
    {
     "data": {
      "text/plain": [
       "RandomizedSearchCV(cv=None, error_score='raise',\n",
       "          estimator=RandomForestClassifier(bootstrap=True, class_weight=None, criterion='gini',\n",
       "            max_depth=None, max_features=None, max_leaf_nodes=None,\n",
       "            min_samples_leaf=1, min_samples_split=2,\n",
       "            min_weight_fraction_leaf=0.0, n_estimators=50, n_jobs=-1,\n",
       "            oob_score=False, random_state=None, verbose=0,\n",
       "            warm_start=False),\n",
       "          fit_params={}, iid=True, n_iter=2, n_jobs=1,\n",
       "          param_distributions={'min_samples_split': <scipy.stats._distn_infrastructure.rv_frozen object at 0x126338910>, 'criterion': ['gini', 'entropy'], 'min_samples_leaf': <scipy.stats._distn_infrastructure.rv_frozen object at 0x1263878d0>},\n",
       "          pre_dispatch='2*n_jobs', random_state=None, refit=True,\n",
       "          scoring=None, verbose=0)"
      ]
     },
     "execution_count": 99,
     "metadata": {},
     "output_type": "execute_result"
    }
   ],
   "source": [
    "forest = RandomForestClassifier(n_estimators=50,max_features= None, max_depth=None, n_jobs=-1)\n",
    "param_dist1 = {\"min_samples_split\": sp_randint(1, 11),\n",
    "              \"min_samples_leaf\": sp_randint(1, 11),\n",
    "              \"criterion\": [\"gini\", \"entropy\"]}\n",
    "\n",
    "# run randomized search\n",
    "n_iter_search = 2\n",
    "random_search = RandomizedSearchCV(forest, param_distributions=param_dist,\n",
    "                                   n_iter=n_iter_search)\n",
    "random_search.fit(df_final_x, df_final_y)"
   ]
  },
  {
   "cell_type": "code",
   "execution_count": 103,
   "metadata": {
    "collapsed": false
   },
   "outputs": [
    {
     "data": {
      "text/plain": [
       "[mean: 0.98179, std: 0.00197, params: {'min_samples_split': 8, 'criterion': 'entropy', 'min_samples_leaf': 3},\n",
       " mean: 0.98203, std: 0.00203, params: {'min_samples_split': 2, 'criterion': 'entropy', 'min_samples_leaf': 2}]"
      ]
     },
     "execution_count": 103,
     "metadata": {},
     "output_type": "execute_result"
    }
   ],
   "source": [
    "random_search.grid_scores_"
   ]
  },
  {
   "cell_type": "code",
   "execution_count": 126,
   "metadata": {
    "collapsed": false
   },
   "outputs": [
    {
     "data": {
      "text/plain": [
       "RandomizedSearchCV(cv=None, error_score='raise',\n",
       "          estimator=XGBClassifier(base_score=0.5, colsample_bylevel=1, colsample_bytree=1,\n",
       "       gamma=0, learning_rate=0.1, max_delta_step=0, max_depth=3,\n",
       "       min_child_weight=1, missing=None, n_estimators=100, nthread=-1,\n",
       "       objective='binary:logistic', reg_alpha=0, reg_lambda=1,\n",
       "       scale_pos_weight=1, seed=0, silent=True, subsample=1),\n",
       "          fit_params={}, iid=True, n_iter=2, n_jobs=1,\n",
       "          param_distributions={'n_estimators': <scipy.stats._distn_infrastructure.rv_frozen object at 0x126c82d10>, 'max_depth': <scipy.stats._distn_infrastructure.rv_frozen object at 0x126c82e50>, 'min_child_weight': <scipy.stats._distn_infrastructure.rv_frozen object at 0x126c82510>},\n",
       "          pre_dispatch='2*n_jobs', random_state=None, refit=True,\n",
       "          scoring=None, verbose=0)"
      ]
     },
     "execution_count": 126,
     "metadata": {},
     "output_type": "execute_result"
    }
   ],
   "source": [
    "xgg = XGBClassifier(learning_rate=0.1, subsample = 1)\n",
    "param_dist2 = {\"max_depth\":sp_randint(1,11), \"n_estimators\":sp_randint(25,100), \"min_child_weight\":sp_randint(2,8)}\n",
    "\n",
    "# run randomized search\n",
    "n_iter_search = 2\n",
    "random_search2 = RandomizedSearchCV(xgg, param_distributions=param_dist2,n_iter=n_iter_search)\n",
    "random_search2.fit(df_final_x, df_final_y)"
   ]
  },
  {
   "cell_type": "code",
   "execution_count": 127,
   "metadata": {
    "collapsed": false
   },
   "outputs": [
    {
     "data": {
      "text/plain": [
       "[mean: 0.98027, std: 0.00212, params: {'n_estimators': 78, 'max_depth': 1, 'min_child_weight': 5},\n",
       " mean: 0.98255, std: 0.00171, params: {'n_estimators': 27, 'max_depth': 6, 'min_child_weight': 4}]"
      ]
     },
     "execution_count": 127,
     "metadata": {},
     "output_type": "execute_result"
    }
   ],
   "source": [
    "random_search2.grid_scores_"
   ]
  },
  {
   "cell_type": "code",
   "execution_count": 115,
   "metadata": {
    "collapsed": false
   },
   "outputs": [],
   "source": [
    "scores_xg = cross_validation.cross_val_score(xgg, df_final_x, df_final_y, cv=3)"
   ]
  },
  {
   "cell_type": "code",
   "execution_count": 99,
   "metadata": {
    "collapsed": false
   },
   "outputs": [
    {
     "data": {
      "text/plain": [
       "XGBClassifier(base_score=0.5, colsample_bylevel=1, colsample_bytree=0.5,\n",
       "       gamma=0, learning_rate=0.3, max_delta_step=0, max_depth=6,\n",
       "       min_child_weight=1, missing=None, n_estimators=25, nthread=-1,\n",
       "       objective='binary:logistic', reg_alpha=0, reg_lambda=1,\n",
       "       scale_pos_weight=1, seed=0, silent=True, subsample=0.5)"
      ]
     },
     "execution_count": 99,
     "metadata": {},
     "output_type": "execute_result"
    }
   ],
   "source": [
    "xgg.fit(df_final_x,df_final_y,verbose=True)"
   ]
  },
  {
   "cell_type": "code",
   "execution_count": 102,
   "metadata": {
    "collapsed": true
   },
   "outputs": [],
   "source": [
    "ghj = pd.DataFrame(xgg.feature_importances_)"
   ]
  },
  {
   "cell_type": "code",
   "execution_count": 103,
   "metadata": {
    "collapsed": false
   },
   "outputs": [
    {
     "data": {
      "text/plain": [
       "[<matplotlib.text.Text at 0x127639ad0>,\n",
       " <matplotlib.text.Text at 0x127652690>,\n",
       " <matplotlib.text.Text at 0x126cab250>,\n",
       " <matplotlib.text.Text at 0x126cab990>,\n",
       " <matplotlib.text.Text at 0x126cb6110>,\n",
       " <matplotlib.text.Text at 0x126cb6850>,\n",
       " <matplotlib.text.Text at 0x126cb6d50>,\n",
       " <matplotlib.text.Text at 0x1168034d0>,\n",
       " <matplotlib.text.Text at 0x116803c10>,\n",
       " <matplotlib.text.Text at 0x11680c390>,\n",
       " <matplotlib.text.Text at 0x11680cad0>,\n",
       " <matplotlib.text.Text at 0x116816250>,\n",
       " <matplotlib.text.Text at 0x116816990>,\n",
       " <matplotlib.text.Text at 0x116822110>,\n",
       " <matplotlib.text.Text at 0x116822850>,\n",
       " <matplotlib.text.Text at 0x116822f90>,\n",
       " <matplotlib.text.Text at 0x11682b710>,\n",
       " <matplotlib.text.Text at 0x11682be50>,\n",
       " <matplotlib.text.Text at 0x1168375d0>,\n",
       " <matplotlib.text.Text at 0x116837d10>,\n",
       " <matplotlib.text.Text at 0x116840490>,\n",
       " <matplotlib.text.Text at 0x116840bd0>,\n",
       " <matplotlib.text.Text at 0x116849350>,\n",
       " <matplotlib.text.Text at 0x116849a90>,\n",
       " <matplotlib.text.Text at 0x116856210>,\n",
       " <matplotlib.text.Text at 0x116856950>,\n",
       " <matplotlib.text.Text at 0x11685e0d0>,\n",
       " <matplotlib.text.Text at 0x11685e810>,\n",
       " <matplotlib.text.Text at 0x11685ef50>,\n",
       " <matplotlib.text.Text at 0x1168696d0>,\n",
       " <matplotlib.text.Text at 0x116869e10>,\n",
       " <matplotlib.text.Text at 0x116874590>,\n",
       " <matplotlib.text.Text at 0x116874cd0>,\n",
       " <matplotlib.text.Text at 0x11687f450>,\n",
       " <matplotlib.text.Text at 0x11687fb90>,\n",
       " <matplotlib.text.Text at 0x116888310>,\n",
       " <matplotlib.text.Text at 0x116888a50>,\n",
       " <matplotlib.text.Text at 0x1168931d0>,\n",
       " <matplotlib.text.Text at 0x116893910>,\n",
       " <matplotlib.text.Text at 0x11689e090>,\n",
       " <matplotlib.text.Text at 0x11689e7d0>,\n",
       " <matplotlib.text.Text at 0x11689ef10>,\n",
       " <matplotlib.text.Text at 0x1168a9690>,\n",
       " <matplotlib.text.Text at 0x1168a9dd0>,\n",
       " <matplotlib.text.Text at 0x1168b2550>,\n",
       " <matplotlib.text.Text at 0x1168b2c90>,\n",
       " <matplotlib.text.Text at 0x1168bd410>,\n",
       " <matplotlib.text.Text at 0x1168bdb50>,\n",
       " <matplotlib.text.Text at 0x1168c62d0>,\n",
       " <matplotlib.text.Text at 0x1168c6a10>,\n",
       " <matplotlib.text.Text at 0x1168d0190>,\n",
       " <matplotlib.text.Text at 0x1168d08d0>,\n",
       " <matplotlib.text.Text at 0x1168db050>,\n",
       " <matplotlib.text.Text at 0x1168db790>,\n",
       " <matplotlib.text.Text at 0x1168dbed0>,\n",
       " <matplotlib.text.Text at 0x1168e5650>,\n",
       " <matplotlib.text.Text at 0x1168e5d90>,\n",
       " <matplotlib.text.Text at 0x1168f1510>,\n",
       " <matplotlib.text.Text at 0x1168f1c50>,\n",
       " <matplotlib.text.Text at 0x1168f93d0>,\n",
       " <matplotlib.text.Text at 0x1168f9b10>,\n",
       " <matplotlib.text.Text at 0x116f04290>,\n",
       " <matplotlib.text.Text at 0x116f049d0>,\n",
       " <matplotlib.text.Text at 0x116f0f150>,\n",
       " <matplotlib.text.Text at 0x116f0f890>,\n",
       " <matplotlib.text.Text at 0x116f0ffd0>,\n",
       " <matplotlib.text.Text at 0x116f1a750>,\n",
       " <matplotlib.text.Text at 0x116f1ae90>,\n",
       " <matplotlib.text.Text at 0x116f23610>,\n",
       " <matplotlib.text.Text at 0x116f23d50>,\n",
       " <matplotlib.text.Text at 0x116f2e4d0>,\n",
       " <matplotlib.text.Text at 0x116f2ec10>,\n",
       " <matplotlib.text.Text at 0x116f37390>,\n",
       " <matplotlib.text.Text at 0x116f37ad0>,\n",
       " <matplotlib.text.Text at 0x116f43250>,\n",
       " <matplotlib.text.Text at 0x116f43990>,\n",
       " <matplotlib.text.Text at 0x116f4d110>,\n",
       " <matplotlib.text.Text at 0x116f4d850>,\n",
       " <matplotlib.text.Text at 0x116f4df90>,\n",
       " <matplotlib.text.Text at 0x116f57710>,\n",
       " <matplotlib.text.Text at 0x116f57e50>,\n",
       " <matplotlib.text.Text at 0x116f625d0>,\n",
       " <matplotlib.text.Text at 0x116f62d10>,\n",
       " <matplotlib.text.Text at 0x116f6a490>,\n",
       " <matplotlib.text.Text at 0x116f6abd0>,\n",
       " <matplotlib.text.Text at 0x116f76350>,\n",
       " <matplotlib.text.Text at 0x116f76a90>,\n",
       " <matplotlib.text.Text at 0x116f7f210>,\n",
       " <matplotlib.text.Text at 0x116f7f950>,\n",
       " <matplotlib.text.Text at 0x116f8b0d0>,\n",
       " <matplotlib.text.Text at 0x116f8b810>,\n",
       " <matplotlib.text.Text at 0x116f8bf50>,\n",
       " <matplotlib.text.Text at 0x116f946d0>,\n",
       " <matplotlib.text.Text at 0x116f94e10>,\n",
       " <matplotlib.text.Text at 0x116f9f590>,\n",
       " <matplotlib.text.Text at 0x116f9fcd0>,\n",
       " <matplotlib.text.Text at 0x116faa450>,\n",
       " <matplotlib.text.Text at 0x116faab90>,\n",
       " <matplotlib.text.Text at 0x116fb5310>,\n",
       " <matplotlib.text.Text at 0x116fb5a50>,\n",
       " <matplotlib.text.Text at 0x116fbe1d0>,\n",
       " <matplotlib.text.Text at 0x116fbe910>,\n",
       " <matplotlib.text.Text at 0x116fc9090>,\n",
       " <matplotlib.text.Text at 0x116fc97d0>,\n",
       " <matplotlib.text.Text at 0x116fc9f10>,\n",
       " <matplotlib.text.Text at 0x116fd4690>,\n",
       " <matplotlib.text.Text at 0x116fd4dd0>,\n",
       " <matplotlib.text.Text at 0x116fde550>,\n",
       " <matplotlib.text.Text at 0x116fdec90>,\n",
       " <matplotlib.text.Text at 0x116fe7410>,\n",
       " <matplotlib.text.Text at 0x116fe7b50>,\n",
       " <matplotlib.text.Text at 0x116ff12d0>,\n",
       " <matplotlib.text.Text at 0x116ff1a10>,\n",
       " <matplotlib.text.Text at 0x116ffc190>,\n",
       " <matplotlib.text.Text at 0x116ffc8d0>,\n",
       " <matplotlib.text.Text at 0x11a906050>,\n",
       " <matplotlib.text.Text at 0x11a906790>,\n",
       " <matplotlib.text.Text at 0x11a906ed0>,\n",
       " <matplotlib.text.Text at 0x11a912650>,\n",
       " <matplotlib.text.Text at 0x11a912d90>,\n",
       " <matplotlib.text.Text at 0x11a91b510>,\n",
       " <matplotlib.text.Text at 0x11a91bc50>,\n",
       " <matplotlib.text.Text at 0x11a9253d0>,\n",
       " <matplotlib.text.Text at 0x11a925b10>,\n",
       " <matplotlib.text.Text at 0x11a931290>,\n",
       " <matplotlib.text.Text at 0x11a9319d0>,\n",
       " <matplotlib.text.Text at 0x11a93a150>,\n",
       " <matplotlib.text.Text at 0x11a93a890>,\n",
       " <matplotlib.text.Text at 0x11a93afd0>,\n",
       " <matplotlib.text.Text at 0x11a944750>,\n",
       " <matplotlib.text.Text at 0x11a944e90>,\n",
       " <matplotlib.text.Text at 0x11a950610>,\n",
       " <matplotlib.text.Text at 0x11a950d50>,\n",
       " <matplotlib.text.Text at 0x11a9584d0>,\n",
       " <matplotlib.text.Text at 0x11a958c10>,\n",
       " <matplotlib.text.Text at 0x11a962390>,\n",
       " <matplotlib.text.Text at 0x11a962ad0>,\n",
       " <matplotlib.text.Text at 0x11a96e250>,\n",
       " <matplotlib.text.Text at 0x11a96e990>,\n",
       " <matplotlib.text.Text at 0x11a979110>,\n",
       " <matplotlib.text.Text at 0x11a979850>,\n",
       " <matplotlib.text.Text at 0x11a979f90>,\n",
       " <matplotlib.text.Text at 0x11a982710>,\n",
       " <matplotlib.text.Text at 0x11a982e50>,\n",
       " <matplotlib.text.Text at 0x11a98d5d0>,\n",
       " <matplotlib.text.Text at 0x11a98dd10>,\n",
       " <matplotlib.text.Text at 0x11a999490>,\n",
       " <matplotlib.text.Text at 0x11a999bd0>,\n",
       " <matplotlib.text.Text at 0x11a9a2350>,\n",
       " <matplotlib.text.Text at 0x11a9a2a90>]"
      ]
     },
     "execution_count": 103,
     "metadata": {},
     "output_type": "execute_result"
    },
    {
     "data": {
      "image/png": "[encoded data removed]",
      "text/plain": [
       "<matplotlib.figure.Figure at 0x126259cd0>"
      ]
     },
     "metadata": {},
     "output_type": "display_data"
    }
   ],
   "source": [
    "ax = ghj.plot(figsize=(20,10), kind='bar', xticks=ghj)\n",
    "ax.set_xticklabels(c)"
   ]
  },
  {
   "cell_type": "code",
   "execution_count": 104,
   "metadata": {
    "collapsed": true
   },
   "outputs": [],
   "source": [
    "fig = ax.get_figure()\n",
    "fig.subplots_adjust(bottom=0.3)\n",
    "fig.savefig('feat_imp_xgb.pdf')"
   ]
  },
  {
   "cell_type": "code",
   "execution_count": 128,
   "metadata": {
    "collapsed": true
   },
   "outputs": [],
   "source": [
    "GB = GradientBoostingClassifier(n_estimators=100, random_state=0)"
   ]
  },
  {
   "cell_type": "code",
   "execution_count": 130,
   "metadata": {
    "collapsed": false
   },
   "outputs": [
    {
     "data": {
      "text/plain": [
       "RandomizedSearchCV(cv=None, error_score='raise',\n",
       "          estimator=GradientBoostingClassifier(init=None, learning_rate=0.1, loss='deviance',\n",
       "              max_depth=3, max_features=None, max_leaf_nodes=None,\n",
       "              min_samples_leaf=1, min_samples_split=2,\n",
       "              min_weight_fraction_leaf=0.0, n_estimators=100,\n",
       "              presort='auto', random_state=0, subsample=1.0, verbose=0,\n",
       "              warm_start=False),\n",
       "          fit_params={}, iid=True, n_iter=2, n_jobs=1,\n",
       "          param_distributions={'n_estimators': <scipy.stats._distn_infrastructure.rv_frozen object at 0x1267b3c50>, 'max_depth': <scipy.stats._distn_infrastructure.rv_frozen object at 0x1267b3990>},\n",
       "          pre_dispatch='2*n_jobs', random_state=None, refit=True,\n",
       "          scoring=None, verbose=0)"
      ]
     },
     "execution_count": 130,
     "metadata": {},
     "output_type": "execute_result"
    }
   ],
   "source": [
    "param_dist3 = {\"max_depth\":sp_randint(1,11), \"n_estimators\":sp_randint(25,100)}\n",
    "\n",
    "# run randomized search\n",
    "n_iter_search = 2\n",
    "random_search3 = RandomizedSearchCV(GB, param_distributions=param_dist3,n_iter=n_iter_search)\n",
    "random_search3.fit(df_final_x, df_final_y)"
   ]
  },
  {
   "cell_type": "code",
   "execution_count": 131,
   "metadata": {
    "collapsed": false
   },
   "outputs": [
    {
     "data": {
      "text/plain": [
       "[mean: 0.98169, std: 0.00185, params: {'n_estimators': 38, 'max_depth': 8},\n",
       " mean: 0.98228, std: 0.00189, params: {'n_estimators': 96, 'max_depth': 4}]"
      ]
     },
     "execution_count": 131,
     "metadata": {},
     "output_type": "execute_result"
    }
   ],
   "source": [
    "random_search3.grid_scores_"
   ]
  },
  {
   "cell_type": "code",
   "execution_count": 107,
   "metadata": {
    "collapsed": false
   },
   "outputs": [
    {
     "data": {
      "text/plain": [
       "GradientBoostingClassifier(init=None, learning_rate=0.1, loss='deviance',\n",
       "              max_depth=3, max_features=None, max_leaf_nodes=None,\n",
       "              min_samples_leaf=1, min_samples_split=2,\n",
       "              min_weight_fraction_leaf=0.0, n_estimators=500,\n",
       "              presort='auto', random_state=0, subsample=1.0, verbose=0,\n",
       "              warm_start=False)"
      ]
     },
     "execution_count": 107,
     "metadata": {},
     "output_type": "execute_result"
    }
   ],
   "source": [
    "GB.fit(df_final_x,df_final_y)"
   ]
  },
  {
   "cell_type": "code",
   "execution_count": 108,
   "metadata": {
    "collapsed": true
   },
   "outputs": [],
   "source": [
    "ghj = pd.DataFrame(GB.feature_importances_)"
   ]
  },
  {
   "cell_type": "code",
   "execution_count": 109,
   "metadata": {
    "collapsed": false
   },
   "outputs": [
    {
     "data": {
      "text/plain": [
       "[<matplotlib.text.Text at 0x12b7389d0>,\n",
       " <matplotlib.text.Text at 0x12b742610>,\n",
       " <matplotlib.text.Text at 0x12c0413d0>,\n",
       " <matplotlib.text.Text at 0x12c041b10>,\n",
       " <matplotlib.text.Text at 0x12c04b290>,\n",
       " <matplotlib.text.Text at 0x12c04b9d0>,\n",
       " <matplotlib.text.Text at 0x12c054150>,\n",
       " <matplotlib.text.Text at 0x12c054890>,\n",
       " <matplotlib.text.Text at 0x12c054fd0>,\n",
       " <matplotlib.text.Text at 0x12c05f750>,\n",
       " <matplotlib.text.Text at 0x12c05fe90>,\n",
       " <matplotlib.text.Text at 0x12c06a610>,\n",
       " <matplotlib.text.Text at 0x12c06ad50>,\n",
       " <matplotlib.text.Text at 0x12c0744d0>,\n",
       " <matplotlib.text.Text at 0x12c074c10>,\n",
       " <matplotlib.text.Text at 0x12c07d390>,\n",
       " <matplotlib.text.Text at 0x12c07dad0>,\n",
       " <matplotlib.text.Text at 0x12c089250>,\n",
       " <matplotlib.text.Text at 0x12c089990>,\n",
       " <matplotlib.text.Text at 0x12c092110>,\n",
       " <matplotlib.text.Text at 0x12c092850>,\n",
       " <matplotlib.text.Text at 0x12c092f90>,\n",
       " <matplotlib.text.Text at 0x12c09e710>,\n",
       " <matplotlib.text.Text at 0x12c09ee50>,\n",
       " <matplotlib.text.Text at 0x12c0a75d0>,\n",
       " <matplotlib.text.Text at 0x12c0a7d10>,\n",
       " <matplotlib.text.Text at 0x12c0b0490>,\n",
       " <matplotlib.text.Text at 0x12c0b0bd0>,\n",
       " <matplotlib.text.Text at 0x12c0bc350>,\n",
       " <matplotlib.text.Text at 0x12c0bca90>,\n",
       " <matplotlib.text.Text at 0x12c0c7210>,\n",
       " <matplotlib.text.Text at 0x12c0c7950>,\n",
       " <matplotlib.text.Text at 0x12c0d10d0>,\n",
       " <matplotlib.text.Text at 0x12c0d1810>,\n",
       " <matplotlib.text.Text at 0x12c0d1f50>,\n",
       " <matplotlib.text.Text at 0x12c0db6d0>,\n",
       " <matplotlib.text.Text at 0x12c0dbe10>,\n",
       " <matplotlib.text.Text at 0x12c0e7590>,\n",
       " <matplotlib.text.Text at 0x12c0e7cd0>,\n",
       " <matplotlib.text.Text at 0x12c0f0450>,\n",
       " <matplotlib.text.Text at 0x12c0f0b90>,\n",
       " <matplotlib.text.Text at 0x12c0f9310>,\n",
       " <matplotlib.text.Text at 0x12c0f9a50>,\n",
       " <matplotlib.text.Text at 0x12c1041d0>,\n",
       " <matplotlib.text.Text at 0x12c104910>,\n",
       " <matplotlib.text.Text at 0x12c10f090>,\n",
       " <matplotlib.text.Text at 0x12c10f7d0>,\n",
       " <matplotlib.text.Text at 0x12c10ff10>,\n",
       " <matplotlib.text.Text at 0x12c119690>,\n",
       " <matplotlib.text.Text at 0x12c119dd0>,\n",
       " <matplotlib.text.Text at 0x12c124550>,\n",
       " <matplotlib.text.Text at 0x12c124c90>,\n",
       " <matplotlib.text.Text at 0x12c12e410>,\n",
       " <matplotlib.text.Text at 0x12c12eb50>,\n",
       " <matplotlib.text.Text at 0x12c1372d0>,\n",
       " <matplotlib.text.Text at 0x12c137a10>,\n",
       " <matplotlib.text.Text at 0x12c144190>,\n",
       " <matplotlib.text.Text at 0x12c1448d0>,\n",
       " <matplotlib.text.Text at 0x12c14c050>,\n",
       " <matplotlib.text.Text at 0x12c14c790>,\n",
       " <matplotlib.text.Text at 0x12c14ced0>,\n",
       " <matplotlib.text.Text at 0x12c157650>,\n",
       " <matplotlib.text.Text at 0x12c157d90>,\n",
       " <matplotlib.text.Text at 0x12c162510>,\n",
       " <matplotlib.text.Text at 0x12c162c50>,\n",
       " <matplotlib.text.Text at 0x12c16b3d0>,\n",
       " <matplotlib.text.Text at 0x12c16bb10>,\n",
       " <matplotlib.text.Text at 0x12c175290>,\n",
       " <matplotlib.text.Text at 0x12c1759d0>,\n",
       " <matplotlib.text.Text at 0x12c180150>,\n",
       " <matplotlib.text.Text at 0x12c180890>,\n",
       " <matplotlib.text.Text at 0x12c180fd0>,\n",
       " <matplotlib.text.Text at 0x12c18c750>,\n",
       " <matplotlib.text.Text at 0x12c18ce90>,\n",
       " <matplotlib.text.Text at 0x12c195610>,\n",
       " <matplotlib.text.Text at 0x12c195d50>,\n",
       " <matplotlib.text.Text at 0x12c19e4d0>,\n",
       " <matplotlib.text.Text at 0x12c19ec10>,\n",
       " <matplotlib.text.Text at 0x12c1aa390>,\n",
       " <matplotlib.text.Text at 0x12c1aaad0>,\n",
       " <matplotlib.text.Text at 0x12c1b3250>,\n",
       " <matplotlib.text.Text at 0x12c1b3990>,\n",
       " <matplotlib.text.Text at 0x12c1bd110>,\n",
       " <matplotlib.text.Text at 0x12c1bd850>,\n",
       " <matplotlib.text.Text at 0x12c1bdf90>,\n",
       " <matplotlib.text.Text at 0x12c1c9710>,\n",
       " <matplotlib.text.Text at 0x12c1c9e50>,\n",
       " <matplotlib.text.Text at 0x12c1d25d0>,\n",
       " <matplotlib.text.Text at 0x12c1d2d10>,\n",
       " <matplotlib.text.Text at 0x12c1dc490>,\n",
       " <matplotlib.text.Text at 0x12c1dcbd0>,\n",
       " <matplotlib.text.Text at 0x12c1e7350>,\n",
       " <matplotlib.text.Text at 0x12c1e7a90>,\n",
       " <matplotlib.text.Text at 0x12c1f2210>,\n",
       " <matplotlib.text.Text at 0x12c1f2950>,\n",
       " <matplotlib.text.Text at 0x12c1fc0d0>,\n",
       " <matplotlib.text.Text at 0x12c1fc810>,\n",
       " <matplotlib.text.Text at 0x12c1fcf50>,\n",
       " <matplotlib.text.Text at 0x12c2086d0>,\n",
       " <matplotlib.text.Text at 0x12c208e10>,\n",
       " <matplotlib.text.Text at 0x12c212590>,\n",
       " <matplotlib.text.Text at 0x12c212cd0>,\n",
       " <matplotlib.text.Text at 0x12c21b450>,\n",
       " <matplotlib.text.Text at 0x12c21bb90>,\n",
       " <matplotlib.text.Text at 0x12c225310>,\n",
       " <matplotlib.text.Text at 0x12c225a50>,\n",
       " <matplotlib.text.Text at 0x12c22f1d0>,\n",
       " <matplotlib.text.Text at 0x12c22f910>,\n",
       " <matplotlib.text.Text at 0x12c239090>,\n",
       " <matplotlib.text.Text at 0x12c2397d0>,\n",
       " <matplotlib.text.Text at 0x12c239f10>,\n",
       " <matplotlib.text.Text at 0x12c245690>,\n",
       " <matplotlib.text.Text at 0x12c245dd0>,\n",
       " <matplotlib.text.Text at 0x12c250550>,\n",
       " <matplotlib.text.Text at 0x12c250c90>,\n",
       " <matplotlib.text.Text at 0x12c258410>,\n",
       " <matplotlib.text.Text at 0x11a9996d0>,\n",
       " <matplotlib.text.Text at 0x11a98d110>,\n",
       " <matplotlib.text.Text at 0x11a979dd0>,\n",
       " <matplotlib.text.Text at 0x11a96e650>,\n",
       " <matplotlib.text.Text at 0x11a958050>,\n",
       " <matplotlib.text.Text at 0x11a950fd0>,\n",
       " <matplotlib.text.Text at 0x11a944510>,\n",
       " <matplotlib.text.Text at 0x11a931610>,\n",
       " <matplotlib.text.Text at 0x11a925d50>,\n",
       " <matplotlib.text.Text at 0x11a91b750>,\n",
       " <matplotlib.text.Text at 0x11a906110>,\n",
       " <matplotlib.text.Text at 0x116ffce90>,\n",
       " <matplotlib.text.Text at 0x116ff1750>,\n",
       " <matplotlib.text.Text at 0x116fde0d0>,\n",
       " <matplotlib.text.Text at 0x116fd4b90>,\n",
       " <matplotlib.text.Text at 0x116fc9610>,\n",
       " <matplotlib.text.Text at 0x116fb5690>,\n",
       " <matplotlib.text.Text at 0x116faadd0>,\n",
       " <matplotlib.text.Text at 0x116f9f810>,\n",
       " <matplotlib.text.Text at 0x116f8b190>,\n",
       " <matplotlib.text.Text at 0x116f7fd50>,\n",
       " <matplotlib.text.Text at 0x116f76590>,\n",
       " <matplotlib.text.Text at 0x116f62210>,\n",
       " <matplotlib.text.Text at 0x116f57c10>,\n",
       " <matplotlib.text.Text at 0x116f4d6d0>,\n",
       " <matplotlib.text.Text at 0x116f37710>,\n",
       " <matplotlib.text.Text at 0x116f2ee50>,\n",
       " <matplotlib.text.Text at 0x116f233d0>,\n",
       " <matplotlib.text.Text at 0x116f0f410>,\n",
       " <matplotlib.text.Text at 0x116f04e50>,\n",
       " <matplotlib.text.Text at 0x1168f9650>,\n",
       " <matplotlib.text.Text at 0x1168e51d0>,\n",
       " <matplotlib.text.Text at 0x1168dbd10>,\n",
       " <matplotlib.text.Text at 0x1168d0590>]"
      ]
     },
     "execution_count": 109,
     "metadata": {},
     "output_type": "execute_result"
    },
    {
     "data": {
      "image/png": "[encoded data removed]",
      "text/plain": [
       "<matplotlib.figure.Figure at 0x12b6f7690>"
      ]
     },
     "metadata": {},
     "output_type": "display_data"
    }
   ],
   "source": [
    "ax = ghj.plot(figsize=(20,10), kind='bar', xticks=ghj)\n",
    "ax.set_xticklabels(c)"
   ]
  },
  {
   "cell_type": "code",
   "execution_count": 110,
   "metadata": {
    "collapsed": true
   },
   "outputs": [],
   "source": [
    "fig = ax.get_figure()\n",
    "fig.subplots_adjust(bottom=0.3)\n",
    "fig.savefig('feat_imp_GB.pdf')"
   ]
  },
  {
   "cell_type": "code",
   "execution_count": 111,
   "metadata": {
    "collapsed": true
   },
   "outputs": [],
   "source": [
    "RF_forest = RandomForestClassifier(n_estimators=500, random_state=0)\n",
    "E_Trees = ExtraTreesClassifier(n_estimators=500, random_state=0)"
   ]
  },
  {
   "cell_type": "code",
   "execution_count": 112,
   "metadata": {
    "collapsed": false
   },
   "outputs": [],
   "source": [
    "RF_forest.fit(df_final_x, df_final_y)\n",
    "importances = RF_forest.feature_importances_\n",
    "std = np.std([tree.feature_importances_ for tree in RF_forest.estimators_],axis=0)\n",
    "indices = np.argsort(importances)[::-1]\n",
    "fsad = pd.DataFrame()\n",
    "for f in range(df_final_x.shape[1]):\n",
    "    fsadq = pd.DataFrame({'Name':[c[indices[f]]],'Importance':[importances[indices[f]]]})\n",
    "    fsad = pd.concat([fsad,fsadq], axis=0)\n",
    "#Plot the feature importances of the forest\n",
    "# plt.figure()\n",
    "# plt.title(\"Feature importances\")\n",
    "# plt.bar(range(df_final_x.shape[1]), importances[indices],\n",
    "#        color=\"r\", yerr=std[indices], align=\"center\")\n",
    "# plt.xticks(range(df_final_x.shape[1]), indices)\n",
    "# plt.xlim([-1, df_final_x.shape[1]])\n",
    "# plt.show()"
   ]
  },
  {
   "cell_type": "code",
   "execution_count": 113,
   "metadata": {
    "collapsed": false
   },
   "outputs": [],
   "source": [
    "fsad.to_csv('feat_imp_RF.csv', index=None)"
   ]
  },
  {
   "cell_type": "code",
   "execution_count": 114,
   "metadata": {
    "collapsed": true
   },
   "outputs": [],
   "source": [
    "E_Trees.fit(df_final_x, df_final_y)\n",
    "importances = E_Trees.feature_importances_\n",
    "std = np.std([tree.feature_importances_ for tree in E_Trees.estimators_],axis=0)\n",
    "indices = np.argsort(importances)[::-1]\n",
    "fsad = pd.DataFrame()\n",
    "for f in range(df_final_x.shape[1]):\n",
    "    fsadq = pd.DataFrame({'Name':[c[indices[f]]],'Importance':[importances[indices[f]]]})\n",
    "    fsad = pd.concat([fsad,fsadq], axis=0)\n",
    "#Plot the feature importances of the forest\n",
    "# plt.figure()\n",
    "# plt.title(\"Feature importances\")\n",
    "# plt.bar(range(df_final_x.shape[1]), importances[indices],\n",
    "#        color=\"r\", yerr=std[indices], align=\"center\")\n",
    "# plt.xticks(range(df_final_x.shape[1]), indices)\n",
    "# plt.xlim([-1, df_final_x.shape[1]])\n",
    "# plt.show()"
   ]
  },
  {
   "cell_type": "code",
   "execution_count": 115,
   "metadata": {
    "collapsed": true
   },
   "outputs": [],
   "source": [
    "fsad.to_csv('feat_imp_E.csv', index=None)"
   ]
  },
  {
   "cell_type": "code",
   "execution_count": 116,
   "metadata": {
    "collapsed": false
   },
   "outputs": [],
   "source": [
    "alg_list = [E_Trees,RF_forest,GB,xgg]"
   ]
  },
  {
   "cell_type": "code",
   "execution_count": 117,
   "metadata": {
    "collapsed": false
   },
   "outputs": [
    {
     "name": "stdout",
     "output_type": "stream",
     "text": [
      "0.981390020296\n",
      "0.981580023096\n",
      "0.981140026496\n",
      "0.981170025896\n"
     ]
    }
   ],
   "source": [
    "for i in alg_list:\n",
    "# Compute the accuracy score for all the cross validation folds.  (much simpler than what we did before!)\n",
    "    scores = cross_validation.cross_val_score(i, df_final_x, df_final_y, cv=3)\n",
    "# Take the mean of the scores (because we have one for each fold)\n",
    "    print(scores.mean())"
   ]
  },
  {
   "cell_type": "code",
   "execution_count": 118,
   "metadata": {
    "collapsed": false
   },
   "outputs": [],
   "source": [
    "fscores = xgg.booster().get_fscore()"
   ]
  },
  {
   "cell_type": "code",
   "execution_count": 119,
   "metadata": {
    "collapsed": false
   },
   "outputs": [],
   "source": [
    "# importances = np.zeros(158)\n",
    "# for k, v in fscores.iteritems():\n",
    "#     importances[int(k[1:])] = v"
   ]
  },
  {
   "cell_type": "code",
   "execution_count": 120,
   "metadata": {
    "collapsed": true
   },
   "outputs": [],
   "source": [
    "import xgboost as xgb\n",
    "import re"
   ]
  },
  {
   "cell_type": "code",
   "execution_count": 121,
   "metadata": {
    "collapsed": true
   },
   "outputs": [],
   "source": [
    "def create_feature_map(features, filename):\n",
    "    outfile = open(filename, 'w')\n",
    "    i = 0\n",
    "    for feat in features:\n",
    "        outfile.write('{0}\\t{1}\\tq\\n'.format(i, feat))\n",
    "        i = i + 1\n",
    "    outfile.close()   "
   ]
  },
  {
   "cell_type": "code",
   "execution_count": 122,
   "metadata": {
    "collapsed": true
   },
   "outputs": [],
   "source": [
    "# feats=list(df_final_x.columns.values)[1:-1]"
   ]
  },
  {
   "cell_type": "code",
   "execution_count": 123,
   "metadata": {
    "collapsed": false
   },
   "outputs": [],
   "source": [
    "# df_final_x.rename(columns=lambda x: x.strip(' \\t\\n\\r'), inplace=True)"
   ]
  },
  {
   "cell_type": "code",
   "execution_count": 124,
   "metadata": {
    "collapsed": true
   },
   "outputs": [],
   "source": [
    "# df_final_x.columns = df_final_x.columns.str.strip(' \\t\\n\\r')"
   ]
  },
  {
   "cell_type": "code",
   "execution_count": 125,
   "metadata": {
    "collapsed": false
   },
   "outputs": [],
   "source": [
    "create_feature_map(xgg.booster().feature_names,'xgb.fmap')"
   ]
  },
  {
   "cell_type": "code",
   "execution_count": 126,
   "metadata": {
    "collapsed": false
   },
   "outputs": [],
   "source": [
    "feats = xgg.booster().feature_names"
   ]
  },
  {
   "cell_type": "code",
   "execution_count": 127,
   "metadata": {
    "collapsed": true
   },
   "outputs": [],
   "source": [
    "cleaned = [ re.sub(r'\\W+', '', x) for x in feats ]"
   ]
  },
  {
   "cell_type": "code",
   "execution_count": 128,
   "metadata": {
    "collapsed": true
   },
   "outputs": [],
   "source": [
    "create_feature_map(cleaned,'xgb.fmap')"
   ]
  },
  {
   "cell_type": "code",
   "execution_count": 129,
   "metadata": {
    "collapsed": true
   },
   "outputs": [],
   "source": [
    "xg_train = xgb.DMatrix( df_final_x, label=df_final_y)"
   ]
  },
  {
   "cell_type": "code",
   "execution_count": 130,
   "metadata": {
    "collapsed": true
   },
   "outputs": [],
   "source": [
    "param = {'max_depth':6, 'learning_rate':0.3, 'n_estimators':25, 'subsample':0.5, 'colsample_bytree':0.5, 'seed':0}"
   ]
  },
  {
   "cell_type": "code",
   "execution_count": 131,
   "metadata": {
    "collapsed": true
   },
   "outputs": [],
   "source": [
    "bst = xgb.train(param, xg_train)"
   ]
  },
  {
   "cell_type": "code",
   "execution_count": 132,
   "metadata": {
    "collapsed": true
   },
   "outputs": [],
   "source": [
    "def order_features_by_gains(bst, feature_map_file):\n",
    "    str_dump = bst.get_dump(feature_map_file,with_stats=True)\n",
    "    \n",
    "    tree_arr = []\n",
    "    for i_tree, tree in enumerate(str_dump):\n",
    "        arr_lvls=tree.split('\\n\\t')\n",
    "        a_tree = {}\n",
    "        for lvl in arr_lvls:\n",
    "            a_lvl ={}\n",
    "            dum1 = lvl.split(',')\n",
    "            if('leaf' in lvl):\n",
    "                dum1[0].replace('\\t','')\n",
    "                dum10 = dum1[0].split(':')\n",
    "                lvl_id = int(dum10[0])\n",
    "                dum11 = dum10[1].split('leaf=')\n",
    "                leaf = float(dum11[1])\n",
    "                \n",
    "                cover = float(dum1[1].replace('\\n','').split('cover=')[1])\n",
    "                a_lvl['lvl_id']=lvl_id\n",
    "                a_lvl['leaf']=leaf\n",
    "                a_lvl['cover']=cover\n",
    "            else:\n",
    "                dum10 = dum1[0].replace('\\t','').replace('\\n','')\n",
    "                dum11 = dum10.split(':')\n",
    "                lvl_id = int(dum11[0])\n",
    "                dum12 = dum11[1].split('yes=')\n",
    "                dum13 = dum12[0].replace('[','').replace(']','').split('<')\n",
    "                feat_name = dum13[0]\n",
    "                \n",
    "                yes_to = int(dum12[1])\n",
    "                no_to = int(dum1[1].split('no=')[1])\n",
    "                missing = int(dum1[2].split('missing=')[1])\n",
    "                gain = float(dum1[3].split('gain=')[1])\n",
    "                cover = float(dum1[4].split('cover=')[1])            \n",
    "                feat_thr = float(dum12[1])\n",
    "                \n",
    "                a_lvl['lvl_id']=lvl_id\n",
    "                a_lvl['feat_name']=feat_name\n",
    "                a_lvl['feat_thr'] = feat_thr\n",
    "                a_lvl['yes_to'] = yes_to\n",
    "                a_lvl['no_to']=no_to\n",
    "                a_lvl['missing'] = missing\n",
    "                a_lvl['gain']=gain\n",
    "                a_lvl['cover']=cover\n",
    "                \n",
    "            a_tree[str(lvl_id)] = a_lvl\n",
    "        tree_arr.append(a_tree)    \n",
    "    feat_vocabulary = {}\n",
    "    for tree in tree_arr:\n",
    "        for lvl in tree:\n",
    "            if('gain' in tree[lvl]):\n",
    "                feat_data = feat_vocabulary.setdefault(tree[lvl]['feat_name'],{'gain':tree[lvl]['gain'],'cover':tree[lvl]['cover']})\n",
    "                if(cmp(feat_data,{'gain':tree[lvl]['gain'],'cover':tree[lvl]['cover']})<>0):\n",
    "                    try:\n",
    "                        feat_vocabulary[tree[lvl]['feat_name']]['gain'] += tree[lvl]['gain']                    \n",
    "                        feat_vocabulary[tree[lvl]['feat_name']]['cover'] += tree[lvl]['cover']\n",
    "                    except:\n",
    "                        feat_vocabulary[tree[lvl]['feat_name']]['gain'] = tree[lvl]['gain']                    \n",
    "                        feat_vocabulary[tree[lvl]['feat_name']]['cover'] = tree[lvl]['cover']          \n",
    "    \n",
    "    sorted_feats = sorted(feat_vocabulary.items(),key=lambda k:k[1]['gain'], reverse=True)\n",
    "    return sorted_feats"
   ]
  },
  {
   "cell_type": "code",
   "execution_count": 133,
   "metadata": {
    "collapsed": false
   },
   "outputs": [],
   "source": [
    "sorted_feats = order_features_by_gains(bst,'xgb.fmap')"
   ]
  },
  {
   "cell_type": "code",
   "execution_count": 169,
   "metadata": {
    "collapsed": false
   },
   "outputs": [],
   "source": [
    "inf_gain = pd.concat([pd.DataFrame.from_dict(pd.DataFrame(sorted_feats)[1].to_dict()).T,pd.DataFrame(sorted_feats)[0]], axis=1)"
   ]
  },
  {
   "cell_type": "code",
   "execution_count": 170,
   "metadata": {
    "collapsed": false
   },
   "outputs": [],
   "source": [
    "inf_gain.rename(columns={0:'features'},inplace=True)"
   ]
  },
  {
   "cell_type": "code",
   "execution_count": 172,
   "metadata": {
    "collapsed": false
   },
   "outputs": [],
   "source": [
    "inf_gain.to_csv('inf_gain.csv', index=False)"
   ]
  },
  {
   "cell_type": "code",
   "execution_count": null,
   "metadata": {
    "collapsed": true
   },
   "outputs": [],
   "source": []
  },
  {
   "cell_type": "code",
   "execution_count": null,
   "metadata": {
    "collapsed": true
   },
   "outputs": [],
   "source": []
  }
 ],
 "metadata": {
  "anaconda-cloud": {},
  "kernelspec": {
   "display_name": "Python [Root]",
   "language": "python",
   "name": "Python [Root]"
  },
  "language_info": {
   "codemirror_mode": {
    "name": "ipython",
    "version": 2
   },
   "file_extension": ".py",
   "mimetype": "text/x-python",
   "name": "python",
   "nbconvert_exporter": "python",
   "pygments_lexer": "ipython2",
   "version": "2.7.12"
  }
 },
 "nbformat": 4,
 "nbformat_minor": 0
}
