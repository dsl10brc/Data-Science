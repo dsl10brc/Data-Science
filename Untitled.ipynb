{
 "cells": [
  {
   "cell_type": "code",
   "execution_count": null,
   "metadata": {
    "collapsed": true
   },
   "outputs": [],
   "source": [
    "import pandas as pd\n",
    "from sklearn.ensemble import (RandomForestClassifier,GradientBoostingClassifier,ExtraTreesClassifier)\n",
    "from scipy.stats import randint as sp_randint\n",
    "from sklearn.grid_search import RandomizedSearchCV\n",
    "from sqlalchemy import create_engine\n",
    "from xgboost.sklearn import XGBClassifier\n",
    "import numpy as np\n",
    "from matplotlib import pyplot as plt\n",
    "from sklearn import cross_validation"
   ]
  },
  {
   "cell_type": "code",
   "execution_count": null,
   "metadata": {
    "collapsed": true
   },
   "outputs": [],
   "source": [
    "pd.set_option('max_columns',400)\n",
    "username = all_creds[1].split(',')[0].strip()\n",
    "password = all_creds[1].split(',')[1].strip()"
   ]
  },
  {
   "cell_type": "code",
   "execution_count": null,
   "metadata": {
    "collapsed": true
   },
   "outputs": [],
   "source": [
    "db02 = create_engine('mssql+pyodbc://wvrgroup\\\\'+ username +':'+ password +'@dw02')"
   ]
  },
  {
   "cell_type": "code",
   "execution_count": null,
   "metadata": {
    "collapsed": true
   },
   "outputs": [],
   "source": [
    "db02_cnxn = db02.connect()"
   ]
  },
  {
   "cell_type": "code",
   "execution_count": null,
   "metadata": {
    "collapsed": true
   },
   "outputs": [],
   "source": [
    "df_vw_customer = pd.read_sql_query('''SELECT * FROM DW.dbo.QuoteFact qf \n",
    "JOIN DW.dbo.Quote q  ON q.QuoteId = qf.QuoteId\n",
    "JOIN DW.dbo.Customer c ON qf.CustomerId = c.CustomerId\n",
    "JOIN DW.dbo.Vw_Email e ON qf.TravelerId = e.EmailId\n",
    "JOIN DW.dbo.Brand b ON q.BrandId = b.BrandId\n",
    "JOIN DW.dbo.Users u ON e.EmailId = u.EmailId \n",
    "JOIN DW.dbo.Reservation r ON r.reservationId = qf.reservationId\n",
    "JOIN Dw.dbo.ReservationStatusType rst ON r.reservationstatusTypeId = rst.reservationStatusTypeId\n",
    "JOIN DW.dbo.ListingAttributes la ON la.ListingAttributesId = qf.ListingAttributesId\n",
    "JOIN HA_User.dbo.UserPublicProfile upp  ON  upp.UserId = u.UserId AND upp.ActiveFlag = 1\n",
    "JOIN HA_User.dbo.PublicProfilePicture ppp ON upp.CurrentPublicProfilePictureId = ppp.PublicProfilePictureId where u.UserName = 'deepsagar_lambor@yahoo.co.in';''',db02_cnxn)"
   ]
  },
  {
   "cell_type": "code",
   "execution_count": null,
   "metadata": {
    "collapsed": true
   },
   "outputs": [],
   "source": [
    "for i in list(df_vw_customer.columns):\n",
    "    try:\n",
    "        print i\n",
    "        fd = open('stats_vw_customer.csv','a')\n",
    "        fd.write(i+'\\n')\n",
    "        fd.close()\n",
    "        df_trial_queries = pd.read_sql_query(\"SELECT {} FROM dw.dbo.vw_customer\".format(i), db02_cnxn)\n",
    "        df_value_cnt = pd.value_counts(df_trial_queries[i], dropna=False)[1:40] #chnage counts of the number of unique categories\n",
    "        df_value_cnt.to_csv('stats_vw_customer.csv',encoding='utf-8' ,mode='a')\n",
    "    except:\n",
    "        pass"
   ]
  },
  {
   "cell_type": "code",
   "execution_count": 1,
   "metadata": {
    "collapsed": false
   },
   "outputs": [
    {
     "data": {
      "text/plain": [
       "[u'The', u'Fulton', u'County', u'Grand', u'Jury', ...]"
      ]
     },
     "execution_count": 1,
     "metadata": {},
     "output_type": "execute_result"
    }
   ],
   "source": [
    "from nltk.corpus import brown\n",
    "brown.words()"
   ]
  },
  {
   "cell_type": "code",
   "execution_count": null,
   "metadata": {
    "collapsed": true
   },
   "outputs": [],
   "source": []
  }
 ],
 "metadata": {
  "anaconda-cloud": {},
  "kernelspec": {
   "display_name": "Python [Root]",
   "language": "python",
   "name": "Python [Root]"
  },
  "language_info": {
   "codemirror_mode": {
    "name": "ipython",
    "version": 2
   },
   "file_extension": ".py",
   "mimetype": "text/x-python",
   "name": "python",
   "nbconvert_exporter": "python",
   "pygments_lexer": "ipython2",
   "version": "2.7.12"
  }
 },
 "nbformat": 4,
 "nbformat_minor": 0
}
